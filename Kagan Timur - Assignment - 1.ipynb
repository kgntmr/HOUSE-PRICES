{
 "cells": [
  {
   "cell_type": "code",
   "execution_count": 63,
   "metadata": {},
   "outputs": [],
   "source": [
    "import pandas as pd "
   ]
  },
  {
   "cell_type": "code",
   "execution_count": 64,
   "metadata": {},
   "outputs": [],
   "source": [
    "# Read the file into a DataFrame: df\n",
    "data = pd.read_csv('https://opendata.housing.gov.ie/dataset/8af4aa49-3b55-4ebc-a46b-517c47ee98eb/resource/c0d9d227-15ab-405a-9a80-dbb1d42e9ed5/download/form_41e-price-new-house-area-by_year_1.csv')"
   ]
  },
  {
   "cell_type": "code",
   "execution_count": 65,
   "metadata": {},
   "outputs": [
    {
     "data": {
      "text/plain": [
       "(78, 8)"
      ]
     },
     "execution_count": 65,
     "metadata": {},
     "output_type": "execute_result"
    }
   ],
   "source": [
    "data.shape  # Check the shape of the DataFrame"
   ]
  },
  {
   "cell_type": "code",
   "execution_count": 66,
   "metadata": {},
   "outputs": [
    {
     "data": {
      "text/html": [
       "<div>\n",
       "<style scoped>\n",
       "    .dataframe tbody tr th:only-of-type {\n",
       "        vertical-align: middle;\n",
       "    }\n",
       "\n",
       "    .dataframe tbody tr th {\n",
       "        vertical-align: top;\n",
       "    }\n",
       "\n",
       "    .dataframe thead th {\n",
       "        text-align: right;\n",
       "    }\n",
       "</style>\n",
       "<table border=\"1\" class=\"dataframe\">\n",
       "  <thead>\n",
       "    <tr style=\"text-align: right;\">\n",
       "      <th></th>\n",
       "      <th>YEAR</th>\n",
       "      <th>Average New House Price</th>\n",
       "      <th>Unnamed: 2</th>\n",
       "      <th>Unnamed: 3</th>\n",
       "      <th>Unnamed: 4</th>\n",
       "      <th>Unnamed: 5</th>\n",
       "      <th>Unnamed: 6</th>\n",
       "      <th>Unnamed: 7</th>\n",
       "    </tr>\n",
       "  </thead>\n",
       "  <tbody>\n",
       "    <tr>\n",
       "      <th>0</th>\n",
       "      <td>NaN</td>\n",
       "      <td>National</td>\n",
       "      <td>Dublin</td>\n",
       "      <td>Cork</td>\n",
       "      <td>Galway</td>\n",
       "      <td>Limerick</td>\n",
       "      <td>Waterford</td>\n",
       "      <td>Other Areas</td>\n",
       "    </tr>\n",
       "    <tr>\n",
       "      <th>1</th>\n",
       "      <td>1997.0</td>\n",
       "      <td>102,037</td>\n",
       "      <td>123,231</td>\n",
       "      <td>96,504</td>\n",
       "      <td>111,108</td>\n",
       "      <td>91,236</td>\n",
       "      <td>92,372</td>\n",
       "      <td>94,642</td>\n",
       "    </tr>\n",
       "    <tr>\n",
       "      <th>2</th>\n",
       "      <td>1998.0</td>\n",
       "      <td>124,368</td>\n",
       "      <td>159,558</td>\n",
       "      <td>112,166</td>\n",
       "      <td>118,917</td>\n",
       "      <td>104,327</td>\n",
       "      <td>108,789</td>\n",
       "      <td>116,639</td>\n",
       "    </tr>\n",
       "    <tr>\n",
       "      <th>3</th>\n",
       "      <td>1999.0</td>\n",
       "      <td>147,043</td>\n",
       "      <td>191,942</td>\n",
       "      <td>140,797</td>\n",
       "      <td>137,510</td>\n",
       "      <td>122,146</td>\n",
       "      <td>132,510</td>\n",
       "      <td>137,031</td>\n",
       "    </tr>\n",
       "    <tr>\n",
       "      <th>4</th>\n",
       "      <td>2000.0</td>\n",
       "      <td>166,155</td>\n",
       "      <td>216,433</td>\n",
       "      <td>164,535</td>\n",
       "      <td>160,972</td>\n",
       "      <td>146,838</td>\n",
       "      <td>145,087</td>\n",
       "      <td>154,141</td>\n",
       "    </tr>\n",
       "  </tbody>\n",
       "</table>\n",
       "</div>"
      ],
      "text/plain": [
       "     YEAR Average New House Price Unnamed: 2 Unnamed: 3 Unnamed: 4 Unnamed: 5  \\\n",
       "0     NaN                National    Dublin        Cork     Galway   Limerick   \n",
       "1  1997.0                 102,037    123,231     96,504    111,108     91,236   \n",
       "2  1998.0                 124,368    159,558    112,166    118,917    104,327   \n",
       "3  1999.0                 147,043    191,942    140,797    137,510    122,146   \n",
       "4  2000.0                 166,155    216,433    164,535    160,972    146,838   \n",
       "\n",
       "  Unnamed: 6   Unnamed: 7  \n",
       "0  Waterford  Other Areas  \n",
       "1     92,372       94,642  \n",
       "2    108,789      116,639  \n",
       "3    132,510      137,031  \n",
       "4    145,087      154,141  "
      ]
     },
     "execution_count": 66,
     "metadata": {},
     "output_type": "execute_result"
    }
   ],
   "source": [
    "data.head() # first 5 rows"
   ]
  },
  {
   "cell_type": "code",
   "execution_count": 67,
   "metadata": {},
   "outputs": [
    {
     "data": {
      "text/html": [
       "<div>\n",
       "<style scoped>\n",
       "    .dataframe tbody tr th:only-of-type {\n",
       "        vertical-align: middle;\n",
       "    }\n",
       "\n",
       "    .dataframe tbody tr th {\n",
       "        vertical-align: top;\n",
       "    }\n",
       "\n",
       "    .dataframe thead th {\n",
       "        text-align: right;\n",
       "    }\n",
       "</style>\n",
       "<table border=\"1\" class=\"dataframe\">\n",
       "  <thead>\n",
       "    <tr style=\"text-align: right;\">\n",
       "      <th></th>\n",
       "      <th>YEAR</th>\n",
       "      <th>Average New House Price</th>\n",
       "      <th>Unnamed: 2</th>\n",
       "      <th>Unnamed: 3</th>\n",
       "      <th>Unnamed: 4</th>\n",
       "      <th>Unnamed: 5</th>\n",
       "      <th>Unnamed: 6</th>\n",
       "      <th>Unnamed: 7</th>\n",
       "    </tr>\n",
       "  </thead>\n",
       "  <tbody>\n",
       "    <tr>\n",
       "      <th>73</th>\n",
       "      <td>NaN</td>\n",
       "      <td>NaN</td>\n",
       "      <td>NaN</td>\n",
       "      <td>NaN</td>\n",
       "      <td>NaN</td>\n",
       "      <td>NaN</td>\n",
       "      <td>NaN</td>\n",
       "      <td>NaN</td>\n",
       "    </tr>\n",
       "    <tr>\n",
       "      <th>74</th>\n",
       "      <td>NaN</td>\n",
       "      <td>NaN</td>\n",
       "      <td>NaN</td>\n",
       "      <td>NaN</td>\n",
       "      <td>NaN</td>\n",
       "      <td>NaN</td>\n",
       "      <td>NaN</td>\n",
       "      <td>NaN</td>\n",
       "    </tr>\n",
       "    <tr>\n",
       "      <th>75</th>\n",
       "      <td>NaN</td>\n",
       "      <td>NaN</td>\n",
       "      <td>NaN</td>\n",
       "      <td>NaN</td>\n",
       "      <td>NaN</td>\n",
       "      <td>NaN</td>\n",
       "      <td>NaN</td>\n",
       "      <td>NaN</td>\n",
       "    </tr>\n",
       "    <tr>\n",
       "      <th>76</th>\n",
       "      <td>NaN</td>\n",
       "      <td>NaN</td>\n",
       "      <td>NaN</td>\n",
       "      <td>NaN</td>\n",
       "      <td>NaN</td>\n",
       "      <td>NaN</td>\n",
       "      <td>NaN</td>\n",
       "      <td>NaN</td>\n",
       "    </tr>\n",
       "    <tr>\n",
       "      <th>77</th>\n",
       "      <td>NaN</td>\n",
       "      <td>NaN</td>\n",
       "      <td>NaN</td>\n",
       "      <td>NaN</td>\n",
       "      <td>NaN</td>\n",
       "      <td>NaN</td>\n",
       "      <td>NaN</td>\n",
       "      <td>NaN</td>\n",
       "    </tr>\n",
       "  </tbody>\n",
       "</table>\n",
       "</div>"
      ],
      "text/plain": [
       "    YEAR Average New House Price Unnamed: 2 Unnamed: 3 Unnamed: 4 Unnamed: 5  \\\n",
       "73   NaN                     NaN        NaN        NaN        NaN        NaN   \n",
       "74   NaN                     NaN        NaN        NaN        NaN        NaN   \n",
       "75   NaN                     NaN        NaN        NaN        NaN        NaN   \n",
       "76   NaN                     NaN        NaN        NaN        NaN        NaN   \n",
       "77   NaN                     NaN        NaN        NaN        NaN        NaN   \n",
       "\n",
       "   Unnamed: 6 Unnamed: 7  \n",
       "73        NaN        NaN  \n",
       "74        NaN        NaN  \n",
       "75        NaN        NaN  \n",
       "76        NaN        NaN  \n",
       "77        NaN        NaN  "
      ]
     },
     "execution_count": 67,
     "metadata": {},
     "output_type": "execute_result"
    }
   ],
   "source": [
    "data.tail() # last 5 rows"
   ]
  },
  {
   "cell_type": "code",
   "execution_count": 68,
   "metadata": {},
   "outputs": [
    {
     "data": {
      "text/html": [
       "<div>\n",
       "<style scoped>\n",
       "    .dataframe tbody tr th:only-of-type {\n",
       "        vertical-align: middle;\n",
       "    }\n",
       "\n",
       "    .dataframe tbody tr th {\n",
       "        vertical-align: top;\n",
       "    }\n",
       "\n",
       "    .dataframe thead th {\n",
       "        text-align: right;\n",
       "    }\n",
       "</style>\n",
       "<table border=\"1\" class=\"dataframe\">\n",
       "  <thead>\n",
       "    <tr style=\"text-align: right;\">\n",
       "      <th></th>\n",
       "      <th>YEAR</th>\n",
       "      <th>Average New House Price</th>\n",
       "      <th>Unnamed: 2</th>\n",
       "      <th>Unnamed: 3</th>\n",
       "      <th>Unnamed: 4</th>\n",
       "      <th>Unnamed: 5</th>\n",
       "      <th>Unnamed: 6</th>\n",
       "      <th>Unnamed: 7</th>\n",
       "    </tr>\n",
       "  </thead>\n",
       "  <tbody>\n",
       "    <tr>\n",
       "      <th>23</th>\n",
       "      <td>NaN</td>\n",
       "      <td>NaN</td>\n",
       "      <td>NaN</td>\n",
       "      <td>NaN</td>\n",
       "      <td>NaN</td>\n",
       "      <td>NaN</td>\n",
       "      <td>NaN</td>\n",
       "      <td>NaN</td>\n",
       "    </tr>\n",
       "    <tr>\n",
       "      <th>26</th>\n",
       "      <td>NaN</td>\n",
       "      <td>NaN</td>\n",
       "      <td>NaN</td>\n",
       "      <td>NaN</td>\n",
       "      <td>NaN</td>\n",
       "      <td>NaN</td>\n",
       "      <td>NaN</td>\n",
       "      <td>NaN</td>\n",
       "    </tr>\n",
       "    <tr>\n",
       "      <th>36</th>\n",
       "      <td>NaN</td>\n",
       "      <td>NaN</td>\n",
       "      <td>NaN</td>\n",
       "      <td>NaN</td>\n",
       "      <td>NaN</td>\n",
       "      <td>NaN</td>\n",
       "      <td>NaN</td>\n",
       "      <td>NaN</td>\n",
       "    </tr>\n",
       "    <tr>\n",
       "      <th>39</th>\n",
       "      <td>NaN</td>\n",
       "      <td>NaN</td>\n",
       "      <td>NaN</td>\n",
       "      <td>NaN</td>\n",
       "      <td>NaN</td>\n",
       "      <td>NaN</td>\n",
       "      <td>NaN</td>\n",
       "      <td>NaN</td>\n",
       "    </tr>\n",
       "    <tr>\n",
       "      <th>62</th>\n",
       "      <td>NaN</td>\n",
       "      <td>NaN</td>\n",
       "      <td>NaN</td>\n",
       "      <td>NaN</td>\n",
       "      <td>NaN</td>\n",
       "      <td>NaN</td>\n",
       "      <td>NaN</td>\n",
       "      <td>NaN</td>\n",
       "    </tr>\n",
       "    <tr>\n",
       "      <th>31</th>\n",
       "      <td>NaN</td>\n",
       "      <td>NaN</td>\n",
       "      <td>NaN</td>\n",
       "      <td>NaN</td>\n",
       "      <td>NaN</td>\n",
       "      <td>NaN</td>\n",
       "      <td>NaN</td>\n",
       "      <td>NaN</td>\n",
       "    </tr>\n",
       "    <tr>\n",
       "      <th>77</th>\n",
       "      <td>NaN</td>\n",
       "      <td>NaN</td>\n",
       "      <td>NaN</td>\n",
       "      <td>NaN</td>\n",
       "      <td>NaN</td>\n",
       "      <td>NaN</td>\n",
       "      <td>NaN</td>\n",
       "      <td>NaN</td>\n",
       "    </tr>\n",
       "    <tr>\n",
       "      <th>60</th>\n",
       "      <td>NaN</td>\n",
       "      <td>NaN</td>\n",
       "      <td>NaN</td>\n",
       "      <td>NaN</td>\n",
       "      <td>NaN</td>\n",
       "      <td>NaN</td>\n",
       "      <td>NaN</td>\n",
       "      <td>NaN</td>\n",
       "    </tr>\n",
       "    <tr>\n",
       "      <th>52</th>\n",
       "      <td>NaN</td>\n",
       "      <td>NaN</td>\n",
       "      <td>NaN</td>\n",
       "      <td>NaN</td>\n",
       "      <td>NaN</td>\n",
       "      <td>NaN</td>\n",
       "      <td>NaN</td>\n",
       "      <td>NaN</td>\n",
       "    </tr>\n",
       "    <tr>\n",
       "      <th>13</th>\n",
       "      <td>2009.0</td>\n",
       "      <td>246,315</td>\n",
       "      <td>294,906</td>\n",
       "      <td>255,978</td>\n",
       "      <td>239,370</td>\n",
       "      <td>262,654</td>\n",
       "      <td>228,332</td>\n",
       "      <td>234,696</td>\n",
       "    </tr>\n",
       "  </tbody>\n",
       "</table>\n",
       "</div>"
      ],
      "text/plain": [
       "      YEAR Average New House Price Unnamed: 2 Unnamed: 3 Unnamed: 4  \\\n",
       "23     NaN                     NaN        NaN        NaN        NaN   \n",
       "26     NaN                     NaN        NaN        NaN        NaN   \n",
       "36     NaN                     NaN        NaN        NaN        NaN   \n",
       "39     NaN                     NaN        NaN        NaN        NaN   \n",
       "62     NaN                     NaN        NaN        NaN        NaN   \n",
       "31     NaN                     NaN        NaN        NaN        NaN   \n",
       "77     NaN                     NaN        NaN        NaN        NaN   \n",
       "60     NaN                     NaN        NaN        NaN        NaN   \n",
       "52     NaN                     NaN        NaN        NaN        NaN   \n",
       "13  2009.0                 246,315    294,906    255,978    239,370   \n",
       "\n",
       "   Unnamed: 5 Unnamed: 6 Unnamed: 7  \n",
       "23        NaN        NaN        NaN  \n",
       "26        NaN        NaN        NaN  \n",
       "36        NaN        NaN        NaN  \n",
       "39        NaN        NaN        NaN  \n",
       "62        NaN        NaN        NaN  \n",
       "31        NaN        NaN        NaN  \n",
       "77        NaN        NaN        NaN  \n",
       "60        NaN        NaN        NaN  \n",
       "52        NaN        NaN        NaN  \n",
       "13    262,654    228,332    234,696  "
      ]
     },
     "execution_count": 68,
     "metadata": {},
     "output_type": "execute_result"
    }
   ],
   "source": [
    "data.sample(10) # 10 random rows"
   ]
  },
  {
   "cell_type": "code",
   "execution_count": 69,
   "metadata": {},
   "outputs": [
    {
     "data": {
      "text/html": [
       "<div>\n",
       "<style scoped>\n",
       "    .dataframe tbody tr th:only-of-type {\n",
       "        vertical-align: middle;\n",
       "    }\n",
       "\n",
       "    .dataframe tbody tr th {\n",
       "        vertical-align: top;\n",
       "    }\n",
       "\n",
       "    .dataframe thead th {\n",
       "        text-align: right;\n",
       "    }\n",
       "</style>\n",
       "<table border=\"1\" class=\"dataframe\">\n",
       "  <thead>\n",
       "    <tr style=\"text-align: right;\">\n",
       "      <th></th>\n",
       "      <th>YEAR</th>\n",
       "      <th>Average New House Price</th>\n",
       "      <th>Dublin</th>\n",
       "      <th>Cork</th>\n",
       "      <th>Galway</th>\n",
       "      <th>Limerick</th>\n",
       "      <th>Waterford</th>\n",
       "      <th>Other Areas</th>\n",
       "    </tr>\n",
       "  </thead>\n",
       "  <tbody>\n",
       "    <tr>\n",
       "      <th>0</th>\n",
       "      <td>NaN</td>\n",
       "      <td>National</td>\n",
       "      <td>Dublin</td>\n",
       "      <td>Cork</td>\n",
       "      <td>Galway</td>\n",
       "      <td>Limerick</td>\n",
       "      <td>Waterford</td>\n",
       "      <td>Other Areas</td>\n",
       "    </tr>\n",
       "  </tbody>\n",
       "</table>\n",
       "</div>"
      ],
      "text/plain": [
       "   YEAR Average New House Price  Dublin   Cork  Galway  Limerick  Waterford  \\\n",
       "0   NaN                National  Dublin   Cork  Galway  Limerick  Waterford   \n",
       "\n",
       "   Other Areas  \n",
       "0  Other Areas  "
      ]
     },
     "execution_count": 69,
     "metadata": {},
     "output_type": "execute_result"
    }
   ],
   "source": [
    "# create a dictionary with the new column names\n",
    "# the keys are the old column names and the values are the new column names \n",
    "# the new column names are the values in the first row of the DataFrame \n",
    "new_names = dict(zip(data.columns[2:], data.iloc[0, 2:]))\n",
    "\n",
    "# rename the columns using the dictionary3\n",
    "# from the second column onwards, rename the columns using the dictionary \n",
    "# Because their name is the same as the value in the first row, the first row is no longer needed\n",
    "\n",
    "data = data.rename(columns=new_names)\n",
    "\n",
    "# print the updated DataFrame\n",
    "data.head(1)"
   ]
  },
  {
   "cell_type": "code",
   "execution_count": 70,
   "metadata": {},
   "outputs": [],
   "source": [
    "\n",
    "data = data.drop(0) # drop the first row"
   ]
  },
  {
   "cell_type": "code",
   "execution_count": 71,
   "metadata": {},
   "outputs": [
    {
     "data": {
      "text/plain": [
       "YEAR                       58\n",
       "Average New House Price    58\n",
       "Dublin                     58\n",
       "Cork                       58\n",
       "Galway                     58\n",
       "Limerick                   58\n",
       "Waterford                  58\n",
       "Other Areas                58\n",
       "dtype: int64"
      ]
     },
     "execution_count": 71,
     "metadata": {},
     "output_type": "execute_result"
    }
   ],
   "source": [
    "data.isnull().sum() # check for missing values"
   ]
  },
  {
   "cell_type": "code",
   "execution_count": 72,
   "metadata": {},
   "outputs": [],
   "source": [
    "data = data.dropna() # drop rows with missing values"
   ]
  },
  {
   "cell_type": "code",
   "execution_count": 73,
   "metadata": {},
   "outputs": [
    {
     "name": "stdout",
     "output_type": "stream",
     "text": [
      "<class 'pandas.core.frame.DataFrame'>\n",
      "Int64Index: 19 entries, 1 to 19\n",
      "Data columns (total 8 columns):\n",
      " #   Column                   Non-Null Count  Dtype  \n",
      "---  ------                   --------------  -----  \n",
      " 0   YEAR                     19 non-null     float64\n",
      " 1   Average New House Price  19 non-null     object \n",
      " 2   Dublin                   19 non-null     object \n",
      " 3   Cork                     19 non-null     object \n",
      " 4   Galway                   19 non-null     object \n",
      " 5   Limerick                 19 non-null     object \n",
      " 6   Waterford                19 non-null     object \n",
      " 7   Other Areas              19 non-null     object \n",
      "dtypes: float64(1), object(7)\n",
      "memory usage: 1.3+ KB\n"
     ]
    }
   ],
   "source": [
    "data.info() # check the data types of the columns"
   ]
  },
  {
   "cell_type": "code",
   "execution_count": 74,
   "metadata": {},
   "outputs": [],
   "source": [
    "data[\"YEAR\"] = data['YEAR'].astype(int) # convert the YEAR column to integer type (int64) data[\"YEAR\"].dtype # check the data type of the YEAR column"
   ]
  },
  {
   "cell_type": "markdown",
   "metadata": {},
   "source": [
    "In my \"data\" DataFrame the numaric values have \",\" instead of \".\" and it makes non-integer or float values.\n",
    "First I will make them string after convert the \",\" into \".\"\n",
    "At the end I will be able to convert my numerical values integer or float from string.\n",
    "Additionally the \"Dublin \" has a space at the end I will change that too for easier analysis."
   ]
  },
  {
   "cell_type": "code",
   "execution_count": 75,
   "metadata": {},
   "outputs": [],
   "source": [
    "# Convert columns to float type and replace commas with periods\n",
    "cols_to_convert = [\"Average New House Price\", \"Dublin \", \"Cork\", \"Galway\", \"Limerick\", \"Waterford\", \"Other Areas\"]\n",
    "for col in cols_to_convert:\n",
    "    data[col] = data[col].str.replace(\",\", \".\").astype(float)\n",
    "    \n",
    "# Rename Dublin column to remove trailing space\n",
    "data.rename(columns={'Dublin ': 'Dublin'}, inplace=True)\n"
   ]
  },
  {
   "cell_type": "code",
   "execution_count": 76,
   "metadata": {},
   "outputs": [
    {
     "name": "stdout",
     "output_type": "stream",
     "text": [
      "<class 'pandas.core.frame.DataFrame'>\n",
      "Int64Index: 19 entries, 1 to 19\n",
      "Data columns (total 8 columns):\n",
      " #   Column                   Non-Null Count  Dtype  \n",
      "---  ------                   --------------  -----  \n",
      " 0   YEAR                     19 non-null     int64  \n",
      " 1   Average New House Price  19 non-null     float64\n",
      " 2   Dublin                   19 non-null     float64\n",
      " 3   Cork                     19 non-null     float64\n",
      " 4   Galway                   19 non-null     float64\n",
      " 5   Limerick                 19 non-null     float64\n",
      " 6   Waterford                19 non-null     float64\n",
      " 7   Other Areas              19 non-null     float64\n",
      "dtypes: float64(7), int64(1)\n",
      "memory usage: 1.3 KB\n"
     ]
    }
   ],
   "source": [
    "data.info() # check the data types of the columns"
   ]
  },
  {
   "cell_type": "code",
   "execution_count": 77,
   "metadata": {},
   "outputs": [],
   "source": [
    "data1 = pd.read_csv('IRL.csv') # I have gathered this data from: https://data.worldbank.org/"
   ]
  },
  {
   "cell_type": "code",
   "execution_count": 78,
   "metadata": {},
   "outputs": [
    {
     "data": {
      "text/html": [
       "<div>\n",
       "<style scoped>\n",
       "    .dataframe tbody tr th:only-of-type {\n",
       "        vertical-align: middle;\n",
       "    }\n",
       "\n",
       "    .dataframe tbody tr th {\n",
       "        vertical-align: top;\n",
       "    }\n",
       "\n",
       "    .dataframe thead th {\n",
       "        text-align: right;\n",
       "    }\n",
       "</style>\n",
       "<table border=\"1\" class=\"dataframe\">\n",
       "  <thead>\n",
       "    <tr style=\"text-align: right;\">\n",
       "      <th></th>\n",
       "      <th>YEAR</th>\n",
       "      <th>1997</th>\n",
       "      <th>1998</th>\n",
       "      <th>1999</th>\n",
       "      <th>2000</th>\n",
       "      <th>2001</th>\n",
       "      <th>2002</th>\n",
       "      <th>2003</th>\n",
       "      <th>2004</th>\n",
       "      <th>2005</th>\n",
       "      <th>2006</th>\n",
       "      <th>2007</th>\n",
       "      <th>2008</th>\n",
       "      <th>2009</th>\n",
       "      <th>2010</th>\n",
       "      <th>2011</th>\n",
       "      <th>2012</th>\n",
       "      <th>2013</th>\n",
       "      <th>2014</th>\n",
       "      <th>2015</th>\n",
       "    </tr>\n",
       "  </thead>\n",
       "  <tbody>\n",
       "    <tr>\n",
       "      <th>0</th>\n",
       "      <td>Population, total</td>\n",
       "      <td>3.674171e+06</td>\n",
       "      <td>3.712696e+06</td>\n",
       "      <td>3.754786e+06</td>\n",
       "      <td>3.805174e+06</td>\n",
       "      <td>3.866243e+06</td>\n",
       "      <td>3.931947e+06</td>\n",
       "      <td>3.996521e+06</td>\n",
       "      <td>4.070262e+06</td>\n",
       "      <td>4.159914e+06</td>\n",
       "      <td>4.273591e+06</td>\n",
       "      <td>4.398942e+06</td>\n",
       "      <td>4.489544e+06</td>\n",
       "      <td>4.535375e+06</td>\n",
       "      <td>4.560155e+06</td>\n",
       "      <td>4.580084e+06</td>\n",
       "      <td>4.599533e+06</td>\n",
       "      <td>4.623816e+06</td>\n",
       "      <td>4.657740e+06</td>\n",
       "      <td>4.701957e+06</td>\n",
       "    </tr>\n",
       "    <tr>\n",
       "      <th>1</th>\n",
       "      <td>Interest rate spread (lending rate minus depos...</td>\n",
       "      <td>6.900000e+00</td>\n",
       "      <td>5.850000e+00</td>\n",
       "      <td>5.600000e+00</td>\n",
       "      <td>6.090000e+00</td>\n",
       "      <td>6.900000e+00</td>\n",
       "      <td>4.700000e+00</td>\n",
       "      <td>4.200000e+00</td>\n",
       "      <td>3.490000e+00</td>\n",
       "      <td>3.650000e+00</td>\n",
       "      <td>4.860000e+00</td>\n",
       "      <td>5.460000e+00</td>\n",
       "      <td>5.860000e+00</td>\n",
       "      <td>4.160000e+00</td>\n",
       "      <td>4.020000e+00</td>\n",
       "      <td>4.420000e+00</td>\n",
       "      <td>4.330000e+00</td>\n",
       "      <td>4.380000e+00</td>\n",
       "      <td>4.200000e+00</td>\n",
       "      <td>4.050000e+00</td>\n",
       "    </tr>\n",
       "    <tr>\n",
       "      <th>2</th>\n",
       "      <td>Inflation, consumer prices (annual %)</td>\n",
       "      <td>1.525605e+00</td>\n",
       "      <td>2.415518e+00</td>\n",
       "      <td>1.631924e+00</td>\n",
       "      <td>5.590717e+00</td>\n",
       "      <td>4.872905e+00</td>\n",
       "      <td>4.614733e+00</td>\n",
       "      <td>3.490490e+00</td>\n",
       "      <td>2.199629e+00</td>\n",
       "      <td>2.429692e+00</td>\n",
       "      <td>3.931640e+00</td>\n",
       "      <td>4.897116e+00</td>\n",
       "      <td>4.060305e+00</td>\n",
       "      <td>-4.478103e+00</td>\n",
       "      <td>-9.220958e-01</td>\n",
       "      <td>2.557189e+00</td>\n",
       "      <td>1.696209e+00</td>\n",
       "      <td>5.087149e-01</td>\n",
       "      <td>1.825423e-01</td>\n",
       "      <td>-2.898791e-01</td>\n",
       "    </tr>\n",
       "  </tbody>\n",
       "</table>\n",
       "</div>"
      ],
      "text/plain": [
       "                                                YEAR          1997  \\\n",
       "0                                  Population, total  3.674171e+06   \n",
       "1  Interest rate spread (lending rate minus depos...  6.900000e+00   \n",
       "2              Inflation, consumer prices (annual %)  1.525605e+00   \n",
       "\n",
       "           1998          1999          2000          2001          2002  \\\n",
       "0  3.712696e+06  3.754786e+06  3.805174e+06  3.866243e+06  3.931947e+06   \n",
       "1  5.850000e+00  5.600000e+00  6.090000e+00  6.900000e+00  4.700000e+00   \n",
       "2  2.415518e+00  1.631924e+00  5.590717e+00  4.872905e+00  4.614733e+00   \n",
       "\n",
       "           2003          2004          2005          2006          2007  \\\n",
       "0  3.996521e+06  4.070262e+06  4.159914e+06  4.273591e+06  4.398942e+06   \n",
       "1  4.200000e+00  3.490000e+00  3.650000e+00  4.860000e+00  5.460000e+00   \n",
       "2  3.490490e+00  2.199629e+00  2.429692e+00  3.931640e+00  4.897116e+00   \n",
       "\n",
       "           2008          2009          2010          2011          2012  \\\n",
       "0  4.489544e+06  4.535375e+06  4.560155e+06  4.580084e+06  4.599533e+06   \n",
       "1  5.860000e+00  4.160000e+00  4.020000e+00  4.420000e+00  4.330000e+00   \n",
       "2  4.060305e+00 -4.478103e+00 -9.220958e-01  2.557189e+00  1.696209e+00   \n",
       "\n",
       "           2013          2014          2015  \n",
       "0  4.623816e+06  4.657740e+06  4.701957e+06  \n",
       "1  4.380000e+00  4.200000e+00  4.050000e+00  \n",
       "2  5.087149e-01  1.825423e-01 -2.898791e-01  "
      ]
     },
     "execution_count": 78,
     "metadata": {},
     "output_type": "execute_result"
    }
   ],
   "source": [
    "data1.head() # display first 5 rows"
   ]
  },
  {
   "cell_type": "code",
   "execution_count": 79,
   "metadata": {},
   "outputs": [
    {
     "data": {
      "text/html": [
       "<div>\n",
       "<style scoped>\n",
       "    .dataframe tbody tr th:only-of-type {\n",
       "        vertical-align: middle;\n",
       "    }\n",
       "\n",
       "    .dataframe tbody tr th {\n",
       "        vertical-align: top;\n",
       "    }\n",
       "\n",
       "    .dataframe thead th {\n",
       "        text-align: right;\n",
       "    }\n",
       "</style>\n",
       "<table border=\"1\" class=\"dataframe\">\n",
       "  <thead>\n",
       "    <tr style=\"text-align: right;\">\n",
       "      <th></th>\n",
       "      <th>0</th>\n",
       "      <th>1</th>\n",
       "      <th>2</th>\n",
       "    </tr>\n",
       "  </thead>\n",
       "  <tbody>\n",
       "    <tr>\n",
       "      <th>YEAR</th>\n",
       "      <td>Population, total</td>\n",
       "      <td>Interest rate spread (lending rate minus depos...</td>\n",
       "      <td>Inflation, consumer prices (annual %)</td>\n",
       "    </tr>\n",
       "    <tr>\n",
       "      <th>1997</th>\n",
       "      <td>3674171.0</td>\n",
       "      <td>6.9</td>\n",
       "      <td>1.525605</td>\n",
       "    </tr>\n",
       "    <tr>\n",
       "      <th>1998</th>\n",
       "      <td>3712696.0</td>\n",
       "      <td>5.85</td>\n",
       "      <td>2.415518</td>\n",
       "    </tr>\n",
       "    <tr>\n",
       "      <th>1999</th>\n",
       "      <td>3754786.0</td>\n",
       "      <td>5.6</td>\n",
       "      <td>1.631924</td>\n",
       "    </tr>\n",
       "    <tr>\n",
       "      <th>2000</th>\n",
       "      <td>3805174.0</td>\n",
       "      <td>6.09</td>\n",
       "      <td>5.590717</td>\n",
       "    </tr>\n",
       "    <tr>\n",
       "      <th>2001</th>\n",
       "      <td>3866243.0</td>\n",
       "      <td>6.9</td>\n",
       "      <td>4.872905</td>\n",
       "    </tr>\n",
       "    <tr>\n",
       "      <th>2002</th>\n",
       "      <td>3931947.0</td>\n",
       "      <td>4.7</td>\n",
       "      <td>4.614733</td>\n",
       "    </tr>\n",
       "    <tr>\n",
       "      <th>2003</th>\n",
       "      <td>3996521.0</td>\n",
       "      <td>4.2</td>\n",
       "      <td>3.49049</td>\n",
       "    </tr>\n",
       "    <tr>\n",
       "      <th>2004</th>\n",
       "      <td>4070262.0</td>\n",
       "      <td>3.49</td>\n",
       "      <td>2.199629</td>\n",
       "    </tr>\n",
       "    <tr>\n",
       "      <th>2005</th>\n",
       "      <td>4159914.0</td>\n",
       "      <td>3.65</td>\n",
       "      <td>2.429692</td>\n",
       "    </tr>\n",
       "    <tr>\n",
       "      <th>2006</th>\n",
       "      <td>4273591.0</td>\n",
       "      <td>4.86</td>\n",
       "      <td>3.93164</td>\n",
       "    </tr>\n",
       "    <tr>\n",
       "      <th>2007</th>\n",
       "      <td>4398942.0</td>\n",
       "      <td>5.46</td>\n",
       "      <td>4.897116</td>\n",
       "    </tr>\n",
       "    <tr>\n",
       "      <th>2008</th>\n",
       "      <td>4489544.0</td>\n",
       "      <td>5.86</td>\n",
       "      <td>4.060305</td>\n",
       "    </tr>\n",
       "    <tr>\n",
       "      <th>2009</th>\n",
       "      <td>4535375.0</td>\n",
       "      <td>4.16</td>\n",
       "      <td>-4.478103</td>\n",
       "    </tr>\n",
       "    <tr>\n",
       "      <th>2010</th>\n",
       "      <td>4560155.0</td>\n",
       "      <td>4.02</td>\n",
       "      <td>-0.922096</td>\n",
       "    </tr>\n",
       "    <tr>\n",
       "      <th>2011</th>\n",
       "      <td>4580084.0</td>\n",
       "      <td>4.42</td>\n",
       "      <td>2.557189</td>\n",
       "    </tr>\n",
       "    <tr>\n",
       "      <th>2012</th>\n",
       "      <td>4599533.0</td>\n",
       "      <td>4.33</td>\n",
       "      <td>1.696209</td>\n",
       "    </tr>\n",
       "    <tr>\n",
       "      <th>2013</th>\n",
       "      <td>4623816.0</td>\n",
       "      <td>4.38</td>\n",
       "      <td>0.508715</td>\n",
       "    </tr>\n",
       "    <tr>\n",
       "      <th>2014</th>\n",
       "      <td>4657740.0</td>\n",
       "      <td>4.2</td>\n",
       "      <td>0.182542</td>\n",
       "    </tr>\n",
       "    <tr>\n",
       "      <th>2015</th>\n",
       "      <td>4701957.0</td>\n",
       "      <td>4.05</td>\n",
       "      <td>-0.289879</td>\n",
       "    </tr>\n",
       "  </tbody>\n",
       "</table>\n",
       "</div>"
      ],
      "text/plain": [
       "                      0                                                  1  \\\n",
       "YEAR  Population, total  Interest rate spread (lending rate minus depos...   \n",
       "1997          3674171.0                                                6.9   \n",
       "1998          3712696.0                                               5.85   \n",
       "1999          3754786.0                                                5.6   \n",
       "2000          3805174.0                                               6.09   \n",
       "2001          3866243.0                                                6.9   \n",
       "2002          3931947.0                                                4.7   \n",
       "2003          3996521.0                                                4.2   \n",
       "2004          4070262.0                                               3.49   \n",
       "2005          4159914.0                                               3.65   \n",
       "2006          4273591.0                                               4.86   \n",
       "2007          4398942.0                                               5.46   \n",
       "2008          4489544.0                                               5.86   \n",
       "2009          4535375.0                                               4.16   \n",
       "2010          4560155.0                                               4.02   \n",
       "2011          4580084.0                                               4.42   \n",
       "2012          4599533.0                                               4.33   \n",
       "2013          4623816.0                                               4.38   \n",
       "2014          4657740.0                                                4.2   \n",
       "2015          4701957.0                                               4.05   \n",
       "\n",
       "                                          2  \n",
       "YEAR  Inflation, consumer prices (annual %)  \n",
       "1997                               1.525605  \n",
       "1998                               2.415518  \n",
       "1999                               1.631924  \n",
       "2000                               5.590717  \n",
       "2001                               4.872905  \n",
       "2002                               4.614733  \n",
       "2003                                3.49049  \n",
       "2004                               2.199629  \n",
       "2005                               2.429692  \n",
       "2006                                3.93164  \n",
       "2007                               4.897116  \n",
       "2008                               4.060305  \n",
       "2009                              -4.478103  \n",
       "2010                              -0.922096  \n",
       "2011                               2.557189  \n",
       "2012                               1.696209  \n",
       "2013                               0.508715  \n",
       "2014                               0.182542  \n",
       "2015                              -0.289879  "
      ]
     },
     "execution_count": 79,
     "metadata": {},
     "output_type": "execute_result"
    }
   ],
   "source": [
    "data1.head().T # check the rows of the data frame"
   ]
  },
  {
   "cell_type": "code",
   "execution_count": 80,
   "metadata": {},
   "outputs": [
    {
     "data": {
      "text/html": [
       "<div>\n",
       "<style scoped>\n",
       "    .dataframe tbody tr th:only-of-type {\n",
       "        vertical-align: middle;\n",
       "    }\n",
       "\n",
       "    .dataframe tbody tr th {\n",
       "        vertical-align: top;\n",
       "    }\n",
       "\n",
       "    .dataframe thead th {\n",
       "        text-align: right;\n",
       "    }\n",
       "</style>\n",
       "<table border=\"1\" class=\"dataframe\">\n",
       "  <thead>\n",
       "    <tr style=\"text-align: right;\">\n",
       "      <th></th>\n",
       "      <th>0</th>\n",
       "      <th>1</th>\n",
       "      <th>2</th>\n",
       "    </tr>\n",
       "  </thead>\n",
       "  <tbody>\n",
       "    <tr>\n",
       "      <th>YEAR</th>\n",
       "      <td>Population, total</td>\n",
       "      <td>Interest rate spread (lending rate minus depos...</td>\n",
       "      <td>Inflation, consumer prices (annual %)</td>\n",
       "    </tr>\n",
       "    <tr>\n",
       "      <th>1997</th>\n",
       "      <td>3674171.0</td>\n",
       "      <td>6.9</td>\n",
       "      <td>1.525605</td>\n",
       "    </tr>\n",
       "    <tr>\n",
       "      <th>1998</th>\n",
       "      <td>3712696.0</td>\n",
       "      <td>5.85</td>\n",
       "      <td>2.415518</td>\n",
       "    </tr>\n",
       "    <tr>\n",
       "      <th>1999</th>\n",
       "      <td>3754786.0</td>\n",
       "      <td>5.6</td>\n",
       "      <td>1.631924</td>\n",
       "    </tr>\n",
       "    <tr>\n",
       "      <th>2000</th>\n",
       "      <td>3805174.0</td>\n",
       "      <td>6.09</td>\n",
       "      <td>5.590717</td>\n",
       "    </tr>\n",
       "  </tbody>\n",
       "</table>\n",
       "</div>"
      ],
      "text/plain": [
       "                      0                                                  1  \\\n",
       "YEAR  Population, total  Interest rate spread (lending rate minus depos...   \n",
       "1997          3674171.0                                                6.9   \n",
       "1998          3712696.0                                               5.85   \n",
       "1999          3754786.0                                                5.6   \n",
       "2000          3805174.0                                               6.09   \n",
       "\n",
       "                                          2  \n",
       "YEAR  Inflation, consumer prices (annual %)  \n",
       "1997                               1.525605  \n",
       "1998                               2.415518  \n",
       "1999                               1.631924  \n",
       "2000                               5.590717  "
      ]
     },
     "execution_count": 80,
     "metadata": {},
     "output_type": "execute_result"
    }
   ],
   "source": [
    "# transpose the DataFrame so that the columns become the rows and the rows become the columns for better view of the dataset\n",
    "data1 = data1.transpose() \n",
    "data1.head() # first 5 rows"
   ]
  },
  {
   "cell_type": "markdown",
   "metadata": {},
   "source": [
    "In the code below:\n",
    "\n",
    "By zipping the column names from the \"data1\" DataFrame with the values from the first row of the same DataFrame, the \"new_names\" dictionary is produced. \n",
    "The old column names serve as keys and the new column names serve as values in the resulting dictionary. The columns of the \"data1\" DataFrame are then \"renamed\" using this dictionary and the rename() method.\n"
   ]
  },
  {
   "cell_type": "code",
   "execution_count": 81,
   "metadata": {},
   "outputs": [
    {
     "data": {
      "text/html": [
       "<div>\n",
       "<style scoped>\n",
       "    .dataframe tbody tr th:only-of-type {\n",
       "        vertical-align: middle;\n",
       "    }\n",
       "\n",
       "    .dataframe tbody tr th {\n",
       "        vertical-align: top;\n",
       "    }\n",
       "\n",
       "    .dataframe thead th {\n",
       "        text-align: right;\n",
       "    }\n",
       "</style>\n",
       "<table border=\"1\" class=\"dataframe\">\n",
       "  <thead>\n",
       "    <tr style=\"text-align: right;\">\n",
       "      <th></th>\n",
       "      <th>Population, total</th>\n",
       "      <th>Interest rate spread (lending rate minus deposit rate, %)</th>\n",
       "      <th>Inflation, consumer prices (annual %)</th>\n",
       "    </tr>\n",
       "  </thead>\n",
       "  <tbody>\n",
       "    <tr>\n",
       "      <th>YEAR</th>\n",
       "      <td>Population, total</td>\n",
       "      <td>Interest rate spread (lending rate minus depos...</td>\n",
       "      <td>Inflation, consumer prices (annual %)</td>\n",
       "    </tr>\n",
       "    <tr>\n",
       "      <th>1997</th>\n",
       "      <td>3674171.0</td>\n",
       "      <td>6.9</td>\n",
       "      <td>1.525605</td>\n",
       "    </tr>\n",
       "    <tr>\n",
       "      <th>1998</th>\n",
       "      <td>3712696.0</td>\n",
       "      <td>5.85</td>\n",
       "      <td>2.415518</td>\n",
       "    </tr>\n",
       "    <tr>\n",
       "      <th>1999</th>\n",
       "      <td>3754786.0</td>\n",
       "      <td>5.6</td>\n",
       "      <td>1.631924</td>\n",
       "    </tr>\n",
       "    <tr>\n",
       "      <th>2000</th>\n",
       "      <td>3805174.0</td>\n",
       "      <td>6.09</td>\n",
       "      <td>5.590717</td>\n",
       "    </tr>\n",
       "  </tbody>\n",
       "</table>\n",
       "</div>"
      ],
      "text/plain": [
       "      Population, total  \\\n",
       "YEAR  Population, total   \n",
       "1997          3674171.0   \n",
       "1998          3712696.0   \n",
       "1999          3754786.0   \n",
       "2000          3805174.0   \n",
       "\n",
       "     Interest rate spread (lending rate minus deposit rate, %)  \\\n",
       "YEAR  Interest rate spread (lending rate minus depos...          \n",
       "1997                                                6.9          \n",
       "1998                                               5.85          \n",
       "1999                                                5.6          \n",
       "2000                                               6.09          \n",
       "\n",
       "      Inflation, consumer prices (annual %)  \n",
       "YEAR  Inflation, consumer prices (annual %)  \n",
       "1997                               1.525605  \n",
       "1998                               2.415518  \n",
       "1999                               1.631924  \n",
       "2000                               5.590717  "
      ]
     },
     "execution_count": 81,
     "metadata": {},
     "output_type": "execute_result"
    }
   ],
   "source": [
    "new_names = dict(zip(data1.columns[:], data1.iloc[0,:])) # create a dictionary with the new column names based on the first row of the DataFrame\n",
    "\n",
    "data1 = data1.rename(columns=new_names) # rename the columns using the dictionary\n",
    "\n",
    "data1.head() # first 5 rows"
   ]
  },
  {
   "cell_type": "code",
   "execution_count": 82,
   "metadata": {},
   "outputs": [],
   "source": [
    "df = data1.iloc[1:]  # drop the first row of the DataFrame because it is not needed anymore"
   ]
  },
  {
   "cell_type": "code",
   "execution_count": 83,
   "metadata": {},
   "outputs": [
    {
     "data": {
      "text/html": [
       "<div>\n",
       "<style scoped>\n",
       "    .dataframe tbody tr th:only-of-type {\n",
       "        vertical-align: middle;\n",
       "    }\n",
       "\n",
       "    .dataframe tbody tr th {\n",
       "        vertical-align: top;\n",
       "    }\n",
       "\n",
       "    .dataframe thead th {\n",
       "        text-align: right;\n",
       "    }\n",
       "</style>\n",
       "<table border=\"1\" class=\"dataframe\">\n",
       "  <thead>\n",
       "    <tr style=\"text-align: right;\">\n",
       "      <th></th>\n",
       "      <th>Population, total</th>\n",
       "      <th>Interest rate spread (lending rate minus deposit rate, %)</th>\n",
       "      <th>Inflation, consumer prices (annual %)</th>\n",
       "    </tr>\n",
       "  </thead>\n",
       "  <tbody>\n",
       "    <tr>\n",
       "      <th>1997</th>\n",
       "      <td>3674171.0</td>\n",
       "      <td>6.9</td>\n",
       "      <td>1.525605</td>\n",
       "    </tr>\n",
       "    <tr>\n",
       "      <th>1998</th>\n",
       "      <td>3712696.0</td>\n",
       "      <td>5.85</td>\n",
       "      <td>2.415518</td>\n",
       "    </tr>\n",
       "    <tr>\n",
       "      <th>1999</th>\n",
       "      <td>3754786.0</td>\n",
       "      <td>5.6</td>\n",
       "      <td>1.631924</td>\n",
       "    </tr>\n",
       "    <tr>\n",
       "      <th>2000</th>\n",
       "      <td>3805174.0</td>\n",
       "      <td>6.09</td>\n",
       "      <td>5.590717</td>\n",
       "    </tr>\n",
       "    <tr>\n",
       "      <th>2001</th>\n",
       "      <td>3866243.0</td>\n",
       "      <td>6.9</td>\n",
       "      <td>4.872905</td>\n",
       "    </tr>\n",
       "    <tr>\n",
       "      <th>2002</th>\n",
       "      <td>3931947.0</td>\n",
       "      <td>4.7</td>\n",
       "      <td>4.614733</td>\n",
       "    </tr>\n",
       "    <tr>\n",
       "      <th>2003</th>\n",
       "      <td>3996521.0</td>\n",
       "      <td>4.2</td>\n",
       "      <td>3.49049</td>\n",
       "    </tr>\n",
       "    <tr>\n",
       "      <th>2004</th>\n",
       "      <td>4070262.0</td>\n",
       "      <td>3.49</td>\n",
       "      <td>2.199629</td>\n",
       "    </tr>\n",
       "    <tr>\n",
       "      <th>2005</th>\n",
       "      <td>4159914.0</td>\n",
       "      <td>3.65</td>\n",
       "      <td>2.429692</td>\n",
       "    </tr>\n",
       "    <tr>\n",
       "      <th>2006</th>\n",
       "      <td>4273591.0</td>\n",
       "      <td>4.86</td>\n",
       "      <td>3.93164</td>\n",
       "    </tr>\n",
       "    <tr>\n",
       "      <th>2007</th>\n",
       "      <td>4398942.0</td>\n",
       "      <td>5.46</td>\n",
       "      <td>4.897116</td>\n",
       "    </tr>\n",
       "    <tr>\n",
       "      <th>2008</th>\n",
       "      <td>4489544.0</td>\n",
       "      <td>5.86</td>\n",
       "      <td>4.060305</td>\n",
       "    </tr>\n",
       "    <tr>\n",
       "      <th>2009</th>\n",
       "      <td>4535375.0</td>\n",
       "      <td>4.16</td>\n",
       "      <td>-4.478103</td>\n",
       "    </tr>\n",
       "    <tr>\n",
       "      <th>2010</th>\n",
       "      <td>4560155.0</td>\n",
       "      <td>4.02</td>\n",
       "      <td>-0.922096</td>\n",
       "    </tr>\n",
       "    <tr>\n",
       "      <th>2011</th>\n",
       "      <td>4580084.0</td>\n",
       "      <td>4.42</td>\n",
       "      <td>2.557189</td>\n",
       "    </tr>\n",
       "    <tr>\n",
       "      <th>2012</th>\n",
       "      <td>4599533.0</td>\n",
       "      <td>4.33</td>\n",
       "      <td>1.696209</td>\n",
       "    </tr>\n",
       "    <tr>\n",
       "      <th>2013</th>\n",
       "      <td>4623816.0</td>\n",
       "      <td>4.38</td>\n",
       "      <td>0.508715</td>\n",
       "    </tr>\n",
       "    <tr>\n",
       "      <th>2014</th>\n",
       "      <td>4657740.0</td>\n",
       "      <td>4.2</td>\n",
       "      <td>0.182542</td>\n",
       "    </tr>\n",
       "    <tr>\n",
       "      <th>2015</th>\n",
       "      <td>4701957.0</td>\n",
       "      <td>4.05</td>\n",
       "      <td>-0.289879</td>\n",
       "    </tr>\n",
       "  </tbody>\n",
       "</table>\n",
       "</div>"
      ],
      "text/plain": [
       "     Population, total  \\\n",
       "1997         3674171.0   \n",
       "1998         3712696.0   \n",
       "1999         3754786.0   \n",
       "2000         3805174.0   \n",
       "2001         3866243.0   \n",
       "2002         3931947.0   \n",
       "2003         3996521.0   \n",
       "2004         4070262.0   \n",
       "2005         4159914.0   \n",
       "2006         4273591.0   \n",
       "2007         4398942.0   \n",
       "2008         4489544.0   \n",
       "2009         4535375.0   \n",
       "2010         4560155.0   \n",
       "2011         4580084.0   \n",
       "2012         4599533.0   \n",
       "2013         4623816.0   \n",
       "2014         4657740.0   \n",
       "2015         4701957.0   \n",
       "\n",
       "     Interest rate spread (lending rate minus deposit rate, %)  \\\n",
       "1997                                                6.9          \n",
       "1998                                               5.85          \n",
       "1999                                                5.6          \n",
       "2000                                               6.09          \n",
       "2001                                                6.9          \n",
       "2002                                                4.7          \n",
       "2003                                                4.2          \n",
       "2004                                               3.49          \n",
       "2005                                               3.65          \n",
       "2006                                               4.86          \n",
       "2007                                               5.46          \n",
       "2008                                               5.86          \n",
       "2009                                               4.16          \n",
       "2010                                               4.02          \n",
       "2011                                               4.42          \n",
       "2012                                               4.33          \n",
       "2013                                               4.38          \n",
       "2014                                                4.2          \n",
       "2015                                               4.05          \n",
       "\n",
       "     Inflation, consumer prices (annual %)  \n",
       "1997                              1.525605  \n",
       "1998                              2.415518  \n",
       "1999                              1.631924  \n",
       "2000                              5.590717  \n",
       "2001                              4.872905  \n",
       "2002                              4.614733  \n",
       "2003                               3.49049  \n",
       "2004                              2.199629  \n",
       "2005                              2.429692  \n",
       "2006                               3.93164  \n",
       "2007                              4.897116  \n",
       "2008                              4.060305  \n",
       "2009                             -4.478103  \n",
       "2010                             -0.922096  \n",
       "2011                              2.557189  \n",
       "2012                              1.696209  \n",
       "2013                              0.508715  \n",
       "2014                              0.182542  \n",
       "2015                             -0.289879  "
      ]
     },
     "execution_count": 83,
     "metadata": {},
     "output_type": "execute_result"
    }
   ],
   "source": [
    "df # check the updated DataFrame"
   ]
  },
  {
   "cell_type": "code",
   "execution_count": 84,
   "metadata": {},
   "outputs": [
    {
     "data": {
      "text/html": [
       "<div>\n",
       "<style scoped>\n",
       "    .dataframe tbody tr th:only-of-type {\n",
       "        vertical-align: middle;\n",
       "    }\n",
       "\n",
       "    .dataframe tbody tr th {\n",
       "        vertical-align: top;\n",
       "    }\n",
       "\n",
       "    .dataframe thead th {\n",
       "        text-align: right;\n",
       "    }\n",
       "</style>\n",
       "<table border=\"1\" class=\"dataframe\">\n",
       "  <thead>\n",
       "    <tr style=\"text-align: right;\">\n",
       "      <th></th>\n",
       "      <th>Population, total</th>\n",
       "      <th>Interest rate spread (lending rate minus deposit rate, %)</th>\n",
       "      <th>Inflation, consumer prices (annual %)</th>\n",
       "    </tr>\n",
       "  </thead>\n",
       "  <tbody>\n",
       "    <tr>\n",
       "      <th>1997</th>\n",
       "      <td>3674171.0</td>\n",
       "      <td>6.9</td>\n",
       "      <td>1.525605</td>\n",
       "    </tr>\n",
       "    <tr>\n",
       "      <th>1998</th>\n",
       "      <td>3712696.0</td>\n",
       "      <td>5.85</td>\n",
       "      <td>2.415518</td>\n",
       "    </tr>\n",
       "    <tr>\n",
       "      <th>1999</th>\n",
       "      <td>3754786.0</td>\n",
       "      <td>5.6</td>\n",
       "      <td>1.631924</td>\n",
       "    </tr>\n",
       "    <tr>\n",
       "      <th>2000</th>\n",
       "      <td>3805174.0</td>\n",
       "      <td>6.09</td>\n",
       "      <td>5.590717</td>\n",
       "    </tr>\n",
       "    <tr>\n",
       "      <th>2001</th>\n",
       "      <td>3866243.0</td>\n",
       "      <td>6.9</td>\n",
       "      <td>4.872905</td>\n",
       "    </tr>\n",
       "  </tbody>\n",
       "</table>\n",
       "</div>"
      ],
      "text/plain": [
       "     Population, total  \\\n",
       "1997         3674171.0   \n",
       "1998         3712696.0   \n",
       "1999         3754786.0   \n",
       "2000         3805174.0   \n",
       "2001         3866243.0   \n",
       "\n",
       "     Interest rate spread (lending rate minus deposit rate, %)  \\\n",
       "1997                                                6.9          \n",
       "1998                                               5.85          \n",
       "1999                                                5.6          \n",
       "2000                                               6.09          \n",
       "2001                                                6.9          \n",
       "\n",
       "     Inflation, consumer prices (annual %)  \n",
       "1997                              1.525605  \n",
       "1998                              2.415518  \n",
       "1999                              1.631924  \n",
       "2000                              5.590717  \n",
       "2001                              4.872905  "
      ]
     },
     "execution_count": 84,
     "metadata": {},
     "output_type": "execute_result"
    }
   ],
   "source": [
    "df = df.rename_axis(None, axis=1) # rename the index column to YEAR \n",
    "df.head() # first 5 rows"
   ]
  },
  {
   "cell_type": "code",
   "execution_count": 85,
   "metadata": {},
   "outputs": [],
   "source": [
    "df = df.reset_index().rename(columns={'index': 'YEAR'}) # rename the index column to YEAR\n"
   ]
  },
  {
   "cell_type": "code",
   "execution_count": 86,
   "metadata": {},
   "outputs": [
    {
     "data": {
      "text/html": [
       "<div>\n",
       "<style scoped>\n",
       "    .dataframe tbody tr th:only-of-type {\n",
       "        vertical-align: middle;\n",
       "    }\n",
       "\n",
       "    .dataframe tbody tr th {\n",
       "        vertical-align: top;\n",
       "    }\n",
       "\n",
       "    .dataframe thead th {\n",
       "        text-align: right;\n",
       "    }\n",
       "</style>\n",
       "<table border=\"1\" class=\"dataframe\">\n",
       "  <thead>\n",
       "    <tr style=\"text-align: right;\">\n",
       "      <th></th>\n",
       "      <th>YEAR</th>\n",
       "      <th>Population, total</th>\n",
       "      <th>Interest rate spread (lending rate minus deposit rate, %)</th>\n",
       "      <th>Inflation, consumer prices (annual %)</th>\n",
       "    </tr>\n",
       "  </thead>\n",
       "  <tbody>\n",
       "    <tr>\n",
       "      <th>0</th>\n",
       "      <td>1997</td>\n",
       "      <td>3674171.0</td>\n",
       "      <td>6.9</td>\n",
       "      <td>1.525605</td>\n",
       "    </tr>\n",
       "    <tr>\n",
       "      <th>1</th>\n",
       "      <td>1998</td>\n",
       "      <td>3712696.0</td>\n",
       "      <td>5.85</td>\n",
       "      <td>2.415518</td>\n",
       "    </tr>\n",
       "    <tr>\n",
       "      <th>2</th>\n",
       "      <td>1999</td>\n",
       "      <td>3754786.0</td>\n",
       "      <td>5.6</td>\n",
       "      <td>1.631924</td>\n",
       "    </tr>\n",
       "    <tr>\n",
       "      <th>3</th>\n",
       "      <td>2000</td>\n",
       "      <td>3805174.0</td>\n",
       "      <td>6.09</td>\n",
       "      <td>5.590717</td>\n",
       "    </tr>\n",
       "    <tr>\n",
       "      <th>4</th>\n",
       "      <td>2001</td>\n",
       "      <td>3866243.0</td>\n",
       "      <td>6.9</td>\n",
       "      <td>4.872905</td>\n",
       "    </tr>\n",
       "  </tbody>\n",
       "</table>\n",
       "</div>"
      ],
      "text/plain": [
       "   YEAR Population, total  \\\n",
       "0  1997         3674171.0   \n",
       "1  1998         3712696.0   \n",
       "2  1999         3754786.0   \n",
       "3  2000         3805174.0   \n",
       "4  2001         3866243.0   \n",
       "\n",
       "  Interest rate spread (lending rate minus deposit rate, %)  \\\n",
       "0                                                6.9          \n",
       "1                                               5.85          \n",
       "2                                                5.6          \n",
       "3                                               6.09          \n",
       "4                                                6.9          \n",
       "\n",
       "  Inflation, consumer prices (annual %)  \n",
       "0                              1.525605  \n",
       "1                              2.415518  \n",
       "2                              1.631924  \n",
       "3                              5.590717  \n",
       "4                              4.872905  "
      ]
     },
     "execution_count": 86,
     "metadata": {},
     "output_type": "execute_result"
    }
   ],
   "source": [
    "df.head() # first 5 rows"
   ]
  },
  {
   "cell_type": "code",
   "execution_count": 87,
   "metadata": {},
   "outputs": [
    {
     "name": "stdout",
     "output_type": "stream",
     "text": [
      "<class 'pandas.core.frame.DataFrame'>\n",
      "RangeIndex: 19 entries, 0 to 18\n",
      "Data columns (total 4 columns):\n",
      " #   Column                                                     Non-Null Count  Dtype \n",
      "---  ------                                                     --------------  ----- \n",
      " 0   YEAR                                                       19 non-null     object\n",
      " 1   Population, total                                          19 non-null     object\n",
      " 2   Interest rate spread (lending rate minus deposit rate, %)  19 non-null     object\n",
      " 3   Inflation, consumer prices (annual %)                      19 non-null     object\n",
      "dtypes: object(4)\n",
      "memory usage: 736.0+ bytes\n"
     ]
    }
   ],
   "source": [
    "df.info() # check the data types of the columns because we need to convert the YEAR column to integer type for merging with the other DataFrame"
   ]
  },
  {
   "cell_type": "code",
   "execution_count": 88,
   "metadata": {},
   "outputs": [],
   "source": [
    "df[\"YEAR\"] = df['YEAR'].astype(int) # convert the YEAR column to integer type so we can merge the two DataFrames\n",
    "# check the data type of the YEAR column"
   ]
  },
  {
   "cell_type": "code",
   "execution_count": 89,
   "metadata": {},
   "outputs": [],
   "source": [
    "merged_data = pd.merge(data, df, on='YEAR', how='left') # merge the two DataFrames on the YEAR column for further analysis\n"
   ]
  },
  {
   "cell_type": "markdown",
   "metadata": {},
   "source": [
    "Checking our new dataset"
   ]
  },
  {
   "cell_type": "code",
   "execution_count": 90,
   "metadata": {},
   "outputs": [
    {
     "data": {
      "text/html": [
       "<div>\n",
       "<style scoped>\n",
       "    .dataframe tbody tr th:only-of-type {\n",
       "        vertical-align: middle;\n",
       "    }\n",
       "\n",
       "    .dataframe tbody tr th {\n",
       "        vertical-align: top;\n",
       "    }\n",
       "\n",
       "    .dataframe thead th {\n",
       "        text-align: right;\n",
       "    }\n",
       "</style>\n",
       "<table border=\"1\" class=\"dataframe\">\n",
       "  <thead>\n",
       "    <tr style=\"text-align: right;\">\n",
       "      <th></th>\n",
       "      <th>YEAR</th>\n",
       "      <th>Average New House Price</th>\n",
       "      <th>Dublin</th>\n",
       "      <th>Cork</th>\n",
       "      <th>Galway</th>\n",
       "      <th>Limerick</th>\n",
       "      <th>Waterford</th>\n",
       "      <th>Other Areas</th>\n",
       "      <th>Population, total</th>\n",
       "      <th>Interest rate spread (lending rate minus deposit rate, %)</th>\n",
       "      <th>Inflation, consumer prices (annual %)</th>\n",
       "    </tr>\n",
       "  </thead>\n",
       "  <tbody>\n",
       "    <tr>\n",
       "      <th>0</th>\n",
       "      <td>1997</td>\n",
       "      <td>102.037</td>\n",
       "      <td>123.231</td>\n",
       "      <td>96.504</td>\n",
       "      <td>111.108</td>\n",
       "      <td>91.236</td>\n",
       "      <td>92.372</td>\n",
       "      <td>94.642</td>\n",
       "      <td>3674171.0</td>\n",
       "      <td>6.9</td>\n",
       "      <td>1.525605</td>\n",
       "    </tr>\n",
       "    <tr>\n",
       "      <th>1</th>\n",
       "      <td>1998</td>\n",
       "      <td>124.368</td>\n",
       "      <td>159.558</td>\n",
       "      <td>112.166</td>\n",
       "      <td>118.917</td>\n",
       "      <td>104.327</td>\n",
       "      <td>108.789</td>\n",
       "      <td>116.639</td>\n",
       "      <td>3712696.0</td>\n",
       "      <td>5.85</td>\n",
       "      <td>2.415518</td>\n",
       "    </tr>\n",
       "    <tr>\n",
       "      <th>2</th>\n",
       "      <td>1999</td>\n",
       "      <td>147.043</td>\n",
       "      <td>191.942</td>\n",
       "      <td>140.797</td>\n",
       "      <td>137.510</td>\n",
       "      <td>122.146</td>\n",
       "      <td>132.510</td>\n",
       "      <td>137.031</td>\n",
       "      <td>3754786.0</td>\n",
       "      <td>5.6</td>\n",
       "      <td>1.631924</td>\n",
       "    </tr>\n",
       "    <tr>\n",
       "      <th>3</th>\n",
       "      <td>2000</td>\n",
       "      <td>166.155</td>\n",
       "      <td>216.433</td>\n",
       "      <td>164.535</td>\n",
       "      <td>160.972</td>\n",
       "      <td>146.838</td>\n",
       "      <td>145.087</td>\n",
       "      <td>154.141</td>\n",
       "      <td>3805174.0</td>\n",
       "      <td>6.09</td>\n",
       "      <td>5.590717</td>\n",
       "    </tr>\n",
       "    <tr>\n",
       "      <th>4</th>\n",
       "      <td>2001</td>\n",
       "      <td>181.146</td>\n",
       "      <td>252.192</td>\n",
       "      <td>175.372</td>\n",
       "      <td>171.578</td>\n",
       "      <td>154.515</td>\n",
       "      <td>157.767</td>\n",
       "      <td>167.493</td>\n",
       "      <td>3866243.0</td>\n",
       "      <td>6.9</td>\n",
       "      <td>4.872905</td>\n",
       "    </tr>\n",
       "  </tbody>\n",
       "</table>\n",
       "</div>"
      ],
      "text/plain": [
       "   YEAR  Average New House Price   Dublin     Cork   Galway  Limerick  \\\n",
       "0  1997                  102.037  123.231   96.504  111.108    91.236   \n",
       "1  1998                  124.368  159.558  112.166  118.917   104.327   \n",
       "2  1999                  147.043  191.942  140.797  137.510   122.146   \n",
       "3  2000                  166.155  216.433  164.535  160.972   146.838   \n",
       "4  2001                  181.146  252.192  175.372  171.578   154.515   \n",
       "\n",
       "   Waterford  Other Areas Population, total  \\\n",
       "0     92.372       94.642         3674171.0   \n",
       "1    108.789      116.639         3712696.0   \n",
       "2    132.510      137.031         3754786.0   \n",
       "3    145.087      154.141         3805174.0   \n",
       "4    157.767      167.493         3866243.0   \n",
       "\n",
       "  Interest rate spread (lending rate minus deposit rate, %)  \\\n",
       "0                                                6.9          \n",
       "1                                               5.85          \n",
       "2                                                5.6          \n",
       "3                                               6.09          \n",
       "4                                                6.9          \n",
       "\n",
       "  Inflation, consumer prices (annual %)  \n",
       "0                              1.525605  \n",
       "1                              2.415518  \n",
       "2                              1.631924  \n",
       "3                              5.590717  \n",
       "4                              4.872905  "
      ]
     },
     "execution_count": 90,
     "metadata": {},
     "output_type": "execute_result"
    }
   ],
   "source": [
    "merged_data.head()"
   ]
  },
  {
   "cell_type": "code",
   "execution_count": 91,
   "metadata": {},
   "outputs": [],
   "source": [
    "merged_data = merged_data.rename(columns={'Population, total': 'Total Population',\n",
    "                                          'Interest rate spread (lending rate minus deposit rate, %)': 'Highest Mortgage Rate %',\n",
    "                                          'Inflation, consumer prices (annual %)': 'Inflation %',\n",
    "                                          'Average New House Price': 'Avg House Price in IE',\n",
    "                                          'YEAR': 'Year',\n",
    "                                          })\n"
   ]
  },
  {
   "cell_type": "markdown",
   "metadata": {},
   "source": [
    "Let's see our new data frame"
   ]
  },
  {
   "cell_type": "code",
   "execution_count": 92,
   "metadata": {},
   "outputs": [
    {
     "data": {
      "text/html": [
       "<div>\n",
       "<style scoped>\n",
       "    .dataframe tbody tr th:only-of-type {\n",
       "        vertical-align: middle;\n",
       "    }\n",
       "\n",
       "    .dataframe tbody tr th {\n",
       "        vertical-align: top;\n",
       "    }\n",
       "\n",
       "    .dataframe thead th {\n",
       "        text-align: right;\n",
       "    }\n",
       "</style>\n",
       "<table border=\"1\" class=\"dataframe\">\n",
       "  <thead>\n",
       "    <tr style=\"text-align: right;\">\n",
       "      <th></th>\n",
       "      <th>Year</th>\n",
       "      <th>Avg House Price in IE</th>\n",
       "      <th>Dublin</th>\n",
       "      <th>Cork</th>\n",
       "      <th>Galway</th>\n",
       "      <th>Limerick</th>\n",
       "      <th>Waterford</th>\n",
       "      <th>Other Areas</th>\n",
       "      <th>Total Population</th>\n",
       "      <th>Highest Mortgage Rate %</th>\n",
       "      <th>Inflation %</th>\n",
       "    </tr>\n",
       "  </thead>\n",
       "  <tbody>\n",
       "    <tr>\n",
       "      <th>0</th>\n",
       "      <td>1997</td>\n",
       "      <td>102.037</td>\n",
       "      <td>123.231</td>\n",
       "      <td>96.504</td>\n",
       "      <td>111.108</td>\n",
       "      <td>91.236</td>\n",
       "      <td>92.372</td>\n",
       "      <td>94.642</td>\n",
       "      <td>3674171.0</td>\n",
       "      <td>6.9</td>\n",
       "      <td>1.525605</td>\n",
       "    </tr>\n",
       "    <tr>\n",
       "      <th>1</th>\n",
       "      <td>1998</td>\n",
       "      <td>124.368</td>\n",
       "      <td>159.558</td>\n",
       "      <td>112.166</td>\n",
       "      <td>118.917</td>\n",
       "      <td>104.327</td>\n",
       "      <td>108.789</td>\n",
       "      <td>116.639</td>\n",
       "      <td>3712696.0</td>\n",
       "      <td>5.85</td>\n",
       "      <td>2.415518</td>\n",
       "    </tr>\n",
       "    <tr>\n",
       "      <th>2</th>\n",
       "      <td>1999</td>\n",
       "      <td>147.043</td>\n",
       "      <td>191.942</td>\n",
       "      <td>140.797</td>\n",
       "      <td>137.510</td>\n",
       "      <td>122.146</td>\n",
       "      <td>132.510</td>\n",
       "      <td>137.031</td>\n",
       "      <td>3754786.0</td>\n",
       "      <td>5.6</td>\n",
       "      <td>1.631924</td>\n",
       "    </tr>\n",
       "    <tr>\n",
       "      <th>3</th>\n",
       "      <td>2000</td>\n",
       "      <td>166.155</td>\n",
       "      <td>216.433</td>\n",
       "      <td>164.535</td>\n",
       "      <td>160.972</td>\n",
       "      <td>146.838</td>\n",
       "      <td>145.087</td>\n",
       "      <td>154.141</td>\n",
       "      <td>3805174.0</td>\n",
       "      <td>6.09</td>\n",
       "      <td>5.590717</td>\n",
       "    </tr>\n",
       "    <tr>\n",
       "      <th>4</th>\n",
       "      <td>2001</td>\n",
       "      <td>181.146</td>\n",
       "      <td>252.192</td>\n",
       "      <td>175.372</td>\n",
       "      <td>171.578</td>\n",
       "      <td>154.515</td>\n",
       "      <td>157.767</td>\n",
       "      <td>167.493</td>\n",
       "      <td>3866243.0</td>\n",
       "      <td>6.9</td>\n",
       "      <td>4.872905</td>\n",
       "    </tr>\n",
       "  </tbody>\n",
       "</table>\n",
       "</div>"
      ],
      "text/plain": [
       "   Year  Avg House Price in IE   Dublin     Cork   Galway  Limerick  \\\n",
       "0  1997                102.037  123.231   96.504  111.108    91.236   \n",
       "1  1998                124.368  159.558  112.166  118.917   104.327   \n",
       "2  1999                147.043  191.942  140.797  137.510   122.146   \n",
       "3  2000                166.155  216.433  164.535  160.972   146.838   \n",
       "4  2001                181.146  252.192  175.372  171.578   154.515   \n",
       "\n",
       "   Waterford  Other Areas Total Population Highest Mortgage Rate % Inflation %  \n",
       "0     92.372       94.642        3674171.0                     6.9    1.525605  \n",
       "1    108.789      116.639        3712696.0                    5.85    2.415518  \n",
       "2    132.510      137.031        3754786.0                     5.6    1.631924  \n",
       "3    145.087      154.141        3805174.0                    6.09    5.590717  \n",
       "4    157.767      167.493        3866243.0                     6.9    4.872905  "
      ]
     },
     "execution_count": 92,
     "metadata": {},
     "output_type": "execute_result"
    }
   ],
   "source": [
    "merged_data.head()"
   ]
  },
  {
   "cell_type": "code",
   "execution_count": 93,
   "metadata": {},
   "outputs": [
    {
     "name": "stdout",
     "output_type": "stream",
     "text": [
      "<class 'pandas.core.frame.DataFrame'>\n",
      "Int64Index: 19 entries, 0 to 18\n",
      "Data columns (total 11 columns):\n",
      " #   Column                   Non-Null Count  Dtype  \n",
      "---  ------                   --------------  -----  \n",
      " 0   Year                     19 non-null     int64  \n",
      " 1   Avg House Price in IE    19 non-null     float64\n",
      " 2   Dublin                   19 non-null     float64\n",
      " 3   Cork                     19 non-null     float64\n",
      " 4   Galway                   19 non-null     float64\n",
      " 5   Limerick                 19 non-null     float64\n",
      " 6   Waterford                19 non-null     float64\n",
      " 7   Other Areas              19 non-null     float64\n",
      " 8   Total Population         19 non-null     object \n",
      " 9   Highest Mortgage Rate %  19 non-null     object \n",
      " 10  Inflation %              19 non-null     object \n",
      "dtypes: float64(7), int64(1), object(3)\n",
      "memory usage: 1.8+ KB\n"
     ]
    }
   ],
   "source": [
    "merged_data.info()"
   ]
  },
  {
   "cell_type": "markdown",
   "metadata": {},
   "source": [
    "In this analysis, the focus is on Dublin house prices, and numerical values for \"Total Population,\" \"Highest Mortgage Rate %,\" and \"Inflation %\" are required for further mathematical analysis. Therefore, these columns will be converted to numerical variables using appropriate methods in order to facilitate accurate analysis and modeling."
   ]
  },
  {
   "cell_type": "code",
   "execution_count": 94,
   "metadata": {},
   "outputs": [],
   "source": [
    "# convert columns to appropriate data types\n",
    "merged_data = merged_data.astype({\n",
    "    \"Total Population\": int,\n",
    "    \"Highest Mortgage Rate %\": float,\n",
    "    \"Inflation %\": float\n",
    "})"
   ]
  },
  {
   "cell_type": "code",
   "execution_count": 95,
   "metadata": {},
   "outputs": [
    {
     "data": {
      "text/html": [
       "<div>\n",
       "<style scoped>\n",
       "    .dataframe tbody tr th:only-of-type {\n",
       "        vertical-align: middle;\n",
       "    }\n",
       "\n",
       "    .dataframe tbody tr th {\n",
       "        vertical-align: top;\n",
       "    }\n",
       "\n",
       "    .dataframe thead th {\n",
       "        text-align: right;\n",
       "    }\n",
       "</style>\n",
       "<table border=\"1\" class=\"dataframe\">\n",
       "  <thead>\n",
       "    <tr style=\"text-align: right;\">\n",
       "      <th></th>\n",
       "      <th>Year</th>\n",
       "      <th>Avg House Price in IE</th>\n",
       "      <th>Dublin</th>\n",
       "      <th>Cork</th>\n",
       "      <th>Galway</th>\n",
       "      <th>Limerick</th>\n",
       "      <th>Waterford</th>\n",
       "      <th>Other Areas</th>\n",
       "      <th>Total Population</th>\n",
       "      <th>Highest Mortgage Rate %</th>\n",
       "      <th>Inflation %</th>\n",
       "    </tr>\n",
       "  </thead>\n",
       "  <tbody>\n",
       "    <tr>\n",
       "      <th>0</th>\n",
       "      <td>1997</td>\n",
       "      <td>102.037</td>\n",
       "      <td>123.231</td>\n",
       "      <td>96.504</td>\n",
       "      <td>111.108</td>\n",
       "      <td>91.236</td>\n",
       "      <td>92.372</td>\n",
       "      <td>94.642</td>\n",
       "      <td>3674171</td>\n",
       "      <td>6.90</td>\n",
       "      <td>1.525605</td>\n",
       "    </tr>\n",
       "    <tr>\n",
       "      <th>1</th>\n",
       "      <td>1998</td>\n",
       "      <td>124.368</td>\n",
       "      <td>159.558</td>\n",
       "      <td>112.166</td>\n",
       "      <td>118.917</td>\n",
       "      <td>104.327</td>\n",
       "      <td>108.789</td>\n",
       "      <td>116.639</td>\n",
       "      <td>3712696</td>\n",
       "      <td>5.85</td>\n",
       "      <td>2.415518</td>\n",
       "    </tr>\n",
       "    <tr>\n",
       "      <th>2</th>\n",
       "      <td>1999</td>\n",
       "      <td>147.043</td>\n",
       "      <td>191.942</td>\n",
       "      <td>140.797</td>\n",
       "      <td>137.510</td>\n",
       "      <td>122.146</td>\n",
       "      <td>132.510</td>\n",
       "      <td>137.031</td>\n",
       "      <td>3754786</td>\n",
       "      <td>5.60</td>\n",
       "      <td>1.631924</td>\n",
       "    </tr>\n",
       "    <tr>\n",
       "      <th>3</th>\n",
       "      <td>2000</td>\n",
       "      <td>166.155</td>\n",
       "      <td>216.433</td>\n",
       "      <td>164.535</td>\n",
       "      <td>160.972</td>\n",
       "      <td>146.838</td>\n",
       "      <td>145.087</td>\n",
       "      <td>154.141</td>\n",
       "      <td>3805174</td>\n",
       "      <td>6.09</td>\n",
       "      <td>5.590717</td>\n",
       "    </tr>\n",
       "    <tr>\n",
       "      <th>4</th>\n",
       "      <td>2001</td>\n",
       "      <td>181.146</td>\n",
       "      <td>252.192</td>\n",
       "      <td>175.372</td>\n",
       "      <td>171.578</td>\n",
       "      <td>154.515</td>\n",
       "      <td>157.767</td>\n",
       "      <td>167.493</td>\n",
       "      <td>3866243</td>\n",
       "      <td>6.90</td>\n",
       "      <td>4.872905</td>\n",
       "    </tr>\n",
       "    <tr>\n",
       "      <th>5</th>\n",
       "      <td>2002</td>\n",
       "      <td>194.835</td>\n",
       "      <td>259.381</td>\n",
       "      <td>184.884</td>\n",
       "      <td>187.194</td>\n",
       "      <td>169.577</td>\n",
       "      <td>169.681</td>\n",
       "      <td>179.988</td>\n",
       "      <td>3931947</td>\n",
       "      <td>4.70</td>\n",
       "      <td>4.614733</td>\n",
       "    </tr>\n",
       "    <tr>\n",
       "      <th>6</th>\n",
       "      <td>2003</td>\n",
       "      <td>220.573</td>\n",
       "      <td>302.270</td>\n",
       "      <td>210.733</td>\n",
       "      <td>222.578</td>\n",
       "      <td>193.854</td>\n",
       "      <td>193.642</td>\n",
       "      <td>203.421</td>\n",
       "      <td>3996521</td>\n",
       "      <td>4.20</td>\n",
       "      <td>3.490490</td>\n",
       "    </tr>\n",
       "    <tr>\n",
       "      <th>7</th>\n",
       "      <td>2004</td>\n",
       "      <td>244.852</td>\n",
       "      <td>343.251</td>\n",
       "      <td>236.076</td>\n",
       "      <td>241.545</td>\n",
       "      <td>209.850</td>\n",
       "      <td>218.447</td>\n",
       "      <td>228.974</td>\n",
       "      <td>4070262</td>\n",
       "      <td>3.49</td>\n",
       "      <td>2.199629</td>\n",
       "    </tr>\n",
       "    <tr>\n",
       "      <th>8</th>\n",
       "      <td>2005</td>\n",
       "      <td>272.034</td>\n",
       "      <td>386.089</td>\n",
       "      <td>264.719</td>\n",
       "      <td>274.745</td>\n",
       "      <td>226.773</td>\n",
       "      <td>245.315</td>\n",
       "      <td>255.730</td>\n",
       "      <td>4159914</td>\n",
       "      <td>3.65</td>\n",
       "      <td>2.429692</td>\n",
       "    </tr>\n",
       "    <tr>\n",
       "      <th>9</th>\n",
       "      <td>2006</td>\n",
       "      <td>297.476</td>\n",
       "      <td>473.634</td>\n",
       "      <td>298.122</td>\n",
       "      <td>287.103</td>\n",
       "      <td>282.309</td>\n",
       "      <td>270.108</td>\n",
       "      <td>278.756</td>\n",
       "      <td>4273591</td>\n",
       "      <td>4.86</td>\n",
       "      <td>3.931640</td>\n",
       "    </tr>\n",
       "    <tr>\n",
       "      <th>10</th>\n",
       "      <td>2007</td>\n",
       "      <td>320.788</td>\n",
       "      <td>484.926</td>\n",
       "      <td>326.765</td>\n",
       "      <td>302.208</td>\n",
       "      <td>290.670</td>\n",
       "      <td>295.397</td>\n",
       "      <td>299.884</td>\n",
       "      <td>4398942</td>\n",
       "      <td>5.46</td>\n",
       "      <td>4.897116</td>\n",
       "    </tr>\n",
       "    <tr>\n",
       "      <th>11</th>\n",
       "      <td>2008</td>\n",
       "      <td>304.763</td>\n",
       "      <td>426.861</td>\n",
       "      <td>316.177</td>\n",
       "      <td>296.948</td>\n",
       "      <td>278.680</td>\n",
       "      <td>294.960</td>\n",
       "      <td>286.100</td>\n",
       "      <td>4489544</td>\n",
       "      <td>5.86</td>\n",
       "      <td>4.060305</td>\n",
       "    </tr>\n",
       "    <tr>\n",
       "      <th>12</th>\n",
       "      <td>2009</td>\n",
       "      <td>246.315</td>\n",
       "      <td>294.906</td>\n",
       "      <td>255.978</td>\n",
       "      <td>239.370</td>\n",
       "      <td>262.654</td>\n",
       "      <td>228.332</td>\n",
       "      <td>234.696</td>\n",
       "      <td>4535375</td>\n",
       "      <td>4.16</td>\n",
       "      <td>-4.478103</td>\n",
       "    </tr>\n",
       "    <tr>\n",
       "      <th>13</th>\n",
       "      <td>2010</td>\n",
       "      <td>233.173</td>\n",
       "      <td>297.294</td>\n",
       "      <td>245.869</td>\n",
       "      <td>220.351</td>\n",
       "      <td>226.829</td>\n",
       "      <td>224.021</td>\n",
       "      <td>221.037</td>\n",
       "      <td>4560155</td>\n",
       "      <td>4.02</td>\n",
       "      <td>-0.922096</td>\n",
       "    </tr>\n",
       "    <tr>\n",
       "      <th>14</th>\n",
       "      <td>2011</td>\n",
       "      <td>233.770</td>\n",
       "      <td>333.747</td>\n",
       "      <td>244.736</td>\n",
       "      <td>229.558</td>\n",
       "      <td>218.341</td>\n",
       "      <td>206.835</td>\n",
       "      <td>218.561</td>\n",
       "      <td>4580084</td>\n",
       "      <td>4.42</td>\n",
       "      <td>2.557189</td>\n",
       "    </tr>\n",
       "    <tr>\n",
       "      <th>15</th>\n",
       "      <td>2012</td>\n",
       "      <td>223.580</td>\n",
       "      <td>292.004</td>\n",
       "      <td>235.446</td>\n",
       "      <td>221.159</td>\n",
       "      <td>213.458</td>\n",
       "      <td>179.716</td>\n",
       "      <td>210.180</td>\n",
       "      <td>4599533</td>\n",
       "      <td>4.33</td>\n",
       "      <td>1.696209</td>\n",
       "    </tr>\n",
       "    <tr>\n",
       "      <th>16</th>\n",
       "      <td>2013</td>\n",
       "      <td>231.532</td>\n",
       "      <td>321.558</td>\n",
       "      <td>241.127</td>\n",
       "      <td>218.308</td>\n",
       "      <td>207.635</td>\n",
       "      <td>154.051</td>\n",
       "      <td>209.772</td>\n",
       "      <td>4623816</td>\n",
       "      <td>4.38</td>\n",
       "      <td>0.508715</td>\n",
       "    </tr>\n",
       "    <tr>\n",
       "      <th>17</th>\n",
       "      <td>2014</td>\n",
       "      <td>247.327</td>\n",
       "      <td>339.590</td>\n",
       "      <td>242.202</td>\n",
       "      <td>219.725</td>\n",
       "      <td>212.882</td>\n",
       "      <td>177.963</td>\n",
       "      <td>215.439</td>\n",
       "      <td>4657740</td>\n",
       "      <td>4.20</td>\n",
       "      <td>0.182542</td>\n",
       "    </tr>\n",
       "    <tr>\n",
       "      <th>18</th>\n",
       "      <td>2015</td>\n",
       "      <td>282.428</td>\n",
       "      <td>381.484</td>\n",
       "      <td>256.767</td>\n",
       "      <td>241.835</td>\n",
       "      <td>232.791</td>\n",
       "      <td>214.829</td>\n",
       "      <td>252.815</td>\n",
       "      <td>4701957</td>\n",
       "      <td>4.05</td>\n",
       "      <td>-0.289879</td>\n",
       "    </tr>\n",
       "  </tbody>\n",
       "</table>\n",
       "</div>"
      ],
      "text/plain": [
       "    Year  Avg House Price in IE   Dublin     Cork   Galway  Limerick  \\\n",
       "0   1997                102.037  123.231   96.504  111.108    91.236   \n",
       "1   1998                124.368  159.558  112.166  118.917   104.327   \n",
       "2   1999                147.043  191.942  140.797  137.510   122.146   \n",
       "3   2000                166.155  216.433  164.535  160.972   146.838   \n",
       "4   2001                181.146  252.192  175.372  171.578   154.515   \n",
       "5   2002                194.835  259.381  184.884  187.194   169.577   \n",
       "6   2003                220.573  302.270  210.733  222.578   193.854   \n",
       "7   2004                244.852  343.251  236.076  241.545   209.850   \n",
       "8   2005                272.034  386.089  264.719  274.745   226.773   \n",
       "9   2006                297.476  473.634  298.122  287.103   282.309   \n",
       "10  2007                320.788  484.926  326.765  302.208   290.670   \n",
       "11  2008                304.763  426.861  316.177  296.948   278.680   \n",
       "12  2009                246.315  294.906  255.978  239.370   262.654   \n",
       "13  2010                233.173  297.294  245.869  220.351   226.829   \n",
       "14  2011                233.770  333.747  244.736  229.558   218.341   \n",
       "15  2012                223.580  292.004  235.446  221.159   213.458   \n",
       "16  2013                231.532  321.558  241.127  218.308   207.635   \n",
       "17  2014                247.327  339.590  242.202  219.725   212.882   \n",
       "18  2015                282.428  381.484  256.767  241.835   232.791   \n",
       "\n",
       "    Waterford  Other Areas  Total Population  Highest Mortgage Rate %  \\\n",
       "0      92.372       94.642           3674171                     6.90   \n",
       "1     108.789      116.639           3712696                     5.85   \n",
       "2     132.510      137.031           3754786                     5.60   \n",
       "3     145.087      154.141           3805174                     6.09   \n",
       "4     157.767      167.493           3866243                     6.90   \n",
       "5     169.681      179.988           3931947                     4.70   \n",
       "6     193.642      203.421           3996521                     4.20   \n",
       "7     218.447      228.974           4070262                     3.49   \n",
       "8     245.315      255.730           4159914                     3.65   \n",
       "9     270.108      278.756           4273591                     4.86   \n",
       "10    295.397      299.884           4398942                     5.46   \n",
       "11    294.960      286.100           4489544                     5.86   \n",
       "12    228.332      234.696           4535375                     4.16   \n",
       "13    224.021      221.037           4560155                     4.02   \n",
       "14    206.835      218.561           4580084                     4.42   \n",
       "15    179.716      210.180           4599533                     4.33   \n",
       "16    154.051      209.772           4623816                     4.38   \n",
       "17    177.963      215.439           4657740                     4.20   \n",
       "18    214.829      252.815           4701957                     4.05   \n",
       "\n",
       "    Inflation %  \n",
       "0      1.525605  \n",
       "1      2.415518  \n",
       "2      1.631924  \n",
       "3      5.590717  \n",
       "4      4.872905  \n",
       "5      4.614733  \n",
       "6      3.490490  \n",
       "7      2.199629  \n",
       "8      2.429692  \n",
       "9      3.931640  \n",
       "10     4.897116  \n",
       "11     4.060305  \n",
       "12    -4.478103  \n",
       "13    -0.922096  \n",
       "14     2.557189  \n",
       "15     1.696209  \n",
       "16     0.508715  \n",
       "17     0.182542  \n",
       "18    -0.289879  "
      ]
     },
     "execution_count": 95,
     "metadata": {},
     "output_type": "execute_result"
    }
   ],
   "source": [
    "merged_data # NEW MERGED_DATA"
   ]
  },
  {
   "cell_type": "code",
   "execution_count": 96,
   "metadata": {},
   "outputs": [
    {
     "name": "stdout",
     "output_type": "stream",
     "text": [
      "<class 'pandas.core.frame.DataFrame'>\n",
      "Int64Index: 19 entries, 0 to 18\n",
      "Data columns (total 11 columns):\n",
      " #   Column                   Non-Null Count  Dtype  \n",
      "---  ------                   --------------  -----  \n",
      " 0   Year                     19 non-null     int64  \n",
      " 1   Avg House Price in IE    19 non-null     float64\n",
      " 2   Dublin                   19 non-null     float64\n",
      " 3   Cork                     19 non-null     float64\n",
      " 4   Galway                   19 non-null     float64\n",
      " 5   Limerick                 19 non-null     float64\n",
      " 6   Waterford                19 non-null     float64\n",
      " 7   Other Areas              19 non-null     float64\n",
      " 8   Total Population         19 non-null     int64  \n",
      " 9   Highest Mortgage Rate %  19 non-null     float64\n",
      " 10  Inflation %              19 non-null     float64\n",
      "dtypes: float64(9), int64(2)\n",
      "memory usage: 1.8 KB\n"
     ]
    }
   ],
   "source": [
    "# Let's check the data types of the columns\n",
    "merged_data.info()"
   ]
  },
  {
   "cell_type": "markdown",
   "metadata": {},
   "source": [
    "### As we see above now my dataset is ready for further analysis."
   ]
  },
  {
   "cell_type": "code",
   "execution_count": 97,
   "metadata": {},
   "outputs": [],
   "source": [
    "# I am keeping the data for myself, so I will save it to a csv file on my desktop\n",
    "# I will use the os module to get the path to my desktop\n",
    "import os\n",
    "file_name = 'merged_data.csv'\n",
    "desktop_directory = os.path.join(os.path.expanduser('~'), 'Desktop') \n",
    "output_file_path = os.path.join(desktop_directory, file_name)\n",
    "merged_data.to_csv(output_file_path, index=False)"
   ]
  },
  {
   "cell_type": "markdown",
   "metadata": {},
   "source": [
    "# STATISTIC AND VISUALIZATION"
   ]
  },
  {
   "cell_type": "markdown",
   "metadata": {},
   "source": [
    "Let's import the necessary libraries"
   ]
  },
  {
   "cell_type": "code",
   "execution_count": 98,
   "metadata": {},
   "outputs": [],
   "source": [
    "# Import the necessary modules\n",
    "import warnings # import the warnings module\n",
    "import seaborn as sns # import the seaborn module\n",
    "import matplotlib.pyplot as plt # import the matplotlib module\n",
    "warnings.filterwarnings(\"ignore\") # ignore warnings\n",
    "pd.set_option(\"display.max_rows\",None) # display all rows\n",
    "import matplotlib  # import the matplotlib module\n",
    "import scipy.stats as stats # import the stats module from the scipy library\n",
    "from scipy.stats import norm # import the norm module from the stats module of the scipy library"
   ]
  },
  {
   "cell_type": "markdown",
   "metadata": {},
   "source": [
    "Before starting visualise my dataset let's see mean, std, max and min values. I will use .describe method()"
   ]
  },
  {
   "cell_type": "code",
   "execution_count": 99,
   "metadata": {},
   "outputs": [
    {
     "data": {
      "text/html": [
       "<div>\n",
       "<style scoped>\n",
       "    .dataframe tbody tr th:only-of-type {\n",
       "        vertical-align: middle;\n",
       "    }\n",
       "\n",
       "    .dataframe tbody tr th {\n",
       "        vertical-align: top;\n",
       "    }\n",
       "\n",
       "    .dataframe thead th {\n",
       "        text-align: right;\n",
       "    }\n",
       "</style>\n",
       "<table border=\"1\" class=\"dataframe\">\n",
       "  <thead>\n",
       "    <tr style=\"text-align: right;\">\n",
       "      <th></th>\n",
       "      <th>Year</th>\n",
       "      <th>Avg House Price in IE</th>\n",
       "      <th>Dublin</th>\n",
       "      <th>Cork</th>\n",
       "      <th>Galway</th>\n",
       "      <th>Limerick</th>\n",
       "      <th>Waterford</th>\n",
       "      <th>Other Areas</th>\n",
       "      <th>Total Population</th>\n",
       "      <th>Highest Mortgage Rate %</th>\n",
       "      <th>Inflation %</th>\n",
       "    </tr>\n",
       "  </thead>\n",
       "  <tbody>\n",
       "    <tr>\n",
       "      <th>count</th>\n",
       "      <td>19.000000</td>\n",
       "      <td>19.000000</td>\n",
       "      <td>19.000000</td>\n",
       "      <td>19.000000</td>\n",
       "      <td>19.000000</td>\n",
       "      <td>19.000000</td>\n",
       "      <td>19.000000</td>\n",
       "      <td>19.000000</td>\n",
       "      <td>1.900000e+01</td>\n",
       "      <td>19.000000</td>\n",
       "      <td>19.000000</td>\n",
       "    </tr>\n",
       "    <tr>\n",
       "      <th>mean</th>\n",
       "      <td>2006.000000</td>\n",
       "      <td>224.957632</td>\n",
       "      <td>309.492158</td>\n",
       "      <td>223.630263</td>\n",
       "      <td>215.932211</td>\n",
       "      <td>202.387632</td>\n",
       "      <td>195.253789</td>\n",
       "      <td>208.699947</td>\n",
       "      <td>4.231182e+06</td>\n",
       "      <td>4.901053</td>\n",
       "      <td>2.153413</td>\n",
       "    </tr>\n",
       "    <tr>\n",
       "      <th>std</th>\n",
       "      <td>5.627314</td>\n",
       "      <td>60.311751</td>\n",
       "      <td>97.607447</td>\n",
       "      <td>63.859395</td>\n",
       "      <td>56.306805</td>\n",
       "      <td>58.336559</td>\n",
       "      <td>57.672653</td>\n",
       "      <td>56.225711</td>\n",
       "      <td>3.658243e+05</td>\n",
       "      <td>1.040464</td>\n",
       "      <td>2.455865</td>\n",
       "    </tr>\n",
       "    <tr>\n",
       "      <th>min</th>\n",
       "      <td>1997.000000</td>\n",
       "      <td>102.037000</td>\n",
       "      <td>123.231000</td>\n",
       "      <td>96.504000</td>\n",
       "      <td>111.108000</td>\n",
       "      <td>91.236000</td>\n",
       "      <td>92.372000</td>\n",
       "      <td>94.642000</td>\n",
       "      <td>3.674171e+06</td>\n",
       "      <td>3.490000</td>\n",
       "      <td>-4.478103</td>\n",
       "    </tr>\n",
       "    <tr>\n",
       "      <th>25%</th>\n",
       "      <td>2001.500000</td>\n",
       "      <td>187.990500</td>\n",
       "      <td>255.786500</td>\n",
       "      <td>180.128000</td>\n",
       "      <td>179.386000</td>\n",
       "      <td>162.046000</td>\n",
       "      <td>155.909000</td>\n",
       "      <td>173.740500</td>\n",
       "      <td>3.899095e+06</td>\n",
       "      <td>4.180000</td>\n",
       "      <td>1.017160</td>\n",
       "    </tr>\n",
       "    <tr>\n",
       "      <th>50%</th>\n",
       "      <td>2006.000000</td>\n",
       "      <td>233.173000</td>\n",
       "      <td>302.270000</td>\n",
       "      <td>241.127000</td>\n",
       "      <td>221.159000</td>\n",
       "      <td>212.882000</td>\n",
       "      <td>193.642000</td>\n",
       "      <td>215.439000</td>\n",
       "      <td>4.273591e+06</td>\n",
       "      <td>4.420000</td>\n",
       "      <td>2.415518</td>\n",
       "    </tr>\n",
       "    <tr>\n",
       "      <th>75%</th>\n",
       "      <td>2010.500000</td>\n",
       "      <td>259.680500</td>\n",
       "      <td>362.367500</td>\n",
       "      <td>256.372500</td>\n",
       "      <td>241.690000</td>\n",
       "      <td>229.810000</td>\n",
       "      <td>226.176500</td>\n",
       "      <td>243.755500</td>\n",
       "      <td>4.570120e+06</td>\n",
       "      <td>5.725000</td>\n",
       "      <td>3.995972</td>\n",
       "    </tr>\n",
       "    <tr>\n",
       "      <th>max</th>\n",
       "      <td>2015.000000</td>\n",
       "      <td>320.788000</td>\n",
       "      <td>484.926000</td>\n",
       "      <td>326.765000</td>\n",
       "      <td>302.208000</td>\n",
       "      <td>290.670000</td>\n",
       "      <td>295.397000</td>\n",
       "      <td>299.884000</td>\n",
       "      <td>4.701957e+06</td>\n",
       "      <td>6.900000</td>\n",
       "      <td>5.590717</td>\n",
       "    </tr>\n",
       "  </tbody>\n",
       "</table>\n",
       "</div>"
      ],
      "text/plain": [
       "              Year  Avg House Price in IE      Dublin        Cork      Galway  \\\n",
       "count    19.000000              19.000000   19.000000   19.000000   19.000000   \n",
       "mean   2006.000000             224.957632  309.492158  223.630263  215.932211   \n",
       "std       5.627314              60.311751   97.607447   63.859395   56.306805   \n",
       "min    1997.000000             102.037000  123.231000   96.504000  111.108000   \n",
       "25%    2001.500000             187.990500  255.786500  180.128000  179.386000   \n",
       "50%    2006.000000             233.173000  302.270000  241.127000  221.159000   \n",
       "75%    2010.500000             259.680500  362.367500  256.372500  241.690000   \n",
       "max    2015.000000             320.788000  484.926000  326.765000  302.208000   \n",
       "\n",
       "         Limerick   Waterford  Other Areas  Total Population  \\\n",
       "count   19.000000   19.000000    19.000000      1.900000e+01   \n",
       "mean   202.387632  195.253789   208.699947      4.231182e+06   \n",
       "std     58.336559   57.672653    56.225711      3.658243e+05   \n",
       "min     91.236000   92.372000    94.642000      3.674171e+06   \n",
       "25%    162.046000  155.909000   173.740500      3.899095e+06   \n",
       "50%    212.882000  193.642000   215.439000      4.273591e+06   \n",
       "75%    229.810000  226.176500   243.755500      4.570120e+06   \n",
       "max    290.670000  295.397000   299.884000      4.701957e+06   \n",
       "\n",
       "       Highest Mortgage Rate %  Inflation %  \n",
       "count                19.000000    19.000000  \n",
       "mean                  4.901053     2.153413  \n",
       "std                   1.040464     2.455865  \n",
       "min                   3.490000    -4.478103  \n",
       "25%                   4.180000     1.017160  \n",
       "50%                   4.420000     2.415518  \n",
       "75%                   5.725000     3.995972  \n",
       "max                   6.900000     5.590717  "
      ]
     },
     "execution_count": 99,
     "metadata": {},
     "output_type": "execute_result"
    }
   ],
   "source": [
    "# Let's describe the data to see the summary statistics of the data set \n",
    "merged_data.describe()"
   ]
  },
  {
   "cell_type": "markdown",
   "metadata": {},
   "source": [
    "* We can see that the average house price in Ireland ranges from 102,000 to 282,000 euros over the 19 years in the dataset. The standard deviation of house prices is 60,744 euros, indicating a wide range of prices\n",
    "\n",
    "* Total Population values range from around 3.7 million to 4.7 million people.\n",
    "\n",
    "* Highest Mortgage Rate % values range from 3.49% to 6.9%, with an average of around 4.9%.\n",
    "\n",
    "* Inflation % values range from -4.48% to 5.59%, with an average of around 2.15%. Negative values indicate deflation, while positive values indicate inflation."
   ]
  },
  {
   "cell_type": "code",
   "execution_count": 100,
   "metadata": {},
   "outputs": [],
   "source": [
    "mean = merged_data['Dublin'].mean() # calculate the mean of the Dublin column\n",
    "std = merged_data['Dublin'].std() # calculate the standard deviation of the Dublin column"
   ]
  },
  {
   "cell_type": "code",
   "execution_count": 101,
   "metadata": {},
   "outputs": [
    {
     "name": "stdout",
     "output_type": "stream",
     "text": [
      "Probability of average house price in Dublin being less than 300,000 euros: 0.46\n"
     ]
    }
   ],
   "source": [
    "# calculate probability of average house price in Dublin being less than 300,000 euros\n",
    "prob_less_than_300k = norm.cdf(300, loc=mean, scale=std)\n",
    "print(f\"Probability of average house price in Dublin being less than 300,000 euros: {prob_less_than_300k:.2f}\")\n"
   ]
  },
  {
   "cell_type": "code",
   "execution_count": 102,
   "metadata": {},
   "outputs": [
    {
     "name": "stdout",
     "output_type": "stream",
     "text": [
      "95% confidence interval for average house price in Dublin: (118.185078128459, 500.79923766101473)\n"
     ]
    }
   ],
   "source": [
    "# calculate 95% confidence interval for average house price in Dublin\n",
    "conf_int = norm.interval(0.95, loc=mean, scale=std)\n",
    "print(f\"95% confidence interval for average house price in Dublin: {conf_int}\")\n"
   ]
  },
  {
   "cell_type": "markdown",
   "metadata": {},
   "source": [
    "In this instance, the range of the average property price in Dublin within the 95% confidence interval is between 118,185 and 500,799 euros. "
   ]
  },
  {
   "cell_type": "code",
   "execution_count": 103,
   "metadata": {},
   "outputs": [
    {
     "name": "stdout",
     "output_type": "stream",
     "text": [
      "Probability of house price in Dublin being greater than 500,000 :  0.025482420327711367\n"
     ]
    }
   ],
   "source": [
    "norm_prop = norm(loc=mean, scale=std)\n",
    "norm_prop.sf(500.000) # calculate the survival function (1 - cdf) at x\n",
    "print(\"Probability of house price in Dublin being greater than 500,000 : \", norm_prop.sf(500.000))\n",
    "# The result of this code indicates that the probability of house price in Dublin being greater than 500,000"
   ]
  },
  {
   "cell_type": "code",
   "execution_count": 104,
   "metadata": {},
   "outputs": [
    {
     "data": {
      "image/png": "[encoded data removed]",
      "text/plain": [
       "<Figure size 640x480 with 1 Axes>"
      ]
     },
     "metadata": {},
     "output_type": "display_data"
    }
   ],
   "source": [
    "# plot histogram of average house prices in Dublin with seaborn and matplotlib \n",
    "import numpy as np\n",
    "dublin=merged_data[\"Dublin\"] # create a variable for the average house prices in Dublin\n",
    "sns.histplot(dublin, bins=10, kde=True) # plot histogram with seaborn and set the number of bins to 10 and kde to True. So we can see kernel density estimation\n",
    "plt.title('Average House Price in Dublin') # I will name the title of the histogram to Average House Price in Dublin \n",
    "plt.xlabel('Average House Price in Dublin (Thousands of Euros)') # I will change the x-axis label to Average House Price in Dublin (Thousands of Euros)\n",
    "plt.ylabel('Frequency') # I will change the y-axis label to Frequency\n",
    "plt.yticks(np.arange(0, 5, step=1)) # Update the step size of the y-axis\n",
    "plt.show() # display the histogram"
   ]
  },
  {
   "cell_type": "code",
   "execution_count": 105,
   "metadata": {},
   "outputs": [
    {
     "data": {
      "image/png": "[encoded data removed]",
      "text/plain": [
       "<Figure size 1000x1000 with 2 Axes>"
      ]
     },
     "metadata": {},
     "output_type": "display_data"
    }
   ],
   "source": [
    "plt.figure(figsize=(10, 10)) # set the size of the figure to 10 by 10\n",
    "ax = sns.heatmap(merged_data.corr(), annot=True, cmap='coolwarm', vmin=-1, vmax=1) # create the heatmap\n",
    "# I will set the annot to True to display the correlation values in the heatmap and I will set the cmap to coolwarm to display the heatmap with a coolwarm color scheme\n",
    "# I set annot True because I want to see the correlation values in the heatmap\n",
    "# vmin and vmax are the minimum and maximum values of the data set. I set them to -1 and 1 because I want to see the correlation values between -1 and 1\n",
    "\n",
    "ax.set_title('Correlation Matrix of the Data Set', fontsize=20) # set the title of the heatmap\n",
    "ax.set_xticklabels(ax.get_xticklabels(), rotation=40, horizontalalignment='right') # rotate the x-axis labels by 40 degrees\n",
    "plt.show() # display the heatmap"
   ]
  },
  {
   "cell_type": "code",
   "execution_count": 106,
   "metadata": {},
   "outputs": [
    {
     "data": {
      "image/png": "[encoded data removed]",
      "text/plain": [
       "<Figure size 800x600 with 3 Axes>"
      ]
     },
     "metadata": {},
     "output_type": "display_data"
    }
   ],
   "source": [
    "import numpy as np # import the numpy module\n",
    "\n",
    "merged_data['log_Dublin'] = np.log(merged_data['Dublin']) # create a new column called log_Dublin and store the log of the Dublin column in it\n",
    "\n",
    "sns.set_style('whitegrid') # set the style of the plots to whitegrid \n",
    "plt.figure(figsize=(8, 6)) # set the size of the figure to 8 by 6 \n",
    "\n",
    "variables = ['Inflation %', 'Total Population', 'Highest Mortgage Rate %'] # create a list of variables \n",
    "colors = ['blue', 'green', 'red'] # create a list of colors \n",
    "\n",
    "for i, variable in enumerate(variables): # loop through the variables and colors list \n",
    "    plt.subplot(2, 2, i+1) # create a subplot with 2 rows and 2 columns\n",
    "    sns.scatterplot(data=merged_data, x='log_Dublin', y=variable, color=colors[i]) # create the scatter plot\n",
    "    plt.title(f'log(Dublin) House Prices vs. {variable}', fontsize=10) # set the title of the plot to log(Dublin) House Prices vs. variable\n",
    "    plt.xlabel('log(Dublin) House Prices', fontsize=10) # set the x-axis label of the plot to log(Dublin) House Prices \n",
    "    plt.ylabel(variable, fontsize=10)\n",
    "\n",
    "plt.tight_layout()\n",
    "plt.show()\n"
   ]
  },
  {
   "cell_type": "markdown",
   "metadata": {},
   "source": [
    "Before starting further visualizing, I would like to add the source of plotly express for my lecturer Sam Weiss. The code from this website, I took the code and adjusted for my analysis:\n",
    "https://www.kaggle.com/code/durgancegaur/a-guide-to-any-classification-problem YEAR : 2022"
   ]
  },
  {
   "cell_type": "code",
   "execution_count": 107,
   "metadata": {},
   "outputs": [
    {
     "data": {
      "application/vnd.plotly.v1+json": {
       "config": {
        "plotlyServerURL": "https://plot.ly"
       },
       "data": [
        {
         "hovertemplate": "variable=Avg House Price in IE<br>Year=%{x}<br>value=%{y}<extra></extra>",
         "legendgroup": "Avg House Price in IE",
         "line": {
          "color": "#636efa",
          "dash": "solid"
         },
         "marker": {
          "symbol": "circle"
         },
         "mode": "lines",
         "name": "Avg House Price in IE",
         "orientation": "v",
         "showlegend": true,
         "type": "scatter",
         "x": [
          1997,
          1998,
          1999,
          2000,
          2001,
          2002,
          2003,
          2004,
          2005,
          2006,
          2007,
          2008,
          2009,
          2010,
          2011,
          2012,
          2013,
          2014,
          2015
         ],
         "xaxis": "x",
         "y": [
          102.037,
          124.368,
          147.043,
          166.155,
          181.146,
          194.835,
          220.573,
          244.852,
          272.034,
          297.476,
          320.788,
          304.763,
          246.315,
          233.173,
          233.77,
          223.58,
          231.532,
          247.327,
          282.428
         ],
         "yaxis": "y"
        },
        {
         "hovertemplate": "variable=Dublin<br>Year=%{x}<br>value=%{y}<extra></extra>",
         "legendgroup": "Dublin",
         "line": {
          "color": "#EF553B",
          "dash": "solid"
         },
         "marker": {
          "symbol": "circle"
         },
         "mode": "lines",
         "name": "Dublin",
         "orientation": "v",
         "showlegend": true,
         "type": "scatter",
         "x": [
          1997,
          1998,
          1999,
          2000,
          2001,
          2002,
          2003,
          2004,
          2005,
          2006,
          2007,
          2008,
          2009,
          2010,
          2011,
          2012,
          2013,
          2014,
          2015
         ],
         "xaxis": "x",
         "y": [
          123.231,
          159.558,
          191.942,
          216.433,
          252.192,
          259.381,
          302.27,
          343.251,
          386.089,
          473.634,
          484.926,
          426.861,
          294.906,
          297.294,
          333.747,
          292.004,
          321.558,
          339.59,
          381.484
         ],
         "yaxis": "y"
        },
        {
         "hovertemplate": "variable=Cork<br>Year=%{x}<br>value=%{y}<extra></extra>",
         "legendgroup": "Cork",
         "line": {
          "color": "#00cc96",
          "dash": "solid"
         },
         "marker": {
          "symbol": "circle"
         },
         "mode": "lines",
         "name": "Cork",
         "orientation": "v",
         "showlegend": true,
         "type": "scatter",
         "x": [
          1997,
          1998,
          1999,
          2000,
          2001,
          2002,
          2003,
          2004,
          2005,
          2006,
          2007,
          2008,
          2009,
          2010,
          2011,
          2012,
          2013,
          2014,
          2015
         ],
         "xaxis": "x",
         "y": [
          96.504,
          112.166,
          140.797,
          164.535,
          175.372,
          184.884,
          210.733,
          236.076,
          264.719,
          298.122,
          326.765,
          316.177,
          255.978,
          245.869,
          244.736,
          235.446,
          241.127,
          242.202,
          256.767
         ],
         "yaxis": "y"
        },
        {
         "hovertemplate": "variable=Galway<br>Year=%{x}<br>value=%{y}<extra></extra>",
         "legendgroup": "Galway",
         "line": {
          "color": "#ab63fa",
          "dash": "solid"
         },
         "marker": {
          "symbol": "circle"
         },
         "mode": "lines",
         "name": "Galway",
         "orientation": "v",
         "showlegend": true,
         "type": "scatter",
         "x": [
          1997,
          1998,
          1999,
          2000,
          2001,
          2002,
          2003,
          2004,
          2005,
          2006,
          2007,
          2008,
          2009,
          2010,
          2011,
          2012,
          2013,
          2014,
          2015
         ],
         "xaxis": "x",
         "y": [
          111.108,
          118.917,
          137.51,
          160.972,
          171.578,
          187.194,
          222.578,
          241.545,
          274.745,
          287.103,
          302.208,
          296.948,
          239.37,
          220.351,
          229.558,
          221.159,
          218.308,
          219.725,
          241.835
         ],
         "yaxis": "y"
        },
        {
         "hovertemplate": "variable=Limerick<br>Year=%{x}<br>value=%{y}<extra></extra>",
         "legendgroup": "Limerick",
         "line": {
          "color": "#FFA15A",
          "dash": "solid"
         },
         "marker": {
          "symbol": "circle"
         },
         "mode": "lines",
         "name": "Limerick",
         "orientation": "v",
         "showlegend": true,
         "type": "scatter",
         "x": [
          1997,
          1998,
          1999,
          2000,
          2001,
          2002,
          2003,
          2004,
          2005,
          2006,
          2007,
          2008,
          2009,
          2010,
          2011,
          2012,
          2013,
          2014,
          2015
         ],
         "xaxis": "x",
         "y": [
          91.236,
          104.327,
          122.146,
          146.838,
          154.515,
          169.577,
          193.854,
          209.85,
          226.773,
          282.309,
          290.67,
          278.68,
          262.654,
          226.829,
          218.341,
          213.458,
          207.635,
          212.882,
          232.791
         ],
         "yaxis": "y"
        },
        {
         "hovertemplate": "variable=Waterford<br>Year=%{x}<br>value=%{y}<extra></extra>",
         "legendgroup": "Waterford",
         "line": {
          "color": "#19d3f3",
          "dash": "solid"
         },
         "marker": {
          "symbol": "circle"
         },
         "mode": "lines",
         "name": "Waterford",
         "orientation": "v",
         "showlegend": true,
         "type": "scatter",
         "x": [
          1997,
          1998,
          1999,
          2000,
          2001,
          2002,
          2003,
          2004,
          2005,
          2006,
          2007,
          2008,
          2009,
          2010,
          2011,
          2012,
          2013,
          2014,
          2015
         ],
         "xaxis": "x",
         "y": [
          92.372,
          108.789,
          132.51,
          145.087,
          157.767,
          169.681,
          193.642,
          218.447,
          245.315,
          270.108,
          295.397,
          294.96,
          228.332,
          224.021,
          206.835,
          179.716,
          154.051,
          177.963,
          214.829
         ],
         "yaxis": "y"
        },
        {
         "hovertemplate": "variable=Other Areas<br>Year=%{x}<br>value=%{y}<extra></extra>",
         "legendgroup": "Other Areas",
         "line": {
          "color": "#FF6692",
          "dash": "solid"
         },
         "marker": {
          "symbol": "circle"
         },
         "mode": "lines",
         "name": "Other Areas",
         "orientation": "v",
         "showlegend": true,
         "type": "scatter",
         "x": [
          1997,
          1998,
          1999,
          2000,
          2001,
          2002,
          2003,
          2004,
          2005,
          2006,
          2007,
          2008,
          2009,
          2010,
          2011,
          2012,
          2013,
          2014,
          2015
         ],
         "xaxis": "x",
         "y": [
          94.642,
          116.639,
          137.031,
          154.141,
          167.493,
          179.988,
          203.421,
          228.974,
          255.73,
          278.756,
          299.884,
          286.1,
          234.696,
          221.037,
          218.561,
          210.18,
          209.772,
          215.439,
          252.815
         ],
         "yaxis": "y"
        }
       ],
       "layout": {
        "height": 600,
        "legend": {
         "title": {
          "text": "variable"
         },
         "tracegroupgap": 0
        },
        "template": {
         "data": {
          "bar": [
           {
            "error_x": {
             "color": "#2a3f5f"
            },
            "error_y": {
             "color": "#2a3f5f"
            },
            "marker": {
             "line": {
              "color": "#E5ECF6",
              "width": 0.5
             },
             "pattern": {
              "fillmode": "overlay",
              "size": 10,
              "solidity": 0.2
             }
            },
            "type": "bar"
           }
          ],
          "barpolar": [
           {
            "marker": {
             "line": {
              "color": "#E5ECF6",
              "width": 0.5
             },
             "pattern": {
              "fillmode": "overlay",
              "size": 10,
              "solidity": 0.2
             }
            },
            "type": "barpolar"
           }
          ],
          "carpet": [
           {
            "aaxis": {
             "endlinecolor": "#2a3f5f",
             "gridcolor": "white",
             "linecolor": "white",
             "minorgridcolor": "white",
             "startlinecolor": "#2a3f5f"
            },
            "baxis": {
             "endlinecolor": "#2a3f5f",
             "gridcolor": "white",
             "linecolor": "white",
             "minorgridcolor": "white",
             "startlinecolor": "#2a3f5f"
            },
            "type": "carpet"
           }
          ],
          "choropleth": [
           {
            "colorbar": {
             "outlinewidth": 0,
             "ticks": ""
            },
            "type": "choropleth"
           }
          ],
          "contour": [
           {
            "colorbar": {
             "outlinewidth": 0,
             "ticks": ""
            },
            "colorscale": [
             [
              0,
              "#0d0887"
             ],
             [
              0.1111111111111111,
              "#46039f"
             ],
             [
              0.2222222222222222,
              "#7201a8"
             ],
             [
              0.3333333333333333,
              "#9c179e"
             ],
             [
              0.4444444444444444,
              "#bd3786"
             ],
             [
              0.5555555555555556,
              "#d8576b"
             ],
             [
              0.6666666666666666,
              "#ed7953"
             ],
             [
              0.7777777777777778,
              "#fb9f3a"
             ],
             [
              0.8888888888888888,
              "#fdca26"
             ],
             [
              1,
              "#f0f921"
             ]
            ],
            "type": "contour"
           }
          ],
          "contourcarpet": [
           {
            "colorbar": {
             "outlinewidth": 0,
             "ticks": ""
            },
            "type": "contourcarpet"
           }
          ],
          "heatmap": [
           {
            "colorbar": {
             "outlinewidth": 0,
             "ticks": ""
            },
            "colorscale": [
             [
              0,
              "#0d0887"
             ],
             [
              0.1111111111111111,
              "#46039f"
             ],
             [
              0.2222222222222222,
              "#7201a8"
             ],
             [
              0.3333333333333333,
              "#9c179e"
             ],
             [
              0.4444444444444444,
              "#bd3786"
             ],
             [
              0.5555555555555556,
              "#d8576b"
             ],
             [
              0.6666666666666666,
              "#ed7953"
             ],
             [
              0.7777777777777778,
              "#fb9f3a"
             ],
             [
              0.8888888888888888,
              "#fdca26"
             ],
             [
              1,
              "#f0f921"
             ]
            ],
            "type": "heatmap"
           }
          ],
          "heatmapgl": [
           {
            "colorbar": {
             "outlinewidth": 0,
             "ticks": ""
            },
            "colorscale": [
             [
              0,
              "#0d0887"
             ],
             [
              0.1111111111111111,
              "#46039f"
             ],
             [
              0.2222222222222222,
              "#7201a8"
             ],
             [
              0.3333333333333333,
              "#9c179e"
             ],
             [
              0.4444444444444444,
              "#bd3786"
             ],
             [
              0.5555555555555556,
              "#d8576b"
             ],
             [
              0.6666666666666666,
              "#ed7953"
             ],
             [
              0.7777777777777778,
              "#fb9f3a"
             ],
             [
              0.8888888888888888,
              "#fdca26"
             ],
             [
              1,
              "#f0f921"
             ]
            ],
            "type": "heatmapgl"
           }
          ],
          "histogram": [
           {
            "marker": {
             "pattern": {
              "fillmode": "overlay",
              "size": 10,
              "solidity": 0.2
             }
            },
            "type": "histogram"
           }
          ],
          "histogram2d": [
           {
            "colorbar": {
             "outlinewidth": 0,
             "ticks": ""
            },
            "colorscale": [
             [
              0,
              "#0d0887"
             ],
             [
              0.1111111111111111,
              "#46039f"
             ],
             [
              0.2222222222222222,
              "#7201a8"
             ],
             [
              0.3333333333333333,
              "#9c179e"
             ],
             [
              0.4444444444444444,
              "#bd3786"
             ],
             [
              0.5555555555555556,
              "#d8576b"
             ],
             [
              0.6666666666666666,
              "#ed7953"
             ],
             [
              0.7777777777777778,
              "#fb9f3a"
             ],
             [
              0.8888888888888888,
              "#fdca26"
             ],
             [
              1,
              "#f0f921"
             ]
            ],
            "type": "histogram2d"
           }
          ],
          "histogram2dcontour": [
           {
            "colorbar": {
             "outlinewidth": 0,
             "ticks": ""
            },
            "colorscale": [
             [
              0,
              "#0d0887"
             ],
             [
              0.1111111111111111,
              "#46039f"
             ],
             [
              0.2222222222222222,
              "#7201a8"
             ],
             [
              0.3333333333333333,
              "#9c179e"
             ],
             [
              0.4444444444444444,
              "#bd3786"
             ],
             [
              0.5555555555555556,
              "#d8576b"
             ],
             [
              0.6666666666666666,
              "#ed7953"
             ],
             [
              0.7777777777777778,
              "#fb9f3a"
             ],
             [
              0.8888888888888888,
              "#fdca26"
             ],
             [
              1,
              "#f0f921"
             ]
            ],
            "type": "histogram2dcontour"
           }
          ],
          "mesh3d": [
           {
            "colorbar": {
             "outlinewidth": 0,
             "ticks": ""
            },
            "type": "mesh3d"
           }
          ],
          "parcoords": [
           {
            "line": {
             "colorbar": {
              "outlinewidth": 0,
              "ticks": ""
             }
            },
            "type": "parcoords"
           }
          ],
          "pie": [
           {
            "automargin": true,
            "type": "pie"
           }
          ],
          "scatter": [
           {
            "fillpattern": {
             "fillmode": "overlay",
             "size": 10,
             "solidity": 0.2
            },
            "type": "scatter"
           }
          ],
          "scatter3d": [
           {
            "line": {
             "colorbar": {
              "outlinewidth": 0,
              "ticks": ""
             }
            },
            "marker": {
             "colorbar": {
              "outlinewidth": 0,
              "ticks": ""
             }
            },
            "type": "scatter3d"
           }
          ],
          "scattercarpet": [
           {
            "marker": {
             "colorbar": {
              "outlinewidth": 0,
              "ticks": ""
             }
            },
            "type": "scattercarpet"
           }
          ],
          "scattergeo": [
           {
            "marker": {
             "colorbar": {
              "outlinewidth": 0,
              "ticks": ""
             }
            },
            "type": "scattergeo"
           }
          ],
          "scattergl": [
           {
            "marker": {
             "colorbar": {
              "outlinewidth": 0,
              "ticks": ""
             }
            },
            "type": "scattergl"
           }
          ],
          "scattermapbox": [
           {
            "marker": {
             "colorbar": {
              "outlinewidth": 0,
              "ticks": ""
             }
            },
            "type": "scattermapbox"
           }
          ],
          "scatterpolar": [
           {
            "marker": {
             "colorbar": {
              "outlinewidth": 0,
              "ticks": ""
             }
            },
            "type": "scatterpolar"
           }
          ],
          "scatterpolargl": [
           {
            "marker": {
             "colorbar": {
              "outlinewidth": 0,
              "ticks": ""
             }
            },
            "type": "scatterpolargl"
           }
          ],
          "scatterternary": [
           {
            "marker": {
             "colorbar": {
              "outlinewidth": 0,
              "ticks": ""
             }
            },
            "type": "scatterternary"
           }
          ],
          "surface": [
           {
            "colorbar": {
             "outlinewidth": 0,
             "ticks": ""
            },
            "colorscale": [
             [
              0,
              "#0d0887"
             ],
             [
              0.1111111111111111,
              "#46039f"
             ],
             [
              0.2222222222222222,
              "#7201a8"
             ],
             [
              0.3333333333333333,
              "#9c179e"
             ],
             [
              0.4444444444444444,
              "#bd3786"
             ],
             [
              0.5555555555555556,
              "#d8576b"
             ],
             [
              0.6666666666666666,
              "#ed7953"
             ],
             [
              0.7777777777777778,
              "#fb9f3a"
             ],
             [
              0.8888888888888888,
              "#fdca26"
             ],
             [
              1,
              "#f0f921"
             ]
            ],
            "type": "surface"
           }
          ],
          "table": [
           {
            "cells": {
             "fill": {
              "color": "#EBF0F8"
             },
             "line": {
              "color": "white"
             }
            },
            "header": {
             "fill": {
              "color": "#C8D4E3"
             },
             "line": {
              "color": "white"
             }
            },
            "type": "table"
           }
          ]
         },
         "layout": {
          "annotationdefaults": {
           "arrowcolor": "#2a3f5f",
           "arrowhead": 0,
           "arrowwidth": 1
          },
          "autotypenumbers": "strict",
          "coloraxis": {
           "colorbar": {
            "outlinewidth": 0,
            "ticks": ""
           }
          },
          "colorscale": {
           "diverging": [
            [
             0,
             "#8e0152"
            ],
            [
             0.1,
             "#c51b7d"
            ],
            [
             0.2,
             "#de77ae"
            ],
            [
             0.3,
             "#f1b6da"
            ],
            [
             0.4,
             "#fde0ef"
            ],
            [
             0.5,
             "#f7f7f7"
            ],
            [
             0.6,
             "#e6f5d0"
            ],
            [
             0.7,
             "#b8e186"
            ],
            [
             0.8,
             "#7fbc41"
            ],
            [
             0.9,
             "#4d9221"
            ],
            [
             1,
             "#276419"
            ]
           ],
           "sequential": [
            [
             0,
             "#0d0887"
            ],
            [
             0.1111111111111111,
             "#46039f"
            ],
            [
             0.2222222222222222,
             "#7201a8"
            ],
            [
             0.3333333333333333,
             "#9c179e"
            ],
            [
             0.4444444444444444,
             "#bd3786"
            ],
            [
             0.5555555555555556,
             "#d8576b"
            ],
            [
             0.6666666666666666,
             "#ed7953"
            ],
            [
             0.7777777777777778,
             "#fb9f3a"
            ],
            [
             0.8888888888888888,
             "#fdca26"
            ],
            [
             1,
             "#f0f921"
            ]
           ],
           "sequentialminus": [
            [
             0,
             "#0d0887"
            ],
            [
             0.1111111111111111,
             "#46039f"
            ],
            [
             0.2222222222222222,
             "#7201a8"
            ],
            [
             0.3333333333333333,
             "#9c179e"
            ],
            [
             0.4444444444444444,
             "#bd3786"
            ],
            [
             0.5555555555555556,
             "#d8576b"
            ],
            [
             0.6666666666666666,
             "#ed7953"
            ],
            [
             0.7777777777777778,
             "#fb9f3a"
            ],
            [
             0.8888888888888888,
             "#fdca26"
            ],
            [
             1,
             "#f0f921"
            ]
           ]
          },
          "colorway": [
           "#636efa",
           "#EF553B",
           "#00cc96",
           "#ab63fa",
           "#FFA15A",
           "#19d3f3",
           "#FF6692",
           "#B6E880",
           "#FF97FF",
           "#FECB52"
          ],
          "font": {
           "color": "#2a3f5f"
          },
          "geo": {
           "bgcolor": "white",
           "lakecolor": "white",
           "landcolor": "#E5ECF6",
           "showlakes": true,
           "showland": true,
           "subunitcolor": "white"
          },
          "hoverlabel": {
           "align": "left"
          },
          "hovermode": "closest",
          "mapbox": {
           "style": "light"
          },
          "paper_bgcolor": "white",
          "plot_bgcolor": "#E5ECF6",
          "polar": {
           "angularaxis": {
            "gridcolor": "white",
            "linecolor": "white",
            "ticks": ""
           },
           "bgcolor": "#E5ECF6",
           "radialaxis": {
            "gridcolor": "white",
            "linecolor": "white",
            "ticks": ""
           }
          },
          "scene": {
           "xaxis": {
            "backgroundcolor": "#E5ECF6",
            "gridcolor": "white",
            "gridwidth": 2,
            "linecolor": "white",
            "showbackground": true,
            "ticks": "",
            "zerolinecolor": "white"
           },
           "yaxis": {
            "backgroundcolor": "#E5ECF6",
            "gridcolor": "white",
            "gridwidth": 2,
            "linecolor": "white",
            "showbackground": true,
            "ticks": "",
            "zerolinecolor": "white"
           },
           "zaxis": {
            "backgroundcolor": "#E5ECF6",
            "gridcolor": "white",
            "gridwidth": 2,
            "linecolor": "white",
            "showbackground": true,
            "ticks": "",
            "zerolinecolor": "white"
           }
          },
          "shapedefaults": {
           "line": {
            "color": "#2a3f5f"
           }
          },
          "ternary": {
           "aaxis": {
            "gridcolor": "white",
            "linecolor": "white",
            "ticks": ""
           },
           "baxis": {
            "gridcolor": "white",
            "linecolor": "white",
            "ticks": ""
           },
           "bgcolor": "#E5ECF6",
           "caxis": {
            "gridcolor": "white",
            "linecolor": "white",
            "ticks": ""
           }
          },
          "title": {
           "x": 0.05
          },
          "xaxis": {
           "automargin": true,
           "gridcolor": "white",
           "linecolor": "white",
           "ticks": "",
           "title": {
            "standoff": 15
           },
           "zerolinecolor": "white",
           "zerolinewidth": 2
          },
          "yaxis": {
           "automargin": true,
           "gridcolor": "white",
           "linecolor": "white",
           "ticks": "",
           "title": {
            "standoff": 15
           },
           "zerolinecolor": "white",
           "zerolinewidth": 2
          }
         }
        },
        "title": {
         "text": "Average House Prices by Region over Time"
        },
        "width": 1000,
        "xaxis": {
         "anchor": "y",
         "domain": [
          0,
          1
         ],
         "dtick": 1,
         "title": {
          "text": "Year"
         }
        },
        "yaxis": {
         "anchor": "x",
         "domain": [
          0,
          1
         ],
         "title": {
          "text": "Price (in thousands)"
         }
        }
       }
      },
      "text/html": [
       "<div>                            <div id=\"f9aa40bf-23f9-4f00-a665-eca4eee84919\" class=\"plotly-graph-div\" style=\"height:600px; width:1000px;\"></div>            <script type=\"text/javascript\">                require([\"plotly\"], function(Plotly) {                    window.PLOTLYENV=window.PLOTLYENV || {};                                    if (document.getElementById(\"f9aa40bf-23f9-4f00-a665-eca4eee84919\")) {                    Plotly.newPlot(                        \"f9aa40bf-23f9-4f00-a665-eca4eee84919\",                        [{\"hovertemplate\":\"variable=Avg House Price in IE<br>Year=%{x}<br>value=%{y}<extra></extra>\",\"legendgroup\":\"Avg House Price in IE\",\"line\":{\"color\":\"#636efa\",\"dash\":\"solid\"},\"marker\":{\"symbol\":\"circle\"},\"mode\":\"lines\",\"name\":\"Avg House Price in IE\",\"orientation\":\"v\",\"showlegend\":true,\"x\":[1997,1998,1999,2000,2001,2002,2003,2004,2005,2006,2007,2008,2009,2010,2011,2012,2013,2014,2015],\"xaxis\":\"x\",\"y\":[102.037,124.368,147.043,166.155,181.146,194.835,220.573,244.852,272.034,297.476,320.788,304.763,246.315,233.173,233.77,223.58,231.532,247.327,282.428],\"yaxis\":\"y\",\"type\":\"scatter\"},{\"hovertemplate\":\"variable=Dublin<br>Year=%{x}<br>value=%{y}<extra></extra>\",\"legendgroup\":\"Dublin\",\"line\":{\"color\":\"#EF553B\",\"dash\":\"solid\"},\"marker\":{\"symbol\":\"circle\"},\"mode\":\"lines\",\"name\":\"Dublin\",\"orientation\":\"v\",\"showlegend\":true,\"x\":[1997,1998,1999,2000,2001,2002,2003,2004,2005,2006,2007,2008,2009,2010,2011,2012,2013,2014,2015],\"xaxis\":\"x\",\"y\":[123.231,159.558,191.942,216.433,252.192,259.381,302.27,343.251,386.089,473.634,484.926,426.861,294.906,297.294,333.747,292.004,321.558,339.59,381.484],\"yaxis\":\"y\",\"type\":\"scatter\"},{\"hovertemplate\":\"variable=Cork<br>Year=%{x}<br>value=%{y}<extra></extra>\",\"legendgroup\":\"Cork\",\"line\":{\"color\":\"#00cc96\",\"dash\":\"solid\"},\"marker\":{\"symbol\":\"circle\"},\"mode\":\"lines\",\"name\":\"Cork\",\"orientation\":\"v\",\"showlegend\":true,\"x\":[1997,1998,1999,2000,2001,2002,2003,2004,2005,2006,2007,2008,2009,2010,2011,2012,2013,2014,2015],\"xaxis\":\"x\",\"y\":[96.504,112.166,140.797,164.535,175.372,184.884,210.733,236.076,264.719,298.122,326.765,316.177,255.978,245.869,244.736,235.446,241.127,242.202,256.767],\"yaxis\":\"y\",\"type\":\"scatter\"},{\"hovertemplate\":\"variable=Galway<br>Year=%{x}<br>value=%{y}<extra></extra>\",\"legendgroup\":\"Galway\",\"line\":{\"color\":\"#ab63fa\",\"dash\":\"solid\"},\"marker\":{\"symbol\":\"circle\"},\"mode\":\"lines\",\"name\":\"Galway\",\"orientation\":\"v\",\"showlegend\":true,\"x\":[1997,1998,1999,2000,2001,2002,2003,2004,2005,2006,2007,2008,2009,2010,2011,2012,2013,2014,2015],\"xaxis\":\"x\",\"y\":[111.108,118.917,137.51,160.972,171.578,187.194,222.578,241.545,274.745,287.103,302.208,296.948,239.37,220.351,229.558,221.159,218.308,219.725,241.835],\"yaxis\":\"y\",\"type\":\"scatter\"},{\"hovertemplate\":\"variable=Limerick<br>Year=%{x}<br>value=%{y}<extra></extra>\",\"legendgroup\":\"Limerick\",\"line\":{\"color\":\"#FFA15A\",\"dash\":\"solid\"},\"marker\":{\"symbol\":\"circle\"},\"mode\":\"lines\",\"name\":\"Limerick\",\"orientation\":\"v\",\"showlegend\":true,\"x\":[1997,1998,1999,2000,2001,2002,2003,2004,2005,2006,2007,2008,2009,2010,2011,2012,2013,2014,2015],\"xaxis\":\"x\",\"y\":[91.236,104.327,122.146,146.838,154.515,169.577,193.854,209.85,226.773,282.309,290.67,278.68,262.654,226.829,218.341,213.458,207.635,212.882,232.791],\"yaxis\":\"y\",\"type\":\"scatter\"},{\"hovertemplate\":\"variable=Waterford<br>Year=%{x}<br>value=%{y}<extra></extra>\",\"legendgroup\":\"Waterford\",\"line\":{\"color\":\"#19d3f3\",\"dash\":\"solid\"},\"marker\":{\"symbol\":\"circle\"},\"mode\":\"lines\",\"name\":\"Waterford\",\"orientation\":\"v\",\"showlegend\":true,\"x\":[1997,1998,1999,2000,2001,2002,2003,2004,2005,2006,2007,2008,2009,2010,2011,2012,2013,2014,2015],\"xaxis\":\"x\",\"y\":[92.372,108.789,132.51,145.087,157.767,169.681,193.642,218.447,245.315,270.108,295.397,294.96,228.332,224.021,206.835,179.716,154.051,177.963,214.829],\"yaxis\":\"y\",\"type\":\"scatter\"},{\"hovertemplate\":\"variable=Other Areas<br>Year=%{x}<br>value=%{y}<extra></extra>\",\"legendgroup\":\"Other Areas\",\"line\":{\"color\":\"#FF6692\",\"dash\":\"solid\"},\"marker\":{\"symbol\":\"circle\"},\"mode\":\"lines\",\"name\":\"Other Areas\",\"orientation\":\"v\",\"showlegend\":true,\"x\":[1997,1998,1999,2000,2001,2002,2003,2004,2005,2006,2007,2008,2009,2010,2011,2012,2013,2014,2015],\"xaxis\":\"x\",\"y\":[94.642,116.639,137.031,154.141,167.493,179.988,203.421,228.974,255.73,278.756,299.884,286.1,234.696,221.037,218.561,210.18,209.772,215.439,252.815],\"yaxis\":\"y\",\"type\":\"scatter\"}],                        {\"template\":{\"data\":{\"histogram2dcontour\":[{\"type\":\"histogram2dcontour\",\"colorbar\":{\"outlinewidth\":0,\"ticks\":\"\"},\"colorscale\":[[0.0,\"#0d0887\"],[0.1111111111111111,\"#46039f\"],[0.2222222222222222,\"#7201a8\"],[0.3333333333333333,\"#9c179e\"],[0.4444444444444444,\"#bd3786\"],[0.5555555555555556,\"#d8576b\"],[0.6666666666666666,\"#ed7953\"],[0.7777777777777778,\"#fb9f3a\"],[0.8888888888888888,\"#fdca26\"],[1.0,\"#f0f921\"]]}],\"choropleth\":[{\"type\":\"choropleth\",\"colorbar\":{\"outlinewidth\":0,\"ticks\":\"\"}}],\"histogram2d\":[{\"type\":\"histogram2d\",\"colorbar\":{\"outlinewidth\":0,\"ticks\":\"\"},\"colorscale\":[[0.0,\"#0d0887\"],[0.1111111111111111,\"#46039f\"],[0.2222222222222222,\"#7201a8\"],[0.3333333333333333,\"#9c179e\"],[0.4444444444444444,\"#bd3786\"],[0.5555555555555556,\"#d8576b\"],[0.6666666666666666,\"#ed7953\"],[0.7777777777777778,\"#fb9f3a\"],[0.8888888888888888,\"#fdca26\"],[1.0,\"#f0f921\"]]}],\"heatmap\":[{\"type\":\"heatmap\",\"colorbar\":{\"outlinewidth\":0,\"ticks\":\"\"},\"colorscale\":[[0.0,\"#0d0887\"],[0.1111111111111111,\"#46039f\"],[0.2222222222222222,\"#7201a8\"],[0.3333333333333333,\"#9c179e\"],[0.4444444444444444,\"#bd3786\"],[0.5555555555555556,\"#d8576b\"],[0.6666666666666666,\"#ed7953\"],[0.7777777777777778,\"#fb9f3a\"],[0.8888888888888888,\"#fdca26\"],[1.0,\"#f0f921\"]]}],\"heatmapgl\":[{\"type\":\"heatmapgl\",\"colorbar\":{\"outlinewidth\":0,\"ticks\":\"\"},\"colorscale\":[[0.0,\"#0d0887\"],[0.1111111111111111,\"#46039f\"],[0.2222222222222222,\"#7201a8\"],[0.3333333333333333,\"#9c179e\"],[0.4444444444444444,\"#bd3786\"],[0.5555555555555556,\"#d8576b\"],[0.6666666666666666,\"#ed7953\"],[0.7777777777777778,\"#fb9f3a\"],[0.8888888888888888,\"#fdca26\"],[1.0,\"#f0f921\"]]}],\"contourcarpet\":[{\"type\":\"contourcarpet\",\"colorbar\":{\"outlinewidth\":0,\"ticks\":\"\"}}],\"contour\":[{\"type\":\"contour\",\"colorbar\":{\"outlinewidth\":0,\"ticks\":\"\"},\"colorscale\":[[0.0,\"#0d0887\"],[0.1111111111111111,\"#46039f\"],[0.2222222222222222,\"#7201a8\"],[0.3333333333333333,\"#9c179e\"],[0.4444444444444444,\"#bd3786\"],[0.5555555555555556,\"#d8576b\"],[0.6666666666666666,\"#ed7953\"],[0.7777777777777778,\"#fb9f3a\"],[0.8888888888888888,\"#fdca26\"],[1.0,\"#f0f921\"]]}],\"surface\":[{\"type\":\"surface\",\"colorbar\":{\"outlinewidth\":0,\"ticks\":\"\"},\"colorscale\":[[0.0,\"#0d0887\"],[0.1111111111111111,\"#46039f\"],[0.2222222222222222,\"#7201a8\"],[0.3333333333333333,\"#9c179e\"],[0.4444444444444444,\"#bd3786\"],[0.5555555555555556,\"#d8576b\"],[0.6666666666666666,\"#ed7953\"],[0.7777777777777778,\"#fb9f3a\"],[0.8888888888888888,\"#fdca26\"],[1.0,\"#f0f921\"]]}],\"mesh3d\":[{\"type\":\"mesh3d\",\"colorbar\":{\"outlinewidth\":0,\"ticks\":\"\"}}],\"scatter\":[{\"fillpattern\":{\"fillmode\":\"overlay\",\"size\":10,\"solidity\":0.2},\"type\":\"scatter\"}],\"parcoords\":[{\"type\":\"parcoords\",\"line\":{\"colorbar\":{\"outlinewidth\":0,\"ticks\":\"\"}}}],\"scatterpolargl\":[{\"type\":\"scatterpolargl\",\"marker\":{\"colorbar\":{\"outlinewidth\":0,\"ticks\":\"\"}}}],\"bar\":[{\"error_x\":{\"color\":\"#2a3f5f\"},\"error_y\":{\"color\":\"#2a3f5f\"},\"marker\":{\"line\":{\"color\":\"#E5ECF6\",\"width\":0.5},\"pattern\":{\"fillmode\":\"overlay\",\"size\":10,\"solidity\":0.2}},\"type\":\"bar\"}],\"scattergeo\":[{\"type\":\"scattergeo\",\"marker\":{\"colorbar\":{\"outlinewidth\":0,\"ticks\":\"\"}}}],\"scatterpolar\":[{\"type\":\"scatterpolar\",\"marker\":{\"colorbar\":{\"outlinewidth\":0,\"ticks\":\"\"}}}],\"histogram\":[{\"marker\":{\"pattern\":{\"fillmode\":\"overlay\",\"size\":10,\"solidity\":0.2}},\"type\":\"histogram\"}],\"scattergl\":[{\"type\":\"scattergl\",\"marker\":{\"colorbar\":{\"outlinewidth\":0,\"ticks\":\"\"}}}],\"scatter3d\":[{\"type\":\"scatter3d\",\"line\":{\"colorbar\":{\"outlinewidth\":0,\"ticks\":\"\"}},\"marker\":{\"colorbar\":{\"outlinewidth\":0,\"ticks\":\"\"}}}],\"scattermapbox\":[{\"type\":\"scattermapbox\",\"marker\":{\"colorbar\":{\"outlinewidth\":0,\"ticks\":\"\"}}}],\"scatterternary\":[{\"type\":\"scatterternary\",\"marker\":{\"colorbar\":{\"outlinewidth\":0,\"ticks\":\"\"}}}],\"scattercarpet\":[{\"type\":\"scattercarpet\",\"marker\":{\"colorbar\":{\"outlinewidth\":0,\"ticks\":\"\"}}}],\"carpet\":[{\"aaxis\":{\"endlinecolor\":\"#2a3f5f\",\"gridcolor\":\"white\",\"linecolor\":\"white\",\"minorgridcolor\":\"white\",\"startlinecolor\":\"#2a3f5f\"},\"baxis\":{\"endlinecolor\":\"#2a3f5f\",\"gridcolor\":\"white\",\"linecolor\":\"white\",\"minorgridcolor\":\"white\",\"startlinecolor\":\"#2a3f5f\"},\"type\":\"carpet\"}],\"table\":[{\"cells\":{\"fill\":{\"color\":\"#EBF0F8\"},\"line\":{\"color\":\"white\"}},\"header\":{\"fill\":{\"color\":\"#C8D4E3\"},\"line\":{\"color\":\"white\"}},\"type\":\"table\"}],\"barpolar\":[{\"marker\":{\"line\":{\"color\":\"#E5ECF6\",\"width\":0.5},\"pattern\":{\"fillmode\":\"overlay\",\"size\":10,\"solidity\":0.2}},\"type\":\"barpolar\"}],\"pie\":[{\"automargin\":true,\"type\":\"pie\"}]},\"layout\":{\"autotypenumbers\":\"strict\",\"colorway\":[\"#636efa\",\"#EF553B\",\"#00cc96\",\"#ab63fa\",\"#FFA15A\",\"#19d3f3\",\"#FF6692\",\"#B6E880\",\"#FF97FF\",\"#FECB52\"],\"font\":{\"color\":\"#2a3f5f\"},\"hovermode\":\"closest\",\"hoverlabel\":{\"align\":\"left\"},\"paper_bgcolor\":\"white\",\"plot_bgcolor\":\"#E5ECF6\",\"polar\":{\"bgcolor\":\"#E5ECF6\",\"angularaxis\":{\"gridcolor\":\"white\",\"linecolor\":\"white\",\"ticks\":\"\"},\"radialaxis\":{\"gridcolor\":\"white\",\"linecolor\":\"white\",\"ticks\":\"\"}},\"ternary\":{\"bgcolor\":\"#E5ECF6\",\"aaxis\":{\"gridcolor\":\"white\",\"linecolor\":\"white\",\"ticks\":\"\"},\"baxis\":{\"gridcolor\":\"white\",\"linecolor\":\"white\",\"ticks\":\"\"},\"caxis\":{\"gridcolor\":\"white\",\"linecolor\":\"white\",\"ticks\":\"\"}},\"coloraxis\":{\"colorbar\":{\"outlinewidth\":0,\"ticks\":\"\"}},\"colorscale\":{\"sequential\":[[0.0,\"#0d0887\"],[0.1111111111111111,\"#46039f\"],[0.2222222222222222,\"#7201a8\"],[0.3333333333333333,\"#9c179e\"],[0.4444444444444444,\"#bd3786\"],[0.5555555555555556,\"#d8576b\"],[0.6666666666666666,\"#ed7953\"],[0.7777777777777778,\"#fb9f3a\"],[0.8888888888888888,\"#fdca26\"],[1.0,\"#f0f921\"]],\"sequentialminus\":[[0.0,\"#0d0887\"],[0.1111111111111111,\"#46039f\"],[0.2222222222222222,\"#7201a8\"],[0.3333333333333333,\"#9c179e\"],[0.4444444444444444,\"#bd3786\"],[0.5555555555555556,\"#d8576b\"],[0.6666666666666666,\"#ed7953\"],[0.7777777777777778,\"#fb9f3a\"],[0.8888888888888888,\"#fdca26\"],[1.0,\"#f0f921\"]],\"diverging\":[[0,\"#8e0152\"],[0.1,\"#c51b7d\"],[0.2,\"#de77ae\"],[0.3,\"#f1b6da\"],[0.4,\"#fde0ef\"],[0.5,\"#f7f7f7\"],[0.6,\"#e6f5d0\"],[0.7,\"#b8e186\"],[0.8,\"#7fbc41\"],[0.9,\"#4d9221\"],[1,\"#276419\"]]},\"xaxis\":{\"gridcolor\":\"white\",\"linecolor\":\"white\",\"ticks\":\"\",\"title\":{\"standoff\":15},\"zerolinecolor\":\"white\",\"automargin\":true,\"zerolinewidth\":2},\"yaxis\":{\"gridcolor\":\"white\",\"linecolor\":\"white\",\"ticks\":\"\",\"title\":{\"standoff\":15},\"zerolinecolor\":\"white\",\"automargin\":true,\"zerolinewidth\":2},\"scene\":{\"xaxis\":{\"backgroundcolor\":\"#E5ECF6\",\"gridcolor\":\"white\",\"linecolor\":\"white\",\"showbackground\":true,\"ticks\":\"\",\"zerolinecolor\":\"white\",\"gridwidth\":2},\"yaxis\":{\"backgroundcolor\":\"#E5ECF6\",\"gridcolor\":\"white\",\"linecolor\":\"white\",\"showbackground\":true,\"ticks\":\"\",\"zerolinecolor\":\"white\",\"gridwidth\":2},\"zaxis\":{\"backgroundcolor\":\"#E5ECF6\",\"gridcolor\":\"white\",\"linecolor\":\"white\",\"showbackground\":true,\"ticks\":\"\",\"zerolinecolor\":\"white\",\"gridwidth\":2}},\"shapedefaults\":{\"line\":{\"color\":\"#2a3f5f\"}},\"annotationdefaults\":{\"arrowcolor\":\"#2a3f5f\",\"arrowhead\":0,\"arrowwidth\":1},\"geo\":{\"bgcolor\":\"white\",\"landcolor\":\"#E5ECF6\",\"subunitcolor\":\"white\",\"showland\":true,\"showlakes\":true,\"lakecolor\":\"white\"},\"title\":{\"x\":0.05},\"mapbox\":{\"style\":\"light\"}}},\"xaxis\":{\"anchor\":\"y\",\"domain\":[0.0,1.0],\"title\":{\"text\":\"Year\"},\"dtick\":1},\"yaxis\":{\"anchor\":\"x\",\"domain\":[0.0,1.0],\"title\":{\"text\":\"Price (in thousands)\"}},\"legend\":{\"title\":{\"text\":\"variable\"},\"tracegroupgap\":0},\"title\":{\"text\":\"Average House Prices by Region over Time\"},\"width\":1000,\"height\":600},                        {\"responsive\": true}                    ).then(function(){\n",
       "                            \n",
       "var gd = document.getElementById('f9aa40bf-23f9-4f00-a665-eca4eee84919');\n",
       "var x = new MutationObserver(function (mutations, observer) {{\n",
       "        var display = window.getComputedStyle(gd).display;\n",
       "        if (!display || display === 'none') {{\n",
       "            console.log([gd, 'removed!']);\n",
       "            Plotly.purge(gd);\n",
       "            observer.disconnect();\n",
       "        }}\n",
       "}});\n",
       "\n",
       "// Listen for the removal of the full notebook cells\n",
       "var notebookContainer = gd.closest('#notebook-container');\n",
       "if (notebookContainer) {{\n",
       "    x.observe(notebookContainer, {childList: true});\n",
       "}}\n",
       "\n",
       "// Listen for the clearing of the current output cell\n",
       "var outputEl = gd.closest('.output');\n",
       "if (outputEl) {{\n",
       "    x.observe(outputEl, {childList: true});\n",
       "}}\n",
       "\n",
       "                        })                };                });            </script>        </div>"
      ]
     },
     "metadata": {},
     "output_type": "display_data"
    }
   ],
   "source": [
    "# Import the plotly.express module as px for interactive plots\n",
    "import plotly.express as px\n",
    "\n",
    "fig = px.line(merged_data, x='Year', y=['Avg House Price in IE', 'Dublin', 'Cork', 'Galway', 'Limerick', 'Waterford', 'Other Areas'], # I will plot the average house price in Ireland and the average house price in the other regions\n",
    "              # x and y arguments are used to specify the columns to be used for the x and y axes\n",
    "              title='Average House Prices by Region over Time') # I will set the title of the figure\n",
    "fig.update_layout(xaxis_title='Year', yaxis_title='Price (in thousands)') # I will set the title of the x and y axis\n",
    "# I will change the size of the figure\n",
    "fig.update_layout(width=1000, height=600) # I will set the width and height of the figure to 1000 and 600 respectively \n",
    "# I will change the x axis step to 1 year for better readability\n",
    "fig.update_xaxes(dtick=1) # \n",
    "\n",
    "\n",
    "fig.show()"
   ]
  },
  {
   "cell_type": "code",
   "execution_count": 108,
   "metadata": {},
   "outputs": [
    {
     "data": {
      "application/vnd.plotly.v1+json": {
       "config": {
        "plotlyServerURL": "https://plot.ly"
       },
       "data": [
        {
         "hovertemplate": "variable=Inflation %<br>Year=%{x}<br>value=%{y}<extra></extra>",
         "legendgroup": "Inflation %",
         "line": {
          "color": "#636efa",
          "dash": "solid"
         },
         "marker": {
          "symbol": "circle"
         },
         "mode": "lines",
         "name": "Inflation %",
         "orientation": "v",
         "showlegend": true,
         "type": "scatter",
         "x": [
          1997,
          1998,
          1999,
          2000,
          2001,
          2002,
          2003,
          2004,
          2005,
          2006,
          2007,
          2008,
          2009,
          2010,
          2011,
          2012,
          2013,
          2014,
          2015
         ],
         "xaxis": "x",
         "y": [
          1.525605217,
          2.415517872,
          1.631923764,
          5.5907173,
          4.872904873,
          4.614733277,
          3.49048968,
          2.199628507,
          2.429691984,
          3.931639895,
          4.897115644,
          4.060304951,
          -4.478103392,
          -0.922095829,
          2.557188832,
          1.696208973,
          0.508714869,
          0.182542317,
          -0.289879079
         ],
         "yaxis": "y"
        },
        {
         "hovertemplate": "variable=Highest Mortgage Rate %<br>Year=%{x}<br>value=%{y}<extra></extra>",
         "legendgroup": "Highest Mortgage Rate %",
         "line": {
          "color": "#EF553B",
          "dash": "solid"
         },
         "marker": {
          "symbol": "circle"
         },
         "mode": "lines",
         "name": "Highest Mortgage Rate %",
         "orientation": "v",
         "showlegend": true,
         "type": "scatter",
         "x": [
          1997,
          1998,
          1999,
          2000,
          2001,
          2002,
          2003,
          2004,
          2005,
          2006,
          2007,
          2008,
          2009,
          2010,
          2011,
          2012,
          2013,
          2014,
          2015
         ],
         "xaxis": "x",
         "y": [
          6.9,
          5.85,
          5.6,
          6.09,
          6.9,
          4.7,
          4.2,
          3.49,
          3.65,
          4.86,
          5.46,
          5.86,
          4.16,
          4.02,
          4.42,
          4.33,
          4.38,
          4.2,
          4.05
         ],
         "yaxis": "y"
        }
       ],
       "layout": {
        "height": 600,
        "legend": {
         "title": {
          "text": "variable"
         },
         "tracegroupgap": 0
        },
        "margin": {
         "t": 60
        },
        "template": {
         "data": {
          "bar": [
           {
            "error_x": {
             "color": "#2a3f5f"
            },
            "error_y": {
             "color": "#2a3f5f"
            },
            "marker": {
             "line": {
              "color": "#E5ECF6",
              "width": 0.5
             },
             "pattern": {
              "fillmode": "overlay",
              "size": 10,
              "solidity": 0.2
             }
            },
            "type": "bar"
           }
          ],
          "barpolar": [
           {
            "marker": {
             "line": {
              "color": "#E5ECF6",
              "width": 0.5
             },
             "pattern": {
              "fillmode": "overlay",
              "size": 10,
              "solidity": 0.2
             }
            },
            "type": "barpolar"
           }
          ],
          "carpet": [
           {
            "aaxis": {
             "endlinecolor": "#2a3f5f",
             "gridcolor": "white",
             "linecolor": "white",
             "minorgridcolor": "white",
             "startlinecolor": "#2a3f5f"
            },
            "baxis": {
             "endlinecolor": "#2a3f5f",
             "gridcolor": "white",
             "linecolor": "white",
             "minorgridcolor": "white",
             "startlinecolor": "#2a3f5f"
            },
            "type": "carpet"
           }
          ],
          "choropleth": [
           {
            "colorbar": {
             "outlinewidth": 0,
             "ticks": ""
            },
            "type": "choropleth"
           }
          ],
          "contour": [
           {
            "colorbar": {
             "outlinewidth": 0,
             "ticks": ""
            },
            "colorscale": [
             [
              0,
              "#0d0887"
             ],
             [
              0.1111111111111111,
              "#46039f"
             ],
             [
              0.2222222222222222,
              "#7201a8"
             ],
             [
              0.3333333333333333,
              "#9c179e"
             ],
             [
              0.4444444444444444,
              "#bd3786"
             ],
             [
              0.5555555555555556,
              "#d8576b"
             ],
             [
              0.6666666666666666,
              "#ed7953"
             ],
             [
              0.7777777777777778,
              "#fb9f3a"
             ],
             [
              0.8888888888888888,
              "#fdca26"
             ],
             [
              1,
              "#f0f921"
             ]
            ],
            "type": "contour"
           }
          ],
          "contourcarpet": [
           {
            "colorbar": {
             "outlinewidth": 0,
             "ticks": ""
            },
            "type": "contourcarpet"
           }
          ],
          "heatmap": [
           {
            "colorbar": {
             "outlinewidth": 0,
             "ticks": ""
            },
            "colorscale": [
             [
              0,
              "#0d0887"
             ],
             [
              0.1111111111111111,
              "#46039f"
             ],
             [
              0.2222222222222222,
              "#7201a8"
             ],
             [
              0.3333333333333333,
              "#9c179e"
             ],
             [
              0.4444444444444444,
              "#bd3786"
             ],
             [
              0.5555555555555556,
              "#d8576b"
             ],
             [
              0.6666666666666666,
              "#ed7953"
             ],
             [
              0.7777777777777778,
              "#fb9f3a"
             ],
             [
              0.8888888888888888,
              "#fdca26"
             ],
             [
              1,
              "#f0f921"
             ]
            ],
            "type": "heatmap"
           }
          ],
          "heatmapgl": [
           {
            "colorbar": {
             "outlinewidth": 0,
             "ticks": ""
            },
            "colorscale": [
             [
              0,
              "#0d0887"
             ],
             [
              0.1111111111111111,
              "#46039f"
             ],
             [
              0.2222222222222222,
              "#7201a8"
             ],
             [
              0.3333333333333333,
              "#9c179e"
             ],
             [
              0.4444444444444444,
              "#bd3786"
             ],
             [
              0.5555555555555556,
              "#d8576b"
             ],
             [
              0.6666666666666666,
              "#ed7953"
             ],
             [
              0.7777777777777778,
              "#fb9f3a"
             ],
             [
              0.8888888888888888,
              "#fdca26"
             ],
             [
              1,
              "#f0f921"
             ]
            ],
            "type": "heatmapgl"
           }
          ],
          "histogram": [
           {
            "marker": {
             "pattern": {
              "fillmode": "overlay",
              "size": 10,
              "solidity": 0.2
             }
            },
            "type": "histogram"
           }
          ],
          "histogram2d": [
           {
            "colorbar": {
             "outlinewidth": 0,
             "ticks": ""
            },
            "colorscale": [
             [
              0,
              "#0d0887"
             ],
             [
              0.1111111111111111,
              "#46039f"
             ],
             [
              0.2222222222222222,
              "#7201a8"
             ],
             [
              0.3333333333333333,
              "#9c179e"
             ],
             [
              0.4444444444444444,
              "#bd3786"
             ],
             [
              0.5555555555555556,
              "#d8576b"
             ],
             [
              0.6666666666666666,
              "#ed7953"
             ],
             [
              0.7777777777777778,
              "#fb9f3a"
             ],
             [
              0.8888888888888888,
              "#fdca26"
             ],
             [
              1,
              "#f0f921"
             ]
            ],
            "type": "histogram2d"
           }
          ],
          "histogram2dcontour": [
           {
            "colorbar": {
             "outlinewidth": 0,
             "ticks": ""
            },
            "colorscale": [
             [
              0,
              "#0d0887"
             ],
             [
              0.1111111111111111,
              "#46039f"
             ],
             [
              0.2222222222222222,
              "#7201a8"
             ],
             [
              0.3333333333333333,
              "#9c179e"
             ],
             [
              0.4444444444444444,
              "#bd3786"
             ],
             [
              0.5555555555555556,
              "#d8576b"
             ],
             [
              0.6666666666666666,
              "#ed7953"
             ],
             [
              0.7777777777777778,
              "#fb9f3a"
             ],
             [
              0.8888888888888888,
              "#fdca26"
             ],
             [
              1,
              "#f0f921"
             ]
            ],
            "type": "histogram2dcontour"
           }
          ],
          "mesh3d": [
           {
            "colorbar": {
             "outlinewidth": 0,
             "ticks": ""
            },
            "type": "mesh3d"
           }
          ],
          "parcoords": [
           {
            "line": {
             "colorbar": {
              "outlinewidth": 0,
              "ticks": ""
             }
            },
            "type": "parcoords"
           }
          ],
          "pie": [
           {
            "automargin": true,
            "type": "pie"
           }
          ],
          "scatter": [
           {
            "fillpattern": {
             "fillmode": "overlay",
             "size": 10,
             "solidity": 0.2
            },
            "type": "scatter"
           }
          ],
          "scatter3d": [
           {
            "line": {
             "colorbar": {
              "outlinewidth": 0,
              "ticks": ""
             }
            },
            "marker": {
             "colorbar": {
              "outlinewidth": 0,
              "ticks": ""
             }
            },
            "type": "scatter3d"
           }
          ],
          "scattercarpet": [
           {
            "marker": {
             "colorbar": {
              "outlinewidth": 0,
              "ticks": ""
             }
            },
            "type": "scattercarpet"
           }
          ],
          "scattergeo": [
           {
            "marker": {
             "colorbar": {
              "outlinewidth": 0,
              "ticks": ""
             }
            },
            "type": "scattergeo"
           }
          ],
          "scattergl": [
           {
            "marker": {
             "colorbar": {
              "outlinewidth": 0,
              "ticks": ""
             }
            },
            "type": "scattergl"
           }
          ],
          "scattermapbox": [
           {
            "marker": {
             "colorbar": {
              "outlinewidth": 0,
              "ticks": ""
             }
            },
            "type": "scattermapbox"
           }
          ],
          "scatterpolar": [
           {
            "marker": {
             "colorbar": {
              "outlinewidth": 0,
              "ticks": ""
             }
            },
            "type": "scatterpolar"
           }
          ],
          "scatterpolargl": [
           {
            "marker": {
             "colorbar": {
              "outlinewidth": 0,
              "ticks": ""
             }
            },
            "type": "scatterpolargl"
           }
          ],
          "scatterternary": [
           {
            "marker": {
             "colorbar": {
              "outlinewidth": 0,
              "ticks": ""
             }
            },
            "type": "scatterternary"
           }
          ],
          "surface": [
           {
            "colorbar": {
             "outlinewidth": 0,
             "ticks": ""
            },
            "colorscale": [
             [
              0,
              "#0d0887"
             ],
             [
              0.1111111111111111,
              "#46039f"
             ],
             [
              0.2222222222222222,
              "#7201a8"
             ],
             [
              0.3333333333333333,
              "#9c179e"
             ],
             [
              0.4444444444444444,
              "#bd3786"
             ],
             [
              0.5555555555555556,
              "#d8576b"
             ],
             [
              0.6666666666666666,
              "#ed7953"
             ],
             [
              0.7777777777777778,
              "#fb9f3a"
             ],
             [
              0.8888888888888888,
              "#fdca26"
             ],
             [
              1,
              "#f0f921"
             ]
            ],
            "type": "surface"
           }
          ],
          "table": [
           {
            "cells": {
             "fill": {
              "color": "#EBF0F8"
             },
             "line": {
              "color": "white"
             }
            },
            "header": {
             "fill": {
              "color": "#C8D4E3"
             },
             "line": {
              "color": "white"
             }
            },
            "type": "table"
           }
          ]
         },
         "layout": {
          "annotationdefaults": {
           "arrowcolor": "#2a3f5f",
           "arrowhead": 0,
           "arrowwidth": 1
          },
          "autotypenumbers": "strict",
          "coloraxis": {
           "colorbar": {
            "outlinewidth": 0,
            "ticks": ""
           }
          },
          "colorscale": {
           "diverging": [
            [
             0,
             "#8e0152"
            ],
            [
             0.1,
             "#c51b7d"
            ],
            [
             0.2,
             "#de77ae"
            ],
            [
             0.3,
             "#f1b6da"
            ],
            [
             0.4,
             "#fde0ef"
            ],
            [
             0.5,
             "#f7f7f7"
            ],
            [
             0.6,
             "#e6f5d0"
            ],
            [
             0.7,
             "#b8e186"
            ],
            [
             0.8,
             "#7fbc41"
            ],
            [
             0.9,
             "#4d9221"
            ],
            [
             1,
             "#276419"
            ]
           ],
           "sequential": [
            [
             0,
             "#0d0887"
            ],
            [
             0.1111111111111111,
             "#46039f"
            ],
            [
             0.2222222222222222,
             "#7201a8"
            ],
            [
             0.3333333333333333,
             "#9c179e"
            ],
            [
             0.4444444444444444,
             "#bd3786"
            ],
            [
             0.5555555555555556,
             "#d8576b"
            ],
            [
             0.6666666666666666,
             "#ed7953"
            ],
            [
             0.7777777777777778,
             "#fb9f3a"
            ],
            [
             0.8888888888888888,
             "#fdca26"
            ],
            [
             1,
             "#f0f921"
            ]
           ],
           "sequentialminus": [
            [
             0,
             "#0d0887"
            ],
            [
             0.1111111111111111,
             "#46039f"
            ],
            [
             0.2222222222222222,
             "#7201a8"
            ],
            [
             0.3333333333333333,
             "#9c179e"
            ],
            [
             0.4444444444444444,
             "#bd3786"
            ],
            [
             0.5555555555555556,
             "#d8576b"
            ],
            [
             0.6666666666666666,
             "#ed7953"
            ],
            [
             0.7777777777777778,
             "#fb9f3a"
            ],
            [
             0.8888888888888888,
             "#fdca26"
            ],
            [
             1,
             "#f0f921"
            ]
           ]
          },
          "colorway": [
           "#636efa",
           "#EF553B",
           "#00cc96",
           "#ab63fa",
           "#FFA15A",
           "#19d3f3",
           "#FF6692",
           "#B6E880",
           "#FF97FF",
           "#FECB52"
          ],
          "font": {
           "color": "#2a3f5f"
          },
          "geo": {
           "bgcolor": "white",
           "lakecolor": "white",
           "landcolor": "#E5ECF6",
           "showlakes": true,
           "showland": true,
           "subunitcolor": "white"
          },
          "hoverlabel": {
           "align": "left"
          },
          "hovermode": "closest",
          "mapbox": {
           "style": "light"
          },
          "paper_bgcolor": "white",
          "plot_bgcolor": "#E5ECF6",
          "polar": {
           "angularaxis": {
            "gridcolor": "white",
            "linecolor": "white",
            "ticks": ""
           },
           "bgcolor": "#E5ECF6",
           "radialaxis": {
            "gridcolor": "white",
            "linecolor": "white",
            "ticks": ""
           }
          },
          "scene": {
           "xaxis": {
            "backgroundcolor": "#E5ECF6",
            "gridcolor": "white",
            "gridwidth": 2,
            "linecolor": "white",
            "showbackground": true,
            "ticks": "",
            "zerolinecolor": "white"
           },
           "yaxis": {
            "backgroundcolor": "#E5ECF6",
            "gridcolor": "white",
            "gridwidth": 2,
            "linecolor": "white",
            "showbackground": true,
            "ticks": "",
            "zerolinecolor": "white"
           },
           "zaxis": {
            "backgroundcolor": "#E5ECF6",
            "gridcolor": "white",
            "gridwidth": 2,
            "linecolor": "white",
            "showbackground": true,
            "ticks": "",
            "zerolinecolor": "white"
           }
          },
          "shapedefaults": {
           "line": {
            "color": "#2a3f5f"
           }
          },
          "ternary": {
           "aaxis": {
            "gridcolor": "white",
            "linecolor": "white",
            "ticks": ""
           },
           "baxis": {
            "gridcolor": "white",
            "linecolor": "white",
            "ticks": ""
           },
           "bgcolor": "#E5ECF6",
           "caxis": {
            "gridcolor": "white",
            "linecolor": "white",
            "ticks": ""
           }
          },
          "title": {
           "x": 0.05
          },
          "xaxis": {
           "automargin": true,
           "gridcolor": "white",
           "linecolor": "white",
           "ticks": "",
           "title": {
            "standoff": 15
           },
           "zerolinecolor": "white",
           "zerolinewidth": 2
          },
          "yaxis": {
           "automargin": true,
           "gridcolor": "white",
           "linecolor": "white",
           "ticks": "",
           "title": {
            "standoff": 15
           },
           "zerolinecolor": "white",
           "zerolinewidth": 2
          }
         }
        },
        "title": {
         "text": "Inflation and Highest Mortgage Rate over Time (%)"
        },
        "width": 1200,
        "xaxis": {
         "anchor": "y",
         "domain": [
          0,
          1
         ],
         "dtick": 1,
         "title": {
          "text": "Year"
         }
        },
        "yaxis": {
         "anchor": "x",
         "domain": [
          0,
          1
         ],
         "title": {
          "text": "Percentage (%)"
         }
        }
       }
      },
      "text/html": [
       "<div>                            <div id=\"26d9f128-7ce2-4a6b-916a-694b2729b188\" class=\"plotly-graph-div\" style=\"height:600px; width:1200px;\"></div>            <script type=\"text/javascript\">                require([\"plotly\"], function(Plotly) {                    window.PLOTLYENV=window.PLOTLYENV || {};                                    if (document.getElementById(\"26d9f128-7ce2-4a6b-916a-694b2729b188\")) {                    Plotly.newPlot(                        \"26d9f128-7ce2-4a6b-916a-694b2729b188\",                        [{\"hovertemplate\":\"variable=Inflation %<br>Year=%{x}<br>value=%{y}<extra></extra>\",\"legendgroup\":\"Inflation %\",\"line\":{\"color\":\"#636efa\",\"dash\":\"solid\"},\"marker\":{\"symbol\":\"circle\"},\"mode\":\"lines\",\"name\":\"Inflation %\",\"orientation\":\"v\",\"showlegend\":true,\"x\":[1997,1998,1999,2000,2001,2002,2003,2004,2005,2006,2007,2008,2009,2010,2011,2012,2013,2014,2015],\"xaxis\":\"x\",\"y\":[1.525605217,2.415517872,1.631923764,5.5907173,4.872904873,4.614733277,3.49048968,2.199628507,2.429691984,3.931639895,4.897115644,4.060304951,-4.478103392,-0.922095829,2.557188832,1.696208973,0.508714869,0.182542317,-0.289879079],\"yaxis\":\"y\",\"type\":\"scatter\"},{\"hovertemplate\":\"variable=Highest Mortgage Rate %<br>Year=%{x}<br>value=%{y}<extra></extra>\",\"legendgroup\":\"Highest Mortgage Rate %\",\"line\":{\"color\":\"#EF553B\",\"dash\":\"solid\"},\"marker\":{\"symbol\":\"circle\"},\"mode\":\"lines\",\"name\":\"Highest Mortgage Rate %\",\"orientation\":\"v\",\"showlegend\":true,\"x\":[1997,1998,1999,2000,2001,2002,2003,2004,2005,2006,2007,2008,2009,2010,2011,2012,2013,2014,2015],\"xaxis\":\"x\",\"y\":[6.9,5.85,5.6,6.09,6.9,4.7,4.2,3.49,3.65,4.86,5.46,5.86,4.16,4.02,4.42,4.33,4.38,4.2,4.05],\"yaxis\":\"y\",\"type\":\"scatter\"}],                        {\"template\":{\"data\":{\"histogram2dcontour\":[{\"type\":\"histogram2dcontour\",\"colorbar\":{\"outlinewidth\":0,\"ticks\":\"\"},\"colorscale\":[[0.0,\"#0d0887\"],[0.1111111111111111,\"#46039f\"],[0.2222222222222222,\"#7201a8\"],[0.3333333333333333,\"#9c179e\"],[0.4444444444444444,\"#bd3786\"],[0.5555555555555556,\"#d8576b\"],[0.6666666666666666,\"#ed7953\"],[0.7777777777777778,\"#fb9f3a\"],[0.8888888888888888,\"#fdca26\"],[1.0,\"#f0f921\"]]}],\"choropleth\":[{\"type\":\"choropleth\",\"colorbar\":{\"outlinewidth\":0,\"ticks\":\"\"}}],\"histogram2d\":[{\"type\":\"histogram2d\",\"colorbar\":{\"outlinewidth\":0,\"ticks\":\"\"},\"colorscale\":[[0.0,\"#0d0887\"],[0.1111111111111111,\"#46039f\"],[0.2222222222222222,\"#7201a8\"],[0.3333333333333333,\"#9c179e\"],[0.4444444444444444,\"#bd3786\"],[0.5555555555555556,\"#d8576b\"],[0.6666666666666666,\"#ed7953\"],[0.7777777777777778,\"#fb9f3a\"],[0.8888888888888888,\"#fdca26\"],[1.0,\"#f0f921\"]]}],\"heatmap\":[{\"type\":\"heatmap\",\"colorbar\":{\"outlinewidth\":0,\"ticks\":\"\"},\"colorscale\":[[0.0,\"#0d0887\"],[0.1111111111111111,\"#46039f\"],[0.2222222222222222,\"#7201a8\"],[0.3333333333333333,\"#9c179e\"],[0.4444444444444444,\"#bd3786\"],[0.5555555555555556,\"#d8576b\"],[0.6666666666666666,\"#ed7953\"],[0.7777777777777778,\"#fb9f3a\"],[0.8888888888888888,\"#fdca26\"],[1.0,\"#f0f921\"]]}],\"heatmapgl\":[{\"type\":\"heatmapgl\",\"colorbar\":{\"outlinewidth\":0,\"ticks\":\"\"},\"colorscale\":[[0.0,\"#0d0887\"],[0.1111111111111111,\"#46039f\"],[0.2222222222222222,\"#7201a8\"],[0.3333333333333333,\"#9c179e\"],[0.4444444444444444,\"#bd3786\"],[0.5555555555555556,\"#d8576b\"],[0.6666666666666666,\"#ed7953\"],[0.7777777777777778,\"#fb9f3a\"],[0.8888888888888888,\"#fdca26\"],[1.0,\"#f0f921\"]]}],\"contourcarpet\":[{\"type\":\"contourcarpet\",\"colorbar\":{\"outlinewidth\":0,\"ticks\":\"\"}}],\"contour\":[{\"type\":\"contour\",\"colorbar\":{\"outlinewidth\":0,\"ticks\":\"\"},\"colorscale\":[[0.0,\"#0d0887\"],[0.1111111111111111,\"#46039f\"],[0.2222222222222222,\"#7201a8\"],[0.3333333333333333,\"#9c179e\"],[0.4444444444444444,\"#bd3786\"],[0.5555555555555556,\"#d8576b\"],[0.6666666666666666,\"#ed7953\"],[0.7777777777777778,\"#fb9f3a\"],[0.8888888888888888,\"#fdca26\"],[1.0,\"#f0f921\"]]}],\"surface\":[{\"type\":\"surface\",\"colorbar\":{\"outlinewidth\":0,\"ticks\":\"\"},\"colorscale\":[[0.0,\"#0d0887\"],[0.1111111111111111,\"#46039f\"],[0.2222222222222222,\"#7201a8\"],[0.3333333333333333,\"#9c179e\"],[0.4444444444444444,\"#bd3786\"],[0.5555555555555556,\"#d8576b\"],[0.6666666666666666,\"#ed7953\"],[0.7777777777777778,\"#fb9f3a\"],[0.8888888888888888,\"#fdca26\"],[1.0,\"#f0f921\"]]}],\"mesh3d\":[{\"type\":\"mesh3d\",\"colorbar\":{\"outlinewidth\":0,\"ticks\":\"\"}}],\"scatter\":[{\"fillpattern\":{\"fillmode\":\"overlay\",\"size\":10,\"solidity\":0.2},\"type\":\"scatter\"}],\"parcoords\":[{\"type\":\"parcoords\",\"line\":{\"colorbar\":{\"outlinewidth\":0,\"ticks\":\"\"}}}],\"scatterpolargl\":[{\"type\":\"scatterpolargl\",\"marker\":{\"colorbar\":{\"outlinewidth\":0,\"ticks\":\"\"}}}],\"bar\":[{\"error_x\":{\"color\":\"#2a3f5f\"},\"error_y\":{\"color\":\"#2a3f5f\"},\"marker\":{\"line\":{\"color\":\"#E5ECF6\",\"width\":0.5},\"pattern\":{\"fillmode\":\"overlay\",\"size\":10,\"solidity\":0.2}},\"type\":\"bar\"}],\"scattergeo\":[{\"type\":\"scattergeo\",\"marker\":{\"colorbar\":{\"outlinewidth\":0,\"ticks\":\"\"}}}],\"scatterpolar\":[{\"type\":\"scatterpolar\",\"marker\":{\"colorbar\":{\"outlinewidth\":0,\"ticks\":\"\"}}}],\"histogram\":[{\"marker\":{\"pattern\":{\"fillmode\":\"overlay\",\"size\":10,\"solidity\":0.2}},\"type\":\"histogram\"}],\"scattergl\":[{\"type\":\"scattergl\",\"marker\":{\"colorbar\":{\"outlinewidth\":0,\"ticks\":\"\"}}}],\"scatter3d\":[{\"type\":\"scatter3d\",\"line\":{\"colorbar\":{\"outlinewidth\":0,\"ticks\":\"\"}},\"marker\":{\"colorbar\":{\"outlinewidth\":0,\"ticks\":\"\"}}}],\"scattermapbox\":[{\"type\":\"scattermapbox\",\"marker\":{\"colorbar\":{\"outlinewidth\":0,\"ticks\":\"\"}}}],\"scatterternary\":[{\"type\":\"scatterternary\",\"marker\":{\"colorbar\":{\"outlinewidth\":0,\"ticks\":\"\"}}}],\"scattercarpet\":[{\"type\":\"scattercarpet\",\"marker\":{\"colorbar\":{\"outlinewidth\":0,\"ticks\":\"\"}}}],\"carpet\":[{\"aaxis\":{\"endlinecolor\":\"#2a3f5f\",\"gridcolor\":\"white\",\"linecolor\":\"white\",\"minorgridcolor\":\"white\",\"startlinecolor\":\"#2a3f5f\"},\"baxis\":{\"endlinecolor\":\"#2a3f5f\",\"gridcolor\":\"white\",\"linecolor\":\"white\",\"minorgridcolor\":\"white\",\"startlinecolor\":\"#2a3f5f\"},\"type\":\"carpet\"}],\"table\":[{\"cells\":{\"fill\":{\"color\":\"#EBF0F8\"},\"line\":{\"color\":\"white\"}},\"header\":{\"fill\":{\"color\":\"#C8D4E3\"},\"line\":{\"color\":\"white\"}},\"type\":\"table\"}],\"barpolar\":[{\"marker\":{\"line\":{\"color\":\"#E5ECF6\",\"width\":0.5},\"pattern\":{\"fillmode\":\"overlay\",\"size\":10,\"solidity\":0.2}},\"type\":\"barpolar\"}],\"pie\":[{\"automargin\":true,\"type\":\"pie\"}]},\"layout\":{\"autotypenumbers\":\"strict\",\"colorway\":[\"#636efa\",\"#EF553B\",\"#00cc96\",\"#ab63fa\",\"#FFA15A\",\"#19d3f3\",\"#FF6692\",\"#B6E880\",\"#FF97FF\",\"#FECB52\"],\"font\":{\"color\":\"#2a3f5f\"},\"hovermode\":\"closest\",\"hoverlabel\":{\"align\":\"left\"},\"paper_bgcolor\":\"white\",\"plot_bgcolor\":\"#E5ECF6\",\"polar\":{\"bgcolor\":\"#E5ECF6\",\"angularaxis\":{\"gridcolor\":\"white\",\"linecolor\":\"white\",\"ticks\":\"\"},\"radialaxis\":{\"gridcolor\":\"white\",\"linecolor\":\"white\",\"ticks\":\"\"}},\"ternary\":{\"bgcolor\":\"#E5ECF6\",\"aaxis\":{\"gridcolor\":\"white\",\"linecolor\":\"white\",\"ticks\":\"\"},\"baxis\":{\"gridcolor\":\"white\",\"linecolor\":\"white\",\"ticks\":\"\"},\"caxis\":{\"gridcolor\":\"white\",\"linecolor\":\"white\",\"ticks\":\"\"}},\"coloraxis\":{\"colorbar\":{\"outlinewidth\":0,\"ticks\":\"\"}},\"colorscale\":{\"sequential\":[[0.0,\"#0d0887\"],[0.1111111111111111,\"#46039f\"],[0.2222222222222222,\"#7201a8\"],[0.3333333333333333,\"#9c179e\"],[0.4444444444444444,\"#bd3786\"],[0.5555555555555556,\"#d8576b\"],[0.6666666666666666,\"#ed7953\"],[0.7777777777777778,\"#fb9f3a\"],[0.8888888888888888,\"#fdca26\"],[1.0,\"#f0f921\"]],\"sequentialminus\":[[0.0,\"#0d0887\"],[0.1111111111111111,\"#46039f\"],[0.2222222222222222,\"#7201a8\"],[0.3333333333333333,\"#9c179e\"],[0.4444444444444444,\"#bd3786\"],[0.5555555555555556,\"#d8576b\"],[0.6666666666666666,\"#ed7953\"],[0.7777777777777778,\"#fb9f3a\"],[0.8888888888888888,\"#fdca26\"],[1.0,\"#f0f921\"]],\"diverging\":[[0,\"#8e0152\"],[0.1,\"#c51b7d\"],[0.2,\"#de77ae\"],[0.3,\"#f1b6da\"],[0.4,\"#fde0ef\"],[0.5,\"#f7f7f7\"],[0.6,\"#e6f5d0\"],[0.7,\"#b8e186\"],[0.8,\"#7fbc41\"],[0.9,\"#4d9221\"],[1,\"#276419\"]]},\"xaxis\":{\"gridcolor\":\"white\",\"linecolor\":\"white\",\"ticks\":\"\",\"title\":{\"standoff\":15},\"zerolinecolor\":\"white\",\"automargin\":true,\"zerolinewidth\":2},\"yaxis\":{\"gridcolor\":\"white\",\"linecolor\":\"white\",\"ticks\":\"\",\"title\":{\"standoff\":15},\"zerolinecolor\":\"white\",\"automargin\":true,\"zerolinewidth\":2},\"scene\":{\"xaxis\":{\"backgroundcolor\":\"#E5ECF6\",\"gridcolor\":\"white\",\"linecolor\":\"white\",\"showbackground\":true,\"ticks\":\"\",\"zerolinecolor\":\"white\",\"gridwidth\":2},\"yaxis\":{\"backgroundcolor\":\"#E5ECF6\",\"gridcolor\":\"white\",\"linecolor\":\"white\",\"showbackground\":true,\"ticks\":\"\",\"zerolinecolor\":\"white\",\"gridwidth\":2},\"zaxis\":{\"backgroundcolor\":\"#E5ECF6\",\"gridcolor\":\"white\",\"linecolor\":\"white\",\"showbackground\":true,\"ticks\":\"\",\"zerolinecolor\":\"white\",\"gridwidth\":2}},\"shapedefaults\":{\"line\":{\"color\":\"#2a3f5f\"}},\"annotationdefaults\":{\"arrowcolor\":\"#2a3f5f\",\"arrowhead\":0,\"arrowwidth\":1},\"geo\":{\"bgcolor\":\"white\",\"landcolor\":\"#E5ECF6\",\"subunitcolor\":\"white\",\"showland\":true,\"showlakes\":true,\"lakecolor\":\"white\"},\"title\":{\"x\":0.05},\"mapbox\":{\"style\":\"light\"}}},\"xaxis\":{\"anchor\":\"y\",\"domain\":[0.0,1.0],\"title\":{\"text\":\"Year\"},\"dtick\":1},\"yaxis\":{\"anchor\":\"x\",\"domain\":[0.0,1.0],\"title\":{\"text\":\"Percentage (%)\"}},\"legend\":{\"title\":{\"text\":\"variable\"},\"tracegroupgap\":0},\"margin\":{\"t\":60},\"title\":{\"text\":\"Inflation and Highest Mortgage Rate over Time (%)\"},\"width\":1200,\"height\":600},                        {\"responsive\": true}                    ).then(function(){\n",
       "                            \n",
       "var gd = document.getElementById('26d9f128-7ce2-4a6b-916a-694b2729b188');\n",
       "var x = new MutationObserver(function (mutations, observer) {{\n",
       "        var display = window.getComputedStyle(gd).display;\n",
       "        if (!display || display === 'none') {{\n",
       "            console.log([gd, 'removed!']);\n",
       "            Plotly.purge(gd);\n",
       "            observer.disconnect();\n",
       "        }}\n",
       "}});\n",
       "\n",
       "// Listen for the removal of the full notebook cells\n",
       "var notebookContainer = gd.closest('#notebook-container');\n",
       "if (notebookContainer) {{\n",
       "    x.observe(notebookContainer, {childList: true});\n",
       "}}\n",
       "\n",
       "// Listen for the clearing of the current output cell\n",
       "var outputEl = gd.closest('.output');\n",
       "if (outputEl) {{\n",
       "    x.observe(outputEl, {childList: true});\n",
       "}}\n",
       "\n",
       "                        })                };                });            </script>        </div>"
      ]
     },
     "metadata": {},
     "output_type": "display_data"
    }
   ],
   "source": [
    "fig = px.line(merged_data, x='Year', y=['Inflation %', 'Highest Mortgage Rate %']) # create the line chart\n",
    "fig.update_layout(title='Inflation and Highest Mortgage Rate over Time (%)', xaxis_title='Year', yaxis_title='Percentage (%)') # I will change the title of the figure\n",
    "fig.update_layout(width=1200, height=600)\n",
    "fig.update_xaxes(dtick=1) # I will change the x axis step to 1\n",
    "fig.show()\n"
   ]
  },
  {
   "cell_type": "markdown",
   "metadata": {},
   "source": [
    "# MACHINE LEARNING"
   ]
  },
  {
   "cell_type": "markdown",
   "metadata": {},
   "source": [
    "### Now I will start to apply a multiple regression model, lasso(l1 regularization), ridge(l2 regularization), and decision tree regressor and I will use the data from 1997-2014 for predicting the 2015 average house price in Dublin. The best model will then be the one that comes the closest."
   ]
  },
  {
   "cell_type": "code",
   "execution_count": 109,
   "metadata": {},
   "outputs": [],
   "source": [
    "# Importing the necessary libraries\n",
    "from sklearn.model_selection import GridSearchCV # Importing GridSearchCV for hyperparameter tuning\n",
    "from sklearn.linear_model import Lasso # Importing Lasso for linear regression with L1 regularization\n",
    "from sklearn.linear_model import Ridge # Importing Ridge for linear regression with L2 regularization\n",
    "from sklearn.tree import DecisionTreeRegressor # Importing DecisionTreeRegressor for decision tree regression\n",
    "from sklearn.linear_model import LinearRegression # Importing LinearRegression for linear regression\n",
    "from sklearn.model_selection import train_test_split  # Importing train_test_split for splitting the data into training and testing sets\n",
    "from sklearn.metrics import r2_score # Importing r2_score for calculating the R-squared value"
   ]
  },
  {
   "cell_type": "markdown",
   "metadata": {},
   "source": [
    "###  Multiple Regression"
   ]
  },
  {
   "cell_type": "code",
   "execution_count": 110,
   "metadata": {},
   "outputs": [
    {
     "name": "stdout",
     "output_type": "stream",
     "text": [
      "R^2 score on training set: 0.7093187766081941\n",
      "R^2 score on testing set: 0.7731555325463024\n"
     ]
    }
   ],
   "source": [
    "# Select relevant features and target variable for Dublin from 1997 to 2014\n",
    "dublin_data = merged_data.loc[(merged_data['Year'] >= 1997) & (merged_data['Year'] <= 2014), ['Dublin', 'Year', 'Total Population', 'Highest Mortgage Rate %', 'Inflation %', 'Avg House Price in IE']]\n",
    "\n",
    "# Split the data into training and testing sets\n",
    "X_train, X_test, y_train, y_test = train_test_split(dublin_data.loc[:, ['Year', 'Total Population', 'Highest Mortgage Rate %', 'Inflation %']].values, dublin_data.loc[:, 'Dublin'].values, test_size=0.2, random_state=42)\n",
    "\n",
    "# Train the model\n",
    "linear_model = LinearRegression() # Create a linear regression model\n",
    "linear_model.fit(X_train, y_train) # Train the model\n",
    "\n",
    "# Calculate R^2 using sklearn's r2_score function on the training and testing sets\n",
    "train_r2 = r2_score(y_train, linear_model.predict(X_train)) # Calculate R^2 on the training set\n",
    "test_r2 = r2_score(y_test, linear_model.predict(X_test)) # Calculate R^2 on the testing set\n",
    "print(\"R^2 score on training set:\", train_r2)   # Print R^2 on training set\n",
    "print(\"R^2 score on testing set:\", test_r2)     # Print R^2 on testing set\n"
   ]
  },
  {
   "cell_type": "markdown",
   "metadata": {},
   "source": [
    "#### Applying Lasso and Ridge regularizations to prevent any overfitting"
   ]
  },
  {
   "cell_type": "markdown",
   "metadata": {},
   "source": [
    "##### GridSearchCV Hyperparameter tuning for Lasso regularization"
   ]
  },
  {
   "cell_type": "code",
   "execution_count": 111,
   "metadata": {},
   "outputs": [
    {
     "name": "stdout",
     "output_type": "stream",
     "text": [
      "Best hyperparameters:  {'alpha': 1}\n",
      "Best score:  3694.9459243732686\n"
     ]
    }
   ],
   "source": [
    "# Define the hyperparameter grid to search\n",
    "param_grid = {\n",
    "    'alpha': [0.001, 0.01, 0.1, 1, 10, 100], # alpha is the regularization strength. It is the inverse of the regularization strength. So, a smaller alpha value specifies a stronger regularization\n",
    "}\n",
    "# alpha is the regularization strength. It is the inverse of the regularization strength. So, a smaller alpha value specifies a stronger regularization\n",
    "\n",
    "# Create a Lasso model\n",
    "lasso = Lasso()\n",
    "\n",
    "# I will use GridSearchCV to search for the best hyperparameters\n",
    "# estimator is the model to use for hyperparameter tuning\n",
    "# param_grid is the hyperparameter grid to search\n",
    "# cv is the number of folds to use for cross-validation\n",
    "# scoring is the metric to use for evaluating the model\n",
    "# n_jobs is the number of jobs to run in parallel. I set it to -1 to use all processors\n",
    "# Use GridSearchCV to search for the best hyperparameters\n",
    "grid_search = GridSearchCV(estimator=lasso, param_grid=param_grid, cv=5, scoring='neg_mean_squared_error', n_jobs=-1)\n",
    "\n",
    "# Fit the model\n",
    "grid_search.fit(X_train, y_train) \n",
    "\n",
    "# Print the best hyperparameters and corresponding score\n",
    "print(\"Best hyperparameters: \", grid_search.best_params_)\n",
    "print(\"Best score: \", -grid_search.best_score_)"
   ]
  },
  {
   "cell_type": "code",
   "execution_count": 112,
   "metadata": {},
   "outputs": [
    {
     "name": "stdout",
     "output_type": "stream",
     "text": [
      "R^2 score on training set: 0.7085058723776207\n",
      "R^2 score on testing set: 0.7581753156011952\n"
     ]
    }
   ],
   "source": [
    "# Train the model using Lasso Regression\n",
    "lasso_model = Lasso(alpha=1)  # Adjust the alpha according to the best hyperparameters\n",
    "lasso_model.fit(X_train, y_train) # Train the model\n",
    " \n",
    "# Calculate R^2 using sklearn's r2_score function on the training and testing sets\n",
    "train_r2 = r2_score(y_train, lasso_model.predict(X_train))\n",
    "test_r2 = r2_score(y_test, lasso_model.predict(X_test))\n",
    "print(\"R^2 score on training set:\", train_r2)\n",
    "print(\"R^2 score on testing set:\", test_r2)"
   ]
  },
  {
   "cell_type": "markdown",
   "metadata": {},
   "source": [
    "#### Hyperparameter tuning for Ridge regularization"
   ]
  },
  {
   "cell_type": "code",
   "execution_count": 113,
   "metadata": {},
   "outputs": [
    {
     "name": "stdout",
     "output_type": "stream",
     "text": [
      "Fitting 5 folds for each of 6 candidates, totalling 30 fits\n",
      "Best hyperparameters:  {'alpha': 1}\n",
      "Best score:  3508.033210761333\n"
     ]
    },
    {
     "data": {
      "text/plain": [
       "Ridge(alpha=1)"
      ]
     },
     "execution_count": 113,
     "metadata": {},
     "output_type": "execute_result"
    }
   ],
   "source": [
    "# Perform hyperparameter tuning using GridSearchCV\n",
    "# Create an instance of the Ridge class\n",
    "ridge = Ridge()\n",
    "# estimator is the model to be used for hyperparameter tuning\n",
    "# param_grid is the dictionary of hyperparameters to be used for tuning\n",
    "# cv is the number of folds to be used for cross-validation\n",
    "# scoring is the metric to be used for evaluating the model\n",
    "# verbose is the level of verbosity\n",
    "# n_jobs is the number of jobs to be run in parallel\n",
    "grid_search = GridSearchCV(estimator=ridge, param_grid=param_grid, cv=5, scoring='neg_mean_squared_error', verbose=2, n_jobs=-1)\n",
    "\n",
    "# Fit the model\n",
    "grid_search.fit(X_train, y_train)\n",
    "\n",
    "# Print the best hyperparameters and corresponding score\n",
    "print(\"Best hyperparameters: \", grid_search.best_params_)\n",
    "print(\"Best score: \", -grid_search.best_score_)\n",
    "\n",
    "# Train the final model on the training set with the best hyperparameters\n",
    "ridge_model = grid_search.best_estimator_\n",
    "ridge_model.fit(X_train, y_train)"
   ]
  },
  {
   "cell_type": "code",
   "execution_count": 114,
   "metadata": {},
   "outputs": [
    {
     "name": "stdout",
     "output_type": "stream",
     "text": [
      "R^2 score on training set: 0.7056400959494376\n",
      "R^2 score on testing set: 0.7424473987359418\n"
     ]
    }
   ],
   "source": [
    "# Train the model using Ridge Regression\n",
    "ridge_model = Ridge(alpha=1)  # Adjust the alpha according the GridsearchCV\n",
    "ridge_model.fit(X_train, y_train) \n",
    "\n",
    "# Calculate R^2 using sklearn's r2_score function on the training and testing sets\n",
    "train_r2 = r2_score(y_train, ridge_model.predict(X_train))\n",
    "test_r2 = r2_score(y_test, ridge_model.predict(X_test))\n",
    "print(\"R^2 score on training set:\", train_r2)\n",
    "print(\"R^2 score on testing set:\", test_r2)\n"
   ]
  },
  {
   "cell_type": "markdown",
   "metadata": {},
   "source": [
    "#### GriSearchCV for decision tree hyperparameters"
   ]
  },
  {
   "cell_type": "code",
   "execution_count": 115,
   "metadata": {},
   "outputs": [
    {
     "name": "stdout",
     "output_type": "stream",
     "text": [
      "Fitting 5 folds for each of 4180 candidates, totalling 20900 fits\n",
      "Best hyperparameters:  {'max_depth': None, 'min_samples_leaf': 1, 'min_samples_split': 13}\n"
     ]
    }
   ],
   "source": [
    "# Define the hyperparameter grid for the grid search\n",
    "param_grid = {\n",
    "    'max_depth': [None] + list(range(1, 11)),\n",
    "    'min_samples_split': range(2, 21),\n",
    "    'min_samples_leaf': range(1, 21),\n",
    "}\n",
    "\n",
    "# Initialize the Decision Tree Regressor\n",
    "tree_model = DecisionTreeRegressor(random_state=42)\n",
    "\n",
    "# Create the GridSearchCV object\n",
    "grid_search = GridSearchCV(\n",
    "    estimator=tree_model,\n",
    "    param_grid=param_grid,\n",
    "    cv=5,\n",
    "    scoring='r2',\n",
    "    n_jobs=-1,\n",
    "    verbose=1,\n",
    ")\n",
    "\n",
    "# Perform the grid search\n",
    "grid_search.fit(X_train, y_train)\n",
    "\n",
    "# Print the best hyperparameters and corresponding score\n",
    "print(\"Best hyperparameters: \", grid_search.best_params_)\n",
    "\n"
   ]
  },
  {
   "cell_type": "markdown",
   "metadata": {},
   "source": [
    "## Decision Tree Regressor"
   ]
  },
  {
   "cell_type": "code",
   "execution_count": 116,
   "metadata": {},
   "outputs": [
    {
     "name": "stdout",
     "output_type": "stream",
     "text": [
      "Decision Tree R^2 score on training set: 0.44593618319089556\n",
      "Decision Tree R^2 score on testing set: 0.6259176117954808\n"
     ]
    }
   ],
   "source": [
    "\n",
    "# Train the model using Decision Tree Regressor\n",
    "# Best hyperparameters:  {'max_depth': None, 'min_samples_leaf': 4, 'min_samples_split': 2}\n",
    "tree_model = DecisionTreeRegressor(max_depth=None, min_samples_leaf=1, min_samples_split=13, random_state=42)\n",
    "tree_model.fit(X_train, y_train)\n",
    "\n",
    "# Calculate R^2 using sklearn's r2_score function on the training and testing sets\n",
    "train_r2 = r2_score(y_train, tree_model.predict(X_train))\n",
    "test_r2 = r2_score(y_test, tree_model.predict(X_test))\n",
    "print(\"Decision Tree R^2 score on training set:\", train_r2)\n",
    "print(\"Decision Tree R^2 score on testing set:\", test_r2)\n"
   ]
  },
  {
   "cell_type": "code",
   "execution_count": 117,
   "metadata": {},
   "outputs": [
    {
     "data": {
      "image/png": "[encoded data removed]",
      "text/plain": [
       "<Figure size 1000x1000 with 4 Axes>"
      ]
     },
     "metadata": {},
     "output_type": "display_data"
    }
   ],
   "source": [
    "# Define a list of tuples containing the names and instances of the four regression models: linear_model, lasso_model, ridge_model, tree_model\n",
    "models = [('Linear Regression', linear_model), ('Lasso(L1 Regularization)', lasso_model), ('Ridge(L2 Regularization)', ridge_model), ('Decision Tree Regression', tree_model)]\n",
    "\n",
    "# Create a figure with 2x2 subplots and adjust the figure size to 10x10 inches \n",
    "fig, axes = plt.subplots(2, 2, figsize=(10, 10))\n",
    "fig.suptitle('Model Comparisons') # Change the title to 'Regression Model Predictions'\n",
    "\n",
    "# Loop through the list of tuples containing the names and instances of the four regression models\n",
    "# The zip() function combines the models and axes, while axes.flatten() is used to organize the subplots in a single row:\n",
    "\n",
    "for (model_name, model), ax in zip(models, axes.flatten()): # Change the axes to axes.flatten() to plot all the subplots in one row \n",
    "\n",
    "    #Predict the target values for the training and test sets using the present model inside the loop:\n",
    "    y_train_pred, y_test_pred = model.predict(X_train), model.predict(X_test)\n",
    "    \n",
    "    # Use scatter plots to compare the true values for the training and testing sets to the anticipated values. \n",
    "    # The labels \"Train\" and \"Test\" are added for each each plot:\n",
    "    ax.scatter(y_train, y_train_pred, label='Train', alpha=0.7) # The alpha parameter in the scatter plot is only related to the opacity of the data points\n",
    "    ax.scatter(y_test, y_test_pred, label='Test', alpha=0.7)    # in the visualization and has no impact on the model's training or performance.\n",
    "    # Label the x and y axes as \"True Values\" and \"Predicted Values,\" respectively, and set the current subplot's title to the name of the current model(model_name):\n",
    "    ax.set_title(model_name)\n",
    "    ax.set_xlabel('True Values')\n",
    "    ax.set_ylabel('Predicted Values')\n",
    "    # Add a legend to the current subplot to distinguish between the training and testing sets:\n",
    "    ax.legend()\n",
    "# After the loop, modify the placement of the subplots to avoid duplication and guarantee appropriate spacing:\n",
    "# 0 for left, 0.03 for bottom, 1 for right, 0.95 for top\n",
    "plt.tight_layout(rect=[0, 0.03, 1, 0.95])\n",
    "plt.show()\n"
   ]
  },
  {
   "cell_type": "markdown",
   "metadata": {},
   "source": [
    "The Decision Tree Regression model has created a tree with a few splits, resulting in two different regions with distinct predicted values. The presence of two horizontal lines indicates that the Decision Tree has created two distinct levels of predictions. The Decision Tree made predictions based on the structure of the tree itself, while the other models rely on linear combinations of input features."
   ]
  },
  {
   "cell_type": "markdown",
   "metadata": {},
   "source": [
    "# Using the Multiple Linear Regression Model to predict 2015 Dublin house prices"
   ]
  },
  {
   "cell_type": "code",
   "execution_count": 118,
   "metadata": {},
   "outputs": [
    {
     "name": "stdout",
     "output_type": "stream",
     "text": [
      "Predicted Dublin house price in 2015: 278.13597255561035\n",
      "Actual Dublin house price in 2015: 381.484\n"
     ]
    }
   ],
   "source": [
    "# Select data from 1997 to 2014\n",
    "train_data = merged_data.loc[(merged_data['Year'] >= 1997) & (merged_data['Year'] <= 2014), ['Year', 'Total Population', 'Highest Mortgage Rate %', 'Inflation %', 'Dublin']]\n",
    "\n",
    "# Train a linear regression model on the training data\n",
    "linear_model = LinearRegression().fit(train_data.drop('Dublin', axis=1), train_data['Dublin'])\n",
    "\n",
    "# Predict the values for 2015 and get the actual value\n",
    "predicted_dublin_2015_linear, actual_dublin_2015 = linear_model.predict(merged_data.loc[merged_data['Year'] == 2015, ['Year', 'Total Population', 'Highest Mortgage Rate %', 'Inflation %']])[0], merged_data.loc[merged_data['Year'] == 2015, 'Dublin'].values[0]\n",
    "\n",
    "# Print the predicted and actual values for Dublin house prices in 2015\n",
    "print(\"Predicted Dublin house price in 2015:\", predicted_dublin_2015_linear)\n",
    "print(\"Actual Dublin house price in 2015:\", actual_dublin_2015)\n"
   ]
  },
  {
   "cell_type": "markdown",
   "metadata": {},
   "source": [
    "## Using the Lasso Regularization"
   ]
  },
  {
   "cell_type": "code",
   "execution_count": 119,
   "metadata": {},
   "outputs": [
    {
     "name": "stdout",
     "output_type": "stream",
     "text": [
      "Predicted Dublin house price in 2015 (using Lasso regression): 278.6426605572633\n",
      "Actual Dublin house price in 2015: 381.484\n"
     ]
    }
   ],
   "source": [
    "# Train a Lasso regression model on the training data\n",
    "lasso_model = Lasso(alpha=0.1).fit(train_data.drop('Dublin', axis=1), train_data['Dublin'])\n",
    "\n",
    "# Predict the values for 2015 and get the actual value\n",
    "predicted_dublin_2015_lasso, actual_dublin_2015 = lasso_model.predict(merged_data.loc[merged_data['Year'] == 2015, ['Year', 'Total Population', 'Highest Mortgage Rate %', 'Inflation %']])[0], merged_data.loc[merged_data['Year'] == 2015, 'Dublin'].values[0]\n",
    "\n",
    "# Print the predicted and actual values for Dublin house prices in 2015\n",
    "print(\"Predicted Dublin house price in 2015 (using Lasso regression):\", predicted_dublin_2015_lasso)\n",
    "print(\"Actual Dublin house price in 2015:\", actual_dublin_2015)"
   ]
  },
  {
   "cell_type": "markdown",
   "metadata": {},
   "source": [
    "## Ridge Regression"
   ]
  },
  {
   "cell_type": "code",
   "execution_count": 120,
   "metadata": {},
   "outputs": [
    {
     "name": "stdout",
     "output_type": "stream",
     "text": [
      "Predicted Dublin house price in 2015 (using Ridge regression): 279.22285917158297\n",
      "Actual Dublin house price in 2015: 381.484\n"
     ]
    }
   ],
   "source": [
    "# Train a Ridge regression model on the training data\n",
    "ridge_model = Ridge(alpha=0.1).fit(train_data.drop('Dublin', axis=1), train_data['Dublin'])\n",
    "\n",
    "# Predict the values for 2015 and get the actual value\n",
    "predicted_dublin_2015_ridge, actual_dublin_2015 = ridge_model.predict(merged_data.loc[merged_data['Year'] == 2015, ['Year', 'Total Population', 'Highest Mortgage Rate %', 'Inflation %']])[0], merged_data.loc[merged_data['Year'] == 2015, 'Dublin'].values[0]\n",
    "\n",
    "# Print the predicted and actual values for Dublin house prices in 2015\n",
    "print(\"Predicted Dublin house price in 2015 (using Ridge regression):\", predicted_dublin_2015_ridge)\n",
    "print(\"Actual Dublin house price in 2015:\", actual_dublin_2015)"
   ]
  },
  {
   "cell_type": "markdown",
   "metadata": {},
   "source": [
    "## Decision Tree"
   ]
  },
  {
   "cell_type": "code",
   "execution_count": 121,
   "metadata": {},
   "outputs": [
    {
     "name": "stdout",
     "output_type": "stream",
     "text": [
      "Predicted Dublin house price in 2015 (using decision tree regressor): 339.59\n",
      "Actual Dublin house price in 2015: 381.484\n"
     ]
    }
   ],
   "source": [
    "# Train a decision tree regressor on the training data\n",
    "dt_regressor = DecisionTreeRegressor().fit(train_data.drop('Dublin', axis=1), train_data['Dublin'])\n",
    "\n",
    "# Predict the values for 2015 and get the actual value\n",
    "predicted_dublin_2015_dt, actual_dublin_2015 = dt_regressor.predict(merged_data.loc[merged_data['Year'] == 2015, ['Year', 'Total Population', 'Highest Mortgage Rate %', 'Inflation %']])[0], merged_data.loc[merged_data['Year'] == 2015, 'Dublin'].values[0]\n",
    "\n",
    "# Print the predicted and actual values for Dublin house prices in 2015\n",
    "print(\"Predicted Dublin house price in 2015 (using decision tree regressor):\", predicted_dublin_2015_dt)\n",
    "print(\"Actual Dublin house price in 2015:\", actual_dublin_2015)"
   ]
  },
  {
   "cell_type": "code",
   "execution_count": 122,
   "metadata": {},
   "outputs": [
    {
     "data": {
      "image/png": "[encoded data removed]",
      "text/plain": [
       "<Figure size 640x480 with 1 Axes>"
      ]
     },
     "metadata": {},
     "output_type": "display_data"
    }
   ],
   "source": [
    "# Collect predicted values for each model in a list\n",
    "predictions = [predicted_dublin_2015_linear, predicted_dublin_2015_lasso, predicted_dublin_2015_ridge, predicted_dublin_2015_dt]\n",
    "\n",
    "# Create a list of model names\n",
    "model_names = ['Linear', 'Lasso', 'Ridge', 'Decision Tree']\n",
    "\n",
    "# Create a bar plot \n",
    "y_pos = np.arange(len(model_names)) # Create a list of integers from 0 to the number of models\n",
    "plt.bar(y_pos, predictions, align='center', alpha=0.5) # Create a bar plot using the predictions and model names\n",
    "plt.xticks(y_pos, model_names) # Add model names as x-axis tick labels\n",
    "plt.ylabel('Predicted House Prices') # Add y-axis label\n",
    "plt.title('Predicted vs Actual Dublin House Price in 2015 by Model') # Add plot title\n",
    "plt.ylim(0, 500) # Set the y-axis limit to 0 and 500\n",
    "\n",
    "# Add the actual value as a horizontal line\n",
    "plt.axhline(y=actual_dublin_2015, color='r', linestyle='--', label='Actual House Price in Dublin in 2015') # Add a horizontal line using the actual value\n",
    "plt.legend() # Display the legend\n",
    "\n",
    "# Display the plot\n",
    "plt.show();\n"
   ]
  },
  {
   "cell_type": "markdown",
   "metadata": {},
   "source": [
    "# The closest result is from Decision Tree"
   ]
  },
  {
   "cell_type": "markdown",
   "metadata": {},
   "source": [
    "While linear models like Linear Regression, Lasso Regression, and Ridge Regression assume a linear relationship, Decision Trees can capture non-linear correlations between data and the target variable. A Decision Tree tends to perform better if the relationship between the features and the target variable is non-linear. "
   ]
  }
 ],
 "metadata": {
  "kernelspec": {
   "display_name": "Python 3 (ipykernel)",
   "language": "python",
   "name": "python3"
  },
  "language_info": {
   "codemirror_mode": {
    "name": "ipython",
    "version": 3
   },
   "file_extension": ".py",
   "mimetype": "text/x-python",
   "name": "python",
   "nbconvert_exporter": "python",
   "pygments_lexer": "ipython3",
   "version": "3.9.13"
  },
  "vscode": {
   "interpreter": {
    "hash": "40d3a090f54c6569ab1632332b64b2c03c39dcf918b08424e98f38b5ae0af88f"
   }
  }
 },
 "nbformat": 4,
 "nbformat_minor": 2
}
